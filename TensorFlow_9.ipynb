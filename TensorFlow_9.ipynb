{
 "cells": [
  {
   "cell_type": "markdown",
   "metadata": {},
   "source": [
    "# Softmax classifier"
   ]
  },
  {
   "cell_type": "code",
   "execution_count": 1,
   "metadata": {},
   "outputs": [],
   "source": [
    "import numpy as np\n",
    "import tensorflow as tf"
   ]
  },
  {
   "cell_type": "code",
   "execution_count": 2,
   "metadata": {},
   "outputs": [
    {
     "name": "stdout",
     "output_type": "stream",
     "text": [
      "[[1. 2. 1. 0. 0. 1.]\n",
      " [1. 3. 2. 0. 0. 1.]\n",
      " [1. 3. 4. 0. 0. 1.]\n",
      " [1. 5. 5. 0. 1. 0.]\n",
      " [1. 7. 5. 0. 1. 0.]\n",
      " [1. 2. 5. 0. 1. 0.]\n",
      " [1. 6. 6. 1. 0. 0.]\n",
      " [1. 7. 7. 1. 0. 0.]]\n"
     ]
    }
   ],
   "source": [
    "xy = np.loadtxt('DataSet/softmax.txt', dtype = np.float32)\n",
    "print(xy)"
   ]
  },
  {
   "cell_type": "code",
   "execution_count": 3,
   "metadata": {},
   "outputs": [
    {
     "name": "stdout",
     "output_type": "stream",
     "text": [
      "[[1. 2. 1.]\n",
      " [1. 3. 2.]\n",
      " [1. 3. 4.]\n",
      " [1. 5. 5.]\n",
      " [1. 7. 5.]\n",
      " [1. 2. 5.]\n",
      " [1. 6. 6.]\n",
      " [1. 7. 7.]]\n",
      "[[0. 0. 1.]\n",
      " [0. 0. 1.]\n",
      " [0. 0. 1.]\n",
      " [0. 1. 0.]\n",
      " [0. 1. 0.]\n",
      " [0. 1. 0.]\n",
      " [1. 0. 0.]\n",
      " [1. 0. 0.]]\n"
     ]
    }
   ],
   "source": [
    "xx = xy[:, :3]\n",
    "y = xy[:, 3:]\n",
    "print(xx)\n",
    "print(y)"
   ]
  },
  {
   "cell_type": "code",
   "execution_count": 6,
   "metadata": {},
   "outputs": [
    {
     "name": "stdout",
     "output_type": "stream",
     "text": [
      "1.0678048\n",
      "0.6996808\n",
      "0.5945788\n",
      "0.53582877\n",
      "0.49431214\n",
      "0.4619158\n",
      "0.4353428\n",
      "0.4128906\n",
      "0.3935346\n",
      "0.37659502\n",
      "0.36159125\n"
     ]
    }
   ],
   "source": [
    "x= tf.placeholder(tf.float32)\n",
    "w = tf.Variable(tf.zeros([3,3])) # x 개수, y 개수\n",
    "z = tf.matmul(x,w)\n",
    "hf = tf.nn.softmax(z) # z값이 확률로 출력\n",
    "cost = tf.reduce_mean(-tf.reduce_sum(y * tf.log(hf), axis=1)) \n",
    "optimizer = tf.train.GradientDescentOptimizer(learning_rate=0.1)\n",
    "train = optimizer.minimize(cost)\n",
    "\n",
    "sess = tf.Session()\n",
    "sess.run(tf.global_variables_initializer())\n",
    "for i in range(2001):\n",
    "    sess.run(train, feed_dict = {x : xx})\n",
    "    if i % 200 == 0 :\n",
    "        print(sess.run(cost, feed_dict = {x:xx}))"
   ]
  },
  {
   "cell_type": "code",
   "execution_count": 9,
   "metadata": {},
   "outputs": [
    {
     "name": "stdout",
     "output_type": "stream",
     "text": [
      "[[8.7813419e-01 1.2148806e-01 3.7768690e-04]\n",
      " [4.4764925e-02 4.4394752e-01 5.1128757e-01]]\n"
     ]
    }
   ],
   "source": [
    "# 예측값 적용\n",
    "yhat = sess.run(hf, feed_dict = {x:[[1, 11, 7],\n",
    "                                   [1, 3, 4]]})\n",
    "print(yhat)"
   ]
  },
  {
   "cell_type": "code",
   "execution_count": 12,
   "metadata": {},
   "outputs": [
    {
     "name": "stdout",
     "output_type": "stream",
     "text": [
      "[0 2]\n"
     ]
    }
   ],
   "source": [
    "# argmax로 인덱스 출력\n",
    "grades = ['A', 'B', 'C']\n",
    "yhat2 = sess.run(tf.argmax(yhat, axis = 1))\n",
    "print(yhat2)"
   ]
  },
  {
   "cell_type": "code",
   "execution_count": 18,
   "metadata": {},
   "outputs": [
    {
     "name": "stdout",
     "output_type": "stream",
     "text": [
      "A C\n"
     ]
    }
   ],
   "source": [
    "# 인덱스 값 출력\n",
    "print(grades[yhat2[0]],grades[yhat2[1]])"
   ]
  },
  {
   "cell_type": "code",
   "execution_count": 17,
   "metadata": {},
   "outputs": [
    {
     "name": "stdout",
     "output_type": "stream",
     "text": [
      "['A' 'C']\n"
     ]
    }
   ],
   "source": [
    "# numpy 이용\n",
    "grades = np.array(['A', 'B', 'C'])\n",
    "print(grades[yhat2])"
   ]
  },
  {
   "cell_type": "markdown",
   "metadata": {},
   "source": [
    "* * *"
   ]
  },
  {
   "cell_type": "code",
   "execution_count": 20,
   "metadata": {},
   "outputs": [
    {
     "name": "stdout",
     "output_type": "stream",
     "text": [
      "0.6590011388859678\n",
      "0.2424329707047139\n",
      "0.09856589040931818\n"
     ]
    }
   ],
   "source": [
    "import math\n",
    "def softmax() :\n",
    "    aa = math.e**2.0\n",
    "    bb = math.e**1.0\n",
    "    cc = math.e**0.1\n",
    "    base = aa+bb+cc\n",
    "    print(aa/base)\n",
    "    print(bb/base)\n",
    "    print(cc/base)\n",
    "softmax()"
   ]
  },
  {
   "cell_type": "markdown",
   "metadata": {},
   "source": [
    "* * *"
   ]
  },
  {
   "cell_type": "markdown",
   "metadata": {},
   "source": [
    "# Iiris data "
   ]
  },
  {
   "cell_type": "markdown",
   "metadata": {},
   "source": [
    "[문제]\n",
    "120개의 트레이닝 데이터셋 모델 작성, 30개의 test 데이터셋으로 검증\n"
   ]
  },
  {
   "cell_type": "code",
   "execution_count": 35,
   "metadata": {},
   "outputs": [
    {
     "name": "stdout",
     "output_type": "stream",
     "text": [
      "iris_shape (150, 8)\n",
      "train_set (120, 8)\n",
      "test_set (30, 8)\n",
      "xx (120, 5)\n",
      "y (120, 3)\n"
     ]
    }
   ],
   "source": [
    "def read_iris_sotfmax() :\n",
    "    iris = np.loadtxt('DataSet/iris_softmax.csv', delimiter=',', dtype = np.float32)\n",
    "    print(\"iris_shape\",iris.shape)\n",
    "    train_set = np.vstack((iris[:40],iris[50:90],iris[100:140]))\n",
    "    print(\"train_set\", train_set.shape)\n",
    "    test_set = np.vstack((iris[40:50],iris[90:100],iris[140:]))\n",
    "    print(\"test_set\",test_set.shape)\n",
    "    return train_set, test_set\n",
    "train_set, test_set = read_iris_sotfmax()\n",
    "xx = train_set[:,:-3]\n",
    "print(\"xx\",xx.shape)\n",
    "y = train_set[:,-3:]\n",
    "print(\"y\",y.shape)"
   ]
  },
  {
   "cell_type": "code",
   "execution_count": 39,
   "metadata": {},
   "outputs": [
    {
     "name": "stdout",
     "output_type": "stream",
     "text": [
      "0 1.0858719\n",
      "200 0.5771965\n",
      "400 0.47585264\n",
      "600 0.4235805\n",
      "800 0.38760206\n",
      "1000 0.35984558\n",
      "1200 0.33722714\n",
      "1400 0.31822267\n",
      "1600 0.30194062\n",
      "1800 0.28779697\n",
      "2000 0.27537963\n"
     ]
    }
   ],
   "source": [
    "x = tf.placeholder(tf.float32)\n",
    "w = tf.Variable(tf.zeros([5,3]))\n",
    "z = tf.matmul(x, w) # (120,3) = (120,5) * (120,3)\n",
    "hf = tf.nn.softmax(z)\n",
    "cost = tf.reduce_mean(tf.reduce_sum(y*-tf.log(hf), axis = 1))\n",
    "\n",
    "optimizer = tf.train.GradientDescentOptimizer(0.01)\n",
    "train = optimizer.minimize(cost)\n",
    "\n",
    "sess = tf.Session()\n",
    "sess.run(tf.global_variables_initializer())\n",
    "\n",
    "for i in range(2001):\n",
    "    sess.run(train, feed_dict={x:xx})\n",
    "    if i % 200 == 0 :\n",
    "        print(i, sess.run(cost, feed_dict={x:xx}))"
   ]
  },
  {
   "cell_type": "code",
   "execution_count": 43,
   "metadata": {},
   "outputs": [
    {
     "name": "stdout",
     "output_type": "stream",
     "text": [
      "xx (30, 5)\n",
      "y (30, 3)\n",
      "\n",
      "yhat\n",
      " [[9.6243662e-01 3.7443753e-02 1.1969174e-04]\n",
      " [8.1496149e-01 1.8313871e-01 1.8998071e-03]\n",
      " [9.4292545e-01 5.6707352e-02 3.6727288e-04]\n",
      " [9.3218017e-01 6.7333922e-02 4.8593152e-04]\n",
      " [9.3477923e-01 6.4790159e-02 4.3053160e-04]\n",
      " [9.1286993e-01 8.6612165e-02 5.1792967e-04]\n",
      " [9.6230567e-01 3.7568856e-02 1.2544835e-04]\n",
      " [9.3470258e-01 6.4909935e-02 3.8758674e-04]\n",
      " [9.6364492e-01 3.6267221e-02 8.7860179e-05]\n",
      " [9.4487053e-01 5.4931305e-02 1.9815772e-04]\n",
      " [1.8128432e-02 5.4351842e-01 4.3835312e-01]\n",
      " [2.5485115e-02 6.1918533e-01 3.5532945e-01]\n",
      " [4.7125529e-02 7.2125375e-01 2.3162067e-01]\n",
      " [9.6438192e-02 7.1699411e-01 1.8656772e-01]\n",
      " [3.1403296e-02 6.1277360e-01 3.5582313e-01]\n",
      " [5.6197319e-02 6.7787105e-01 2.6593164e-01]\n",
      " [4.4726428e-02 6.5059632e-01 3.0467725e-01]\n",
      " [4.4670098e-02 7.3072410e-01 2.2460587e-01]\n",
      " [1.9530220e-01 6.9732708e-01 1.0737081e-01]\n",
      " [4.6829741e-02 6.6835839e-01 2.8481191e-01]\n",
      " [1.2283019e-03 1.9308437e-01 8.0568725e-01]\n",
      " [6.2384736e-03 4.1091466e-01 5.8284688e-01]\n",
      " [2.0011624e-03 2.1468619e-01 7.8331268e-01]\n",
      " [8.1766624e-04 1.7150401e-01 8.2767838e-01]\n",
      " [1.1564874e-03 1.6803896e-01 8.3080459e-01]\n",
      " [3.4660399e-03 3.1490013e-01 6.8163383e-01]\n",
      " [2.8781388e-03 3.3427432e-01 6.6284752e-01]\n",
      " [4.3070908e-03 3.4822172e-01 6.4747119e-01]\n",
      " [2.6060347e-03 1.9330148e-01 8.0409247e-01]\n",
      " [4.3329173e-03 2.8734839e-01 7.0831865e-01]]\n"
     ]
    }
   ],
   "source": [
    "# test 데이터셋을 이용한 모델검증\n",
    "\n",
    "xx = test_set[:,:-3] \n",
    "print(\"xx\",xx.shape)\n",
    "y = test_set[:,-3:]\n",
    "print(\"y\",y.shape)\n",
    "\n",
    "yhat = sess.run(hf, feed_dict={x:xx})\n",
    "print(\"\\nyhat\\n\",yhat)"
   ]
  },
  {
   "cell_type": "code",
   "execution_count": 57,
   "metadata": {},
   "outputs": [
    {
     "name": "stdout",
     "output_type": "stream",
     "text": [
      "예측값 :  [0 0 0 0 0 0 0 0 0 0 1 1 1 1 1 1 1 1 1 1 2 2 2 2 2 2 2 2 2 2]\n",
      "실제값 :  [0 0 0 0 0 0 0 0 0 0 1 1 1 1 1 1 1 1 1 1 2 2 2 2 2 2 2 2 2 2]\n",
      "[ True  True  True  True  True  True  True  True  True  True  True  True\n",
      "  True  True  True  True  True  True  True  True  True  True  True  True\n",
      "  True  True  True  True  True  True]\n",
      "[1. 1. 1. 1. 1. 1. 1. 1. 1. 1. 1. 1. 1. 1. 1. 1. 1. 1. 1. 1. 1. 1. 1. 1.\n",
      " 1. 1. 1. 1. 1. 1.]\n",
      "1.0\n"
     ]
    }
   ],
   "source": [
    "# tensorflow를 이용한 검증\n",
    "\n",
    "yhat2 = sess.run(tf.argmax(yhat, axis = 1))\n",
    "print(\"예측값 : \", yhat2)\n",
    "y2 = sess.run(tf.argmax(y, axis = 1))\n",
    "print(\"실제값 : \",y2)\n",
    "\n",
    "equal = sess.run(tf.equal(yhat2,y2))\n",
    "print(equal)\n",
    "\n",
    "cast = sess.run(tf.cast(equal, tf.float32))\n",
    "print(cast)\n",
    "\n",
    "mean = sess.run(tf.reduce_mean(cast))\n",
    "print(mean)"
   ]
  },
  {
   "cell_type": "markdown",
   "metadata": {},
   "source": [
    "* * *"
   ]
  },
  {
   "cell_type": "code",
   "execution_count": 58,
   "metadata": {},
   "outputs": [
    {
     "name": "stdout",
     "output_type": "stream",
     "text": [
      "[0 0 0 0 0 0 0 0 0 0 1 1 1 1 1 1 1 1 1 1 2 2 2 2 2 2 2 2 2 2]\n",
      "[0 0 0 0 0 0 0 0 0 0 1 1 1 1 1 1 1 1 1 1 2 2 2 2 2 2 2 2 2 2]\n",
      "[ True  True  True  True  True  True  True  True  True  True  True  True\n",
      "  True  True  True  True  True  True  True  True  True  True  True  True\n",
      "  True  True  True  True  True  True]\n",
      "1.0\n"
     ]
    }
   ],
   "source": [
    "# numpy를 이용한 검증\n",
    "\n",
    "yhat2 = np.argmax(yhat, axis = 1)\n",
    "print(yhat2)\n",
    "y2 = np.argmax(y, axis = 1)\n",
    "print(y2)\n",
    "\n",
    "equal = (yhat2 == y2)\n",
    "print(equal)\n",
    "\n",
    "mean = np.mean(equal)\n",
    "print(mean)"
   ]
  }
 ],
 "metadata": {
  "kernelspec": {
   "display_name": "Python 3",
   "language": "python",
   "name": "python3"
  },
  "language_info": {
   "codemirror_mode": {
    "name": "ipython",
    "version": 3
   },
   "file_extension": ".py",
   "mimetype": "text/x-python",
   "name": "python",
   "nbconvert_exporter": "python",
   "pygments_lexer": "ipython3",
   "version": "3.6.6"
  }
 },
 "nbformat": 4,
 "nbformat_minor": 2
}
