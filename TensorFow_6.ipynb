{
 "cells": [
  {
   "cell_type": "code",
   "execution_count": 52,
   "metadata": {},
   "outputs": [],
   "source": [
    "import math\n",
    "import numpy as np\n",
    "import pandas as pd\n",
    "import matplotlib.pyplot as plt\n",
    "import tensorflow as tf"
   ]
  },
  {
   "cell_type": "code",
   "execution_count": 53,
   "metadata": {},
   "outputs": [
    {
     "name": "stdout",
     "output_type": "stream",
     "text": [
      "2.718281828459045\n"
     ]
    }
   ],
   "source": [
    "print(math.e)"
   ]
  },
  {
   "cell_type": "code",
   "execution_count": 54,
   "metadata": {},
   "outputs": [
    {
     "name": "stdout",
     "output_type": "stream",
     "text": [
      "4.539786870243442e-05\n",
      "0.5\n",
      "0.9999546021312976\n"
     ]
    }
   ],
   "source": [
    "def sigmoid(z) :\n",
    "    return 1./(1.+math.e ** -z)\n",
    "    \n",
    "print(sigmoid(-10))  # 0에 가까운\n",
    "print(sigmoid(0))    # 0.5\n",
    "print(sigmoid(10))   # 무한대에 가까운"
   ]
  },
  {
   "cell_type": "code",
   "execution_count": 55,
   "metadata": {},
   "outputs": [
    {
     "data": {
      "image/png": "[encoded data removed]",
      "text/plain": [
       "<Figure size 432x288 with 1 Axes>"
      ]
     },
     "metadata": {
      "needs_background": "light"
     },
     "output_type": "display_data"
    }
   ],
   "source": [
    "for i in range(-100, 100):\n",
    "    z = i/10   # z= wx+b\n",
    "    s = sigmoid(z)\n",
    "    plt.plot(z, s, 'ro')\n",
    "plt.show()"
   ]
  },
  {
   "cell_type": "code",
   "execution_count": 56,
   "metadata": {},
   "outputs": [
    {
     "name": "stdout",
     "output_type": "stream",
     "text": [
      "A\n"
     ]
    }
   ],
   "source": [
    "def A():\n",
    "    return 'A'\n",
    "def B():\n",
    "    return 'B'\n",
    "y = 1\n",
    "print(y*A()+(1-y)*B())"
   ]
  },
  {
   "cell_type": "code",
   "execution_count": 57,
   "metadata": {},
   "outputs": [
    {
     "data": {
      "text/plain": [
       "(8, 5)"
      ]
     },
     "execution_count": 57,
     "metadata": {},
     "output_type": "execute_result"
    }
   ],
   "source": [
    "data = [[828.659973, 833.450012, 908100, 828.349976, 831.659973],\n",
    "        [823.02002, 828.070007, 1828100, 821.655029, 828.070007],\n",
    "        [819.929993, 824.400024, 1438100, 818.97998, 824.159973],\n",
    "        [816, 820.958984, 1008100, 815.48999, 819.23999],\n",
    "        [819.359985, 823, 1188100, 818.469971, 818.97998],\n",
    "        [819, 823, 1198100, 816, 820.450012],\n",
    "        [811.700012, 815.25, 1098100, 809.780029, 813.669983],\n",
    "        [809.51001, 816.659973, 1398100, 804.539978, 809.559998]]\n",
    "np.shape(data)"
   ]
  },
  {
   "cell_type": "code",
   "execution_count": 58,
   "metadata": {},
   "outputs": [
    {
     "name": "stdout",
     "output_type": "stream",
     "text": [
      "(5, 8)\n"
     ]
    }
   ],
   "source": [
    "data = np.transpose(data)\n",
    "print(np.shape(data))"
   ]
  },
  {
   "cell_type": "code",
   "execution_count": 59,
   "metadata": {},
   "outputs": [
    {
     "name": "stdout",
     "output_type": "stream",
     "text": [
      "[[8.28659973e+02 8.23020020e+02 8.19929993e+02 8.16000000e+02\n",
      "  8.19359985e+02 8.19000000e+02 8.11700012e+02 8.09510010e+02]\n",
      " [8.33450012e+02 8.28070007e+02 8.24400024e+02 8.20958984e+02\n",
      "  8.23000000e+02 8.23000000e+02 8.15250000e+02 8.16659973e+02]\n",
      " [9.08100000e+05 1.82810000e+06 1.43810000e+06 1.00810000e+06\n",
      "  1.18810000e+06 1.19810000e+06 1.09810000e+06 1.39810000e+06]\n",
      " [8.28349976e+02 8.21655029e+02 8.18979980e+02 8.15489990e+02\n",
      "  8.18469971e+02 8.16000000e+02 8.09780029e+02 8.04539978e+02]]\n"
     ]
    }
   ],
   "source": [
    "print(data[:-1])"
   ]
  },
  {
   "cell_type": "code",
   "execution_count": 60,
   "metadata": {},
   "outputs": [
    {
     "name": "stdout",
     "output_type": "stream",
     "text": [
      "(8, 4)\n",
      "(8, 1)\n"
     ]
    }
   ],
   "source": [
    "x= data[:-1].transpose().astype(np.float32)\n",
    "y= data[-1:].transpose().astype(np.float32)\n",
    "print(x.shape)\n",
    "print(y.shape)"
   ]
  },
  {
   "cell_type": "code",
   "execution_count": 61,
   "metadata": {},
   "outputs": [
    {
     "name": "stdout",
     "output_type": "stream",
     "text": [
      "0 1.8059087e+25\n",
      "20 nan\n",
      "40 nan\n",
      "60 nan\n",
      "80 nan\n",
      "100 nan\n",
      "120 nan\n",
      "140 nan\n",
      "160 nan\n",
      "180 nan\n",
      "200 nan\n"
     ]
    }
   ],
   "source": [
    "w = tf.Variable(tf.random_uniform([4,1], -1, 1))\n",
    "b = tf.Variable(tf.random_uniform([1], -1, 1))\n",
    "hf = tf.matmul(x,w) + b\n",
    "lr = 0.000001\n",
    "cost = tf.reduce_mean(tf.square(hf-y))\n",
    "optimizer =  tf.train.GradientDescentOptimizer(learning_rate=lr)\n",
    "train = optimizer.minimize(cost)\n",
    "\n",
    "sess = tf.Session()\n",
    "sess.run(tf.global_variables_initializer())\n",
    "\n",
    "for i in range(201):\n",
    "    sess.run(train)\n",
    "    if i % 20 == 0 :\n",
    "        print(i, sess.run(cost))"
   ]
  },
  {
   "cell_type": "markdown",
   "metadata": {},
   "source": [
    "* * *"
   ]
  },
  {
   "cell_type": "code",
   "execution_count": 51,
   "metadata": {},
   "outputs": [
    {
     "name": "stdout",
     "output_type": "stream",
     "text": [
      "804.539978\n",
      "1828100.0\n",
      "==================================================\n",
      "[8.28659973e+02 8.33450012e+02 1.82810000e+06 8.28349976e+02\n",
      " 8.31659973e+02]\n",
      "[8.28659973e+02 8.33450012e+02 1.82810000e+06 8.28349976e+02\n",
      " 8.31659973e+02]\n",
      "None\n"
     ]
    }
   ],
   "source": [
    "data = [[828.659973, 833.450012, 908100, 828.349976, 831.659973],\n",
    "        [823.02002, 828.070007, 1828100, 821.655029, 828.070007],\n",
    "        [819.929993, 824.400024, 1438100, 818.97998, 824.159973],\n",
    "        [816, 820.958984, 1008100, 815.48999, 819.23999],\n",
    "        [819.359985, 823, 1188100, 818.469971, 818.97998],\n",
    "        [819, 823, 1198100, 816, 820.450012],\n",
    "        [811.700012, 815.25, 1098100, 809.780029, 813.669983],\n",
    "        [809.51001, 816.659973, 1398100, 804.539978, 809.559998]]\n",
    "\n",
    "def min_max_scaler(data) : # 정규화 수행\n",
    "    print(np.min(data)) # data 전체 최소값\n",
    "    print(np.max(data)) # data 전체 최대값\n",
    "    print(\"=\"*50)\n",
    "    print(np.max(data, axis = 0)) # 열고정\n",
    "    print(np.max(data, axis = 0))\n",
    "    min = np.max(data, axis = 0)\n",
    "    max = np.max(data, axis = 0)\n",
    "    return (data - min)/(max -min)    #data를 정규화한 결과 리턴\n",
    "\n"
   ]
  },
  {
   "cell_type": "code",
   "execution_count": null,
   "metadata": {},
   "outputs": [],
   "source": []
  }
 ],
 "metadata": {
  "kernelspec": {
   "display_name": "Python 3",
   "language": "python",
   "name": "python3"
  },
  "language_info": {
   "codemirror_mode": {
    "name": "ipython",
    "version": 3
   },
   "file_extension": ".py",
   "mimetype": "text/x-python",
   "name": "python",
   "nbconvert_exporter": "python",
   "pygments_lexer": "ipython3",
   "version": "3.6.6"
  }
 },
 "nbformat": 4,
 "nbformat_minor": 2
}
