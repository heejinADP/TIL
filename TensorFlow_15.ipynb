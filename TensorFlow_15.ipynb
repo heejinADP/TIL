{
 "cells": [
  {
   "cell_type": "code",
   "execution_count": 9,
   "metadata": {},
   "outputs": [
    {
     "name": "stdout",
     "output_type": "stream",
     "text": [
      "[[0. 1. 1. 0. 0. 0.]\n",
      " [0. 0. 1. 0. 0. 1.]\n",
      " [1. 0. 0. 1. 1. 0.]\n",
      " [0. 1. 0. 0. 0. 0.]\n",
      " [0. 0. 1. 0. 0. 0.]]\n"
     ]
    }
   ],
   "source": [
    "import tensorflow as tf\n",
    "import numpy as np\n",
    "\n",
    "data = np.loadtxt('DataSet/data.csv', delimiter = ',', unpack = 'True', dtype = 'float32', encoding='utf-8')\n",
    "print(data)"
   ]
  },
  {
   "cell_type": "code",
   "execution_count": 10,
   "metadata": {},
   "outputs": [
    {
     "name": "stdout",
     "output_type": "stream",
     "text": [
      "[[0. 0.]\n",
      " [1. 0.]\n",
      " [1. 1.]\n",
      " [0. 0.]\n",
      " [0. 0.]\n",
      " [0. 1.]]\n"
     ]
    }
   ],
   "source": [
    "xdata = np.transpose(data[0:2])\n",
    "print(xdata)"
   ]
  },
  {
   "cell_type": "code",
   "execution_count": 11,
   "metadata": {},
   "outputs": [
    {
     "name": "stdout",
     "output_type": "stream",
     "text": [
      "[[1. 0. 0.]\n",
      " [0. 1. 0.]\n",
      " [0. 0. 1.]\n",
      " [1. 0. 0.]\n",
      " [1. 0. 0.]\n",
      " [0. 0. 0.]]\n"
     ]
    }
   ],
   "source": [
    "ydata = np.transpose(data[2:])\n",
    "print(ydata)"
   ]
  },
  {
   "cell_type": "code",
   "execution_count": 12,
   "metadata": {},
   "outputs": [],
   "source": [
    "# 신경망 모델 생성\n",
    "global_step = tf.Variable(0, trainable=False, name = 'global_step') # global_step : 모델 저장과정에서 사용될 변수, 초기값:0\n",
    "\n",
    "x = tf.placeholder(tf.float32)\n",
    "y = tf.placeholder(tf.float32)\n",
    "\n",
    "w1 = tf.Variable(tf.random_uniform([2,10],-1.,1.))\n",
    "L1=tf.nn.relu(tf.matmul(x,w1))\n",
    "\n",
    "w2 = tf.Variable(tf.random_uniform([10,20],-1.,1.))\n",
    "L2 = tf.nn.relu(tf.matmul(L1,w2))\n",
    "\n",
    "w3 = tf.Variable(tf.random_uniform([20,3],-1.,1.))\n",
    "model = tf.matmul(L2,w3)\n",
    "\n",
    "cost = tf.reduce_mean(tf.nn.softmax_cross_entropy_with_logits_v2(logits = model, labels = y))\n",
    "optimizer = tf.train.AdamOptimizer(0.01)\n",
    "train = optimizer.minimize(cost, global_step = global_step)\n"
   ]
  },
  {
   "cell_type": "code",
   "execution_count": 15,
   "metadata": {},
   "outputs": [
    {
     "name": "stdout",
     "output_type": "stream",
     "text": [
      "INFO:tensorflow:Restoring parameters from ./DataSet/model\\dnn.ckpt-4\n",
      "step : 5 cost : 0.828\n",
      "step : 6 cost : 0.809\n"
     ]
    },
    {
     "data": {
      "text/plain": [
       "'./DataSet/model/dnn.ckpt-6'"
      ]
     },
     "execution_count": 15,
     "metadata": {},
     "output_type": "execute_result"
    }
   ],
   "source": [
    "# 신경망 모델 학습\n",
    "\n",
    "sess = tf.Session()\n",
    "saver = tf.train.Saver(tf.global_variables()) # global_variables : 변수를 가져오는 함수 -> 파일 저장\n",
    "ckpt = tf.train.get_checkpoint_state('./DataSet/model') # 기존에 학습된 모델이 저장된 폴더가 있는지 확인하는 함수\n",
    "\n",
    "if ckpt and tf.train.checkpoint_exists(ckpt.model_checkpoint_path) : # 모델이 저장된 폴더가 존재하면서 모델이 만들어져 있다면\n",
    "    saver.restore(sess, ckpt.model_checkpoint_path)\n",
    "else :\n",
    "    sess.run(tf.global_variables_initializer())\n",
    "    \n",
    "for step in range(2):\n",
    "    sess.run(train, feed_dict={x:xdata, y:ydata})\n",
    "    print('step : %d' % sess.run(global_step), 'cost : %.3f' % sess.run(cost, feed_dict = {x:xdata, y:ydata}))\n",
    "    \n",
    "saver.save(sess, './DataSet/model/dnn.ckpt', global_step)"
   ]
  }
 ],
 "metadata": {
  "kernelspec": {
   "display_name": "Python 3",
   "language": "python",
   "name": "python3"
  },
  "language_info": {
   "codemirror_mode": {
    "name": "ipython",
    "version": 3
   },
   "file_extension": ".py",
   "mimetype": "text/x-python",
   "name": "python",
   "nbconvert_exporter": "python",
   "pygments_lexer": "ipython3",
   "version": "3.6.6"
  }
 },
 "nbformat": 4,
 "nbformat_minor": 2
}
