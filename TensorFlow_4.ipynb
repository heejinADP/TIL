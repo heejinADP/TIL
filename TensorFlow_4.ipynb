{
 "cells": [
  {
   "cell_type": "code",
   "execution_count": 26,
   "metadata": {},
   "outputs": [],
   "source": [
    "import tensorflow as tf\n",
    "import matplotlib.pyplot as plt"
   ]
  },
  {
   "cell_type": "code",
   "execution_count": 21,
   "metadata": {},
   "outputs": [
    {
     "data": {
      "text/plain": [
       "7"
      ]
     },
     "execution_count": 21,
     "metadata": {},
     "output_type": "execute_result"
    }
   ],
   "source": [
    "a = tf.placeholder(tf.int32)\n",
    "b = tf.placeholder(tf.int32)\n",
    "add = tf.add(a,b)\n",
    "sess = tf.Session()\n",
    "sess.run(add, feed_dict = {a : 3, b : 4})"
   ]
  },
  {
   "cell_type": "code",
   "execution_count": 22,
   "metadata": {},
   "outputs": [
    {
     "data": {
      "text/plain": [
       "7"
      ]
     },
     "execution_count": 22,
     "metadata": {},
     "output_type": "execute_result"
    }
   ],
   "source": [
    "a = tf.Variable(3)\n",
    "b = tf.Variable(4)\n",
    "add = tf.add(a,b)\n",
    "sess = tf.Session()\n",
    "sess.run(tf.global_variables_initializer())\n",
    "sess.run(add)"
   ]
  },
  {
   "cell_type": "code",
   "execution_count": 29,
   "metadata": {},
   "outputs": [
    {
     "name": "stdout",
     "output_type": "stream",
     "text": [
      "2 * 1 = 2\n",
      "2 * 2 = 4\n",
      "2 * 3 = 6\n",
      "2 * 4 = 8\n",
      "2 * 5 = 10\n",
      "2 * 6 = 12\n",
      "2 * 7 = 14\n",
      "2 * 8 = 16\n",
      "2 * 9 = 18\n"
     ]
    }
   ],
   "source": [
    "def show99(dan) :\n",
    "    left = tf.placeholder(tf.int32)\n",
    "    right = tf.placeholder(tf.int32)\n",
    "    op = tf.multiply(left, right)\n",
    "    sess = tf.Session()\n",
    "\n",
    "    for i in range(1, 10):\n",
    "        res = sess.run(op, feed_dict={left: dan, right: i})\n",
    "        print('{} * {} = {}'.format(dan, i, res))      \n",
    "show99(2)"
   ]
  },
  {
   "cell_type": "code",
   "execution_count": 30,
   "metadata": {},
   "outputs": [
    {
     "name": "stdout",
     "output_type": "stream",
     "text": [
      "w값: [-0.9999969] b값:[0.9999908] loss값:5.6999738e-11\n"
     ]
    }
   ],
   "source": [
    "# w와 b에 대한 초기값을 부여한 상태에서 모델링\n",
    "w=tf.Variable([.3], tf.float32)\n",
    "b=tf.Variable([-.3], tf.float32)\n",
    "x=tf.placeholder(tf.float32)\n",
    "y=tf.placeholder(tf.float32)\n",
    "lm=x*w+b\n",
    "loss=tf.reduce_sum(tf.square(lm-y))\n",
    "\n",
    "train=tf.train.GradientDescentOptimizer(0.01).\\\n",
    "    minimize(loss)\n",
    "x_train=[1,2,3,4]\n",
    "y_train=[0,-1,-2,-3]\n",
    "\n",
    "#트레이닝 횟수 1000번->모델생성\n",
    "#생성된 모델의 w, b, loss출력\n",
    "\n",
    "sess=tf.Session()\n",
    "sess.run(tf.global_variables_initializer())\n",
    "\n",
    "for i in range(1000):\n",
    "    sess.run(train,feed_dict={x:x_train,y:y_train} )\n",
    "\n",
    "wv, bv, lossv=sess.run([w,b,loss],feed_dict={x:x_train,y:y_train})\n",
    "print(\"w값: %s b값:%s loss값:%s\" % (wv, bv, lossv))"
   ]
  },
  {
   "cell_type": "code",
   "execution_count": 27,
   "metadata": {},
   "outputs": [
    {
     "data": {
      "image/png": "[encoded data removed]",
      "text/plain": [
       "<Figure size 432x288 with 1 Axes>"
      ]
     },
     "metadata": {
      "needs_background": "light"
     },
     "output_type": "display_data"
    }
   ],
   "source": [
    "tf.set_random_seed(777)\n",
    "x = [1,2,3]\n",
    "y = [1,2,3]\n",
    "w = tf.placeholder(tf.float32)\n",
    "hf = x * w\n",
    "cost = tf.reduce_mean(tf.square(hf-y))\n",
    "sess = tf.Session()\n",
    "\n",
    "w_history = []\n",
    "cost_history = []\n",
    "\n",
    "for i in range(-40, 50):\n",
    "    cw = i * 0.1\n",
    "    cur_cost = sess.run(cost, feed_dict={w : cw})\n",
    "    w_history.append(cw)\n",
    "    cost_history.append(cur_cost)\n",
    "    \n",
    "plt.plot(w_history, cost_history)\n",
    "plt.show()"
   ]
  },
  {
   "cell_type": "code",
   "execution_count": 28,
   "metadata": {},
   "outputs": [
    {
     "name": "stdout",
     "output_type": "stream",
     "text": [
      "0 2.019275 [0.34219927]\n",
      "1 0.57437176 [0.6491729]\n",
      "2 0.16337687 [0.8128922]\n",
      "3 0.046471626 [0.9002092]\n",
      "4 0.0132186 [0.94677824]\n",
      "5 0.0037599516 [0.9716151]\n",
      "6 0.0010694973 [0.9848614]\n",
      "7 0.00030421387 [0.9919261]\n",
      "8 8.6530774e-05 [0.9956939]\n",
      "9 2.4613573e-05 [0.99770343]\n",
      "10 7.0009573e-06 [0.9987752]\n",
      "11 1.9910945e-06 [0.9993468]\n",
      "12 5.664582e-07 [0.9996516]\n",
      "13 1.6110177e-07 [0.9998142]\n",
      "14 4.577254e-08 [0.99990094]\n",
      "15 1.3037802e-08 [0.99994713]\n",
      "16 3.712639e-09 [0.9999718]\n",
      "17 1.0528538e-09 [0.999985]\n",
      "18 2.9579894e-10 [0.999992]\n",
      "19 8.594725e-11 [0.9999957]\n",
      "20 2.3405278e-11 [0.99999774]\n"
     ]
    }
   ],
   "source": [
    "x_data = [1,2,3]\n",
    "y_data = [1,2,3]\n",
    "w = tf.Variable(tf.random_normal([1]))\n",
    "x = tf.placeholder(tf.float32)\n",
    "y = tf.placeholder(tf.float32)\n",
    "hf = x*w\n",
    "cost = tf.reduce_mean(tf.square(hf - y))\n",
    "lr = 0.1\n",
    "\n",
    "# tf.train.GradientDescentOptimizer(0.1).minimize(cost)\n",
    "gradient = tf.reduce_mean((w*x-y)*x)\n",
    "descent = w - lr * gradient\n",
    "update = w.assign(descent) #update를 실행하면 w에 대한 갱신이 수행됨\n",
    "\n",
    "sess = tf.Session()\n",
    "sess.run(tf.global_variables_initializer())\n",
    "for step in range(21) :\n",
    "    sess.run(update, feed_dict={x:x_data, y:y_data})\n",
    "    print(step, sess.run(cost, feed_dict={x:x_data, y:y_data}), sess.run(w))\n",
    "    "
   ]
  }
 ],
 "metadata": {
  "kernelspec": {
   "display_name": "Python 3",
   "language": "python",
   "name": "python3"
  },
  "language_info": {
   "codemirror_mode": {
    "name": "ipython",
    "version": 3
   },
   "file_extension": ".py",
   "mimetype": "text/x-python",
   "name": "python",
   "nbconvert_exporter": "python",
   "pygments_lexer": "ipython3",
   "version": "3.6.6"
  }
 },
 "nbformat": 4,
 "nbformat_minor": 2
}
