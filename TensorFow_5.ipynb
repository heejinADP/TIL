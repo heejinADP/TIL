{
 "cells": [
  {
   "cell_type": "code",
   "execution_count": 19,
   "metadata": {},
   "outputs": [],
   "source": [
    "import tensorflow as tf\n",
    "import numpy as np\n",
    "tf.set_random_seed(777)"
   ]
  },
  {
   "cell_type": "code",
   "execution_count": 12,
   "metadata": {},
   "outputs": [
    {
     "name": "stdout",
     "output_type": "stream",
     "text": [
      "0 \tCost :  308426.47 \t예측 :  [-247.3937  -318.58078 -192.56052 -284.32596 -286.56387]\n",
      "500 \tCost :  187.87674 \t예측 :  [314.18002 303.6452  251.47011 266.48587 294.42624]\n",
      "1000 \tCost :  119.53569 \t예측 :  [309.38568 307.04846 248.19142 269.7542  294.95908]\n",
      "1500 \tCost :  84.194016 \t예측 :  [305.87494 309.52185 246.04485 272.09094 295.22565]\n",
      "2000 \tCost :  65.67401 \t예측 :  [303.29257 311.32666 244.6629  273.76596 295.3259 ]\n",
      "2500 \tCost :  55.817577 \t예측 :  [301.38403 312.64926 243.79355 274.97012 295.3261 ]\n",
      "3000 \tCost :  50.478584 \t예측 :  [299.96674 313.623   243.26453 275.8385  295.2696 ]\n",
      "3500 \tCost :  47.53056 \t예측 :  [298.90878 314.34314 242.9587  276.4668  295.1841 ]\n",
      "4000 \tCost :  45.869083 \t예측 :  [298.11505 314.8785  242.7969  276.9232  295.0871 ]\n",
      "4500 \tCost :  44.913185 \t예측 :  [297.5165  315.27844 242.72604 277.25592 294.98904]\n",
      "5000 \tCost :  44.352093 \t예측 :  [297.06277 315.5788  242.71083 277.4996  294.89603]\n"
     ]
    }
   ],
   "source": [
    "x1_data = [280, 310, 250, 270, 277] # 모의고사 1회\n",
    "x2_data = [310, 300, 225, 267, 301] # 모의고사 2회\n",
    "x3_data = [270, 325, 205, 290, 300] # 모의고사 3회\n",
    "y_data = [299, 327, 240, 270, 290] # 수능점수\n",
    "\n",
    "x1 = tf.placeholder(tf.float32)\n",
    "x2 = tf.placeholder(tf.float32)\n",
    "x3 = tf.placeholder(tf.float32)\n",
    "y = tf.placeholder(tf.float32)\n",
    "\n",
    "w1 = tf.Variable(tf.random_normal([1]), name = 'w1')\n",
    "w2 = tf.Variable(tf.random_normal([1]), name = 'w2')\n",
    "w3 = tf.Variable(tf.random_normal([1]), name = 'w3')\n",
    "b = tf.Variable(tf.random_normal([1]), name = 'bias')\n",
    "hf = x1*w1+x2*w2+x3*w3+b\n",
    "\n",
    "cost = tf.reduce_mean(tf.square(hf-y))\n",
    "optimizer = tf.train.GradientDescentOptimizer(learning_rate=1e-6)\n",
    "train = optimizer.minimize(cost)\n",
    "\n",
    "sess = tf.Session()\n",
    "sess.run(tf.global_variables_initializer())\n",
    "\n",
    "for step in range(5001):\n",
    "    cv, hv, _ = sess.run([cost, hf, train], feed_dict = {x1 : x1_data, x2 : x2_data, x3 : x3_data, y : y_data})\n",
    "    if step % 500 == 0 :\n",
    "        print(step, \"\\tCost : \", cv, \"\\t예측 : \", hv)"
   ]
  },
  {
   "cell_type": "code",
   "execution_count": 18,
   "metadata": {},
   "outputs": [
    {
     "name": "stdout",
     "output_type": "stream",
     "text": [
      "0 \tCost :  1440351.2 \n",
      "예측 :  [[ -954.11774]\n",
      " [-1003.1735 ]\n",
      " [ -744.8593 ]\n",
      " [ -887.5029 ]\n",
      " [ -955.9254 ]]\n",
      "1000 \tCost :  106.20602 \n",
      "예측 :  [[284.20862]\n",
      " [324.54443]\n",
      " [235.45946]\n",
      " [285.9441 ]\n",
      " [295.6022 ]]\n",
      "2000 \tCost :  60.03438 \n",
      "예측 :  [[289.41815]\n",
      " [320.77997]\n",
      " [239.92427]\n",
      " [282.19208]\n",
      " [294.58463]]\n",
      "3000 \tCost :  48.21305 \n",
      "예측 :  [[292.16214]\n",
      " [318.82254]\n",
      " [241.93161]\n",
      " [280.29233]\n",
      " [294.21603]]\n",
      "4000 \tCost :  45.068924 \n",
      "예측 :  [[293.6312 ]\n",
      " [317.79016]\n",
      " [242.79578]\n",
      " [279.32205]\n",
      " [294.12097]]\n",
      "5000 \tCost :  44.184937 \n",
      "예측 :  [[294.43216]\n",
      " [317.2367 ]\n",
      " [243.14053]\n",
      " [278.82114]\n",
      " [294.1306 ]]\n"
     ]
    }
   ],
   "source": [
    "x_data = [[280, 310, 270],\n",
    "         [310, 300, 325],\n",
    "         [250, 225, 205],\n",
    "         [270, 267, 290],\n",
    "         [277, 301, 300]]\n",
    "\n",
    "y_data = [[299], \n",
    "          [327], \n",
    "          [240], \n",
    "          [270], \n",
    "          [290]] # 수능점수\n",
    "\n",
    "x = tf.placeholder(tf.float32, shape = [None, 3])\n",
    "y = tf.placeholder(tf.float32, shape = [None, 1])\n",
    "w = tf.Variable(tf.random_normal([3,1]), name = 'w')\n",
    "b = tf.Variable(tf.random_normal([1]), name = 'bias')\n",
    "hf = tf.matmul(x,w)+b\n",
    "\n",
    "cost = tf.reduce_mean(tf.square(hf-y))\n",
    "optimizer = tf.train.GradientDescentOptimizer(learning_rate=1e-6)\n",
    "train = optimizer.minimize(cost)\n",
    "\n",
    "sess = tf.Session()\n",
    "sess.run(tf.global_variables_initializer())\n",
    "\n",
    "for step in range(5001):\n",
    "    cv, hv, _ = sess.run([cost, hf, train], feed_dict = {x : x_data, y : y_data})\n",
    "    if step % 1000 == 0 :\n",
    "        print(step, \"\\tCost : \", cv, \"\\n예측 : \", hv)"
   ]
  },
  {
   "cell_type": "code",
   "execution_count": 21,
   "metadata": {},
   "outputs": [
    {
     "name": "stdout",
     "output_type": "stream",
     "text": [
      "[[ 80.  79.  77. 149.]\n",
      " [ 93.  88.  93. 185.]\n",
      " [ 89.  91.  90. 180.]\n",
      " [ 96.  98. 100. 196.]\n",
      " [ 73.  66.  70. 142.]\n",
      " [ 53.  46.  55. 101.]\n",
      " [ 69.  74.  77. 149.]\n",
      " [ 47.  56.  60. 115.]\n",
      " [ 87.  79.  90. 175.]\n",
      " [ 79.  70.  88. 164.]\n",
      " [ 69.  70.  73. 141.]\n",
      " [ 70.  65.  74. 141.]\n",
      " [ 93.  95.  91. 184.]\n",
      " [ 79.  80.  73. 152.]\n",
      " [ 70.  73.  78. 148.]\n",
      " [ 93.  89.  96. 192.]\n",
      " [ 78.  75.  68. 147.]\n",
      " [ 81.  90.  93. 183.]\n",
      " [ 88.  92.  86. 177.]\n",
      " [ 78.  83.  77. 159.]\n",
      " [ 82.  86.  90. 177.]\n",
      " [ 86.  82.  89. 175.]\n",
      " [ 78.  83.  85. 175.]\n",
      " [ 76.  83.  71. 149.]\n",
      " [ 96.  93.  95. 192.]]\n"
     ]
    }
   ],
   "source": [
    "xy = np.loadtxt(\"DataSet/score.csv\", delimiter = \",\", dtype = np.float32)\n",
    "print(xy)"
   ]
  },
  {
   "cell_type": "code",
   "execution_count": 22,
   "metadata": {},
   "outputs": [
    {
     "name": "stdout",
     "output_type": "stream",
     "text": [
      "[[ 80.  79.  77.]\n",
      " [ 93.  88.  93.]\n",
      " [ 89.  91.  90.]\n",
      " [ 96.  98. 100.]\n",
      " [ 73.  66.  70.]\n",
      " [ 53.  46.  55.]\n",
      " [ 69.  74.  77.]\n",
      " [ 47.  56.  60.]\n",
      " [ 87.  79.  90.]\n",
      " [ 79.  70.  88.]\n",
      " [ 69.  70.  73.]\n",
      " [ 70.  65.  74.]\n",
      " [ 93.  95.  91.]\n",
      " [ 79.  80.  73.]\n",
      " [ 70.  73.  78.]\n",
      " [ 93.  89.  96.]\n",
      " [ 78.  75.  68.]\n",
      " [ 81.  90.  93.]\n",
      " [ 88.  92.  86.]\n",
      " [ 78.  83.  77.]\n",
      " [ 82.  86.  90.]\n",
      " [ 86.  82.  89.]\n",
      " [ 78.  83.  85.]\n",
      " [ 76.  83.  71.]\n",
      " [ 96.  93.  95.]]\n"
     ]
    }
   ],
   "source": [
    "xdata = xy[:, 0:-1]\n",
    "print(xdata)"
   ]
  },
  {
   "cell_type": "code",
   "execution_count": 23,
   "metadata": {},
   "outputs": [
    {
     "name": "stdout",
     "output_type": "stream",
     "text": [
      "[[149.]\n",
      " [185.]\n",
      " [180.]\n",
      " [196.]\n",
      " [142.]\n",
      " [101.]\n",
      " [149.]\n",
      " [115.]\n",
      " [175.]\n",
      " [164.]\n",
      " [141.]\n",
      " [141.]\n",
      " [184.]\n",
      " [152.]\n",
      " [148.]\n",
      " [192.]\n",
      " [147.]\n",
      " [183.]\n",
      " [177.]\n",
      " [159.]\n",
      " [177.]\n",
      " [175.]\n",
      " [175.]\n",
      " [149.]\n",
      " [192.]]\n"
     ]
    }
   ],
   "source": [
    "ydata = xy[:, [-1]]\n",
    "print(ydata)"
   ]
  },
  {
   "cell_type": "code",
   "execution_count": null,
   "metadata": {},
   "outputs": [],
   "source": []
  }
 ],
 "metadata": {
  "kernelspec": {
   "display_name": "Python 3",
   "language": "python",
   "name": "python3"
  },
  "language_info": {
   "codemirror_mode": {
    "name": "ipython",
    "version": 3
   },
   "file_extension": ".py",
   "mimetype": "text/x-python",
   "name": "python",
   "nbconvert_exporter": "python",
   "pygments_lexer": "ipython3",
   "version": "3.6.6"
  }
 },
 "nbformat": 4,
 "nbformat_minor": 2
}
