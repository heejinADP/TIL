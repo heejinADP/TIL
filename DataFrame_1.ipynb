{
 "cells": [
  {
   "cell_type": "markdown",
   "metadata": {},
   "source": [
    "# Functions of DataFrame 1"
   ]
  },
  {
   "cell_type": "code",
   "execution_count": 14,
   "metadata": {},
   "outputs": [],
   "source": [
    "import pandas as pd\n",
    "from pandas import DataFrame as df\n",
    "from pandas import Series"
   ]
  },
  {
   "cell_type": "markdown",
   "metadata": {},
   "source": [
    "**ignore_index**"
   ]
  },
  {
   "cell_type": "code",
   "execution_count": 2,
   "metadata": {},
   "outputs": [
    {
     "name": "stdout",
     "output_type": "stream",
     "text": [
      "     a   b   c   d\n",
      "r0  a0  b0  c0  d0\n",
      "r1  a1  b1  c1  d1\n",
      "r2  a2  b2  c2  d2\n"
     ]
    }
   ],
   "source": [
    "df_5=df({\n",
    "    'a':['a0','a1','a2'],\n",
    "    'b':['b0','b1','b2'],\n",
    "    'c':['c0','c1','c2'],\n",
    "    'd':['d0','d1','d2']},\n",
    "    index=['r0','r1','r2'])\n",
    "print(df_5)"
   ]
  },
  {
   "cell_type": "code",
   "execution_count": 3,
   "metadata": {},
   "outputs": [
    {
     "name": "stdout",
     "output_type": "stream",
     "text": [
      "     a   b   c   d\n",
      "r3  a3  b3  c3  d3\n",
      "r4  a4  b4  c4  d4\n",
      "r5  a5  b5  c5  d5\n"
     ]
    }
   ],
   "source": [
    "df_6=df({\n",
    "    'a': ['a3', 'a4', 'a5'],\n",
    "    'b': ['b3', 'b4', 'b5'],\n",
    "    'c': ['c3', 'c4', 'c5'],\n",
    "    'd': ['d3', 'd4', 'd5']},\n",
    "    index=['r3','r4','r5'])\n",
    "print(df_6)"
   ]
  },
  {
   "cell_type": "code",
   "execution_count": 4,
   "metadata": {},
   "outputs": [
    {
     "name": "stdout",
     "output_type": "stream",
     "text": [
      "                     a   b   c   d\n",
      "df_name row_number                \n",
      "df5     r0          a0  b0  c0  d0\n",
      "        r1          a1  b1  c1  d1\n",
      "        r2          a2  b2  c2  d2\n",
      "df6     r3          a3  b3  c3  d3\n",
      "        r4          a4  b4  c4  d4\n",
      "        r5          a5  b5  c5  d5\n"
     ]
    }
   ],
   "source": [
    "df_56_with_index=pd.concat([df_5,df_6],ignore_index=False, keys=['df5','df6'], \n",
    "                           names=['df_name','row_number'])\n",
    "print(df_56_with_index)"
   ]
  },
  {
   "cell_type": "code",
   "execution_count": 6,
   "metadata": {},
   "outputs": [
    {
     "name": "stdout",
     "output_type": "stream",
     "text": [
      "             a   b   c   d\n",
      "row_number                \n",
      "r0          a0  b0  c0  d0\n",
      "r1          a1  b1  c1  d1\n",
      "r2          a2  b2  c2  d2\n"
     ]
    }
   ],
   "source": [
    "print(df_56_with_index.loc['df5'])"
   ]
  },
  {
   "cell_type": "code",
   "execution_count": 7,
   "metadata": {},
   "outputs": [
    {
     "name": "stdout",
     "output_type": "stream",
     "text": [
      "             a   b   c   d\n",
      "row_number                \n",
      "r0          a0  b0  c0  d0\n",
      "r1          a1  b1  c1  d1\n"
     ]
    }
   ],
   "source": [
    "print(df_56_with_index.loc['df5'][0:2])"
   ]
  },
  {
   "cell_type": "markdown",
   "metadata": {},
   "source": [
    "**verify_integrity**"
   ]
  },
  {
   "cell_type": "code",
   "execution_count": 8,
   "metadata": {},
   "outputs": [
    {
     "name": "stdout",
     "output_type": "stream",
     "text": [
      "     a   b   c   d\n",
      "r0  a0  b0  c0  d0\n",
      "r1  a1  b1  c1  d1\n",
      "r2  a2  b2  c2  d2\n"
     ]
    }
   ],
   "source": [
    "df_7=df({\n",
    "    'a':['a0','a1','a2'],\n",
    "    'b':['b0','b1','b2'],\n",
    "    'c':['c0','c1','c2'],\n",
    "    'd':['d0','d1','d2']},\n",
    "    index=['r0','r1','r2'])\n",
    "print(df_7)"
   ]
  },
  {
   "cell_type": "code",
   "execution_count": 9,
   "metadata": {},
   "outputs": [
    {
     "name": "stdout",
     "output_type": "stream",
     "text": [
      "     a   b   c   d\n",
      "r2  a3  b3  c3  d3\n",
      "r3  a4  b4  c4  d4\n",
      "r4  a5  b5  c5  d5\n"
     ]
    }
   ],
   "source": [
    "df_8=df({\n",
    "    'a': ['a3', 'a4', 'a5'],\n",
    "    'b': ['b3', 'b4', 'b5'],\n",
    "    'c': ['c3', 'c4', 'c5'],\n",
    "    'd': ['d3', 'd4', 'd5']},\n",
    "    index=['r2','r3','r4'])\n",
    "print(df_8)"
   ]
  },
  {
   "cell_type": "code",
   "execution_count": 10,
   "metadata": {},
   "outputs": [
    {
     "name": "stdout",
     "output_type": "stream",
     "text": [
      "     a   b   c   d\n",
      "r0  a0  b0  c0  d0\n",
      "r1  a1  b1  c1  d1\n",
      "r2  a2  b2  c2  d2\n",
      "r2  a3  b3  c3  d3\n",
      "r3  a4  b4  c4  d4\n",
      "r4  a5  b5  c5  d5\n"
     ]
    }
   ],
   "source": [
    "df_78=pd.concat([df_7,df_8], verify_integrity=False)\n",
    "print(df_78)"
   ]
  },
  {
   "cell_type": "markdown",
   "metadata": {},
   "source": [
    "**DataFrame + Series**"
   ]
  },
  {
   "cell_type": "code",
   "execution_count": 12,
   "metadata": {},
   "outputs": [
    {
     "name": "stdout",
     "output_type": "stream",
     "text": [
      "    a   b   c   d\n",
      "0  a0  b0  c0  d0\n",
      "1  a1  b1  c1  d1\n",
      "2  a2  b2  c2  d2\n"
     ]
    }
   ],
   "source": [
    "df_1=df({\n",
    "    'a':['a0','a1','a2'],\n",
    "    'b':['b0','b1','b2'],\n",
    "    'c':['c0','c1','c2'],\n",
    "    'd':['d0','d1','d2']},\n",
    "    index=[0,1,2])\n",
    "print(df_1)"
   ]
  },
  {
   "cell_type": "code",
   "execution_count": 17,
   "metadata": {},
   "outputs": [
    {
     "name": "stdout",
     "output_type": "stream",
     "text": [
      "0    S1\n",
      "1    S2\n",
      "2    S3\n",
      "Name: S, dtype: object\n"
     ]
    }
   ],
   "source": [
    "Series_1=pd.Series(['S1','S2','S3'],name='S')\n",
    "print(Series_1)"
   ]
  },
  {
   "cell_type": "code",
   "execution_count": 16,
   "metadata": {},
   "outputs": [
    {
     "name": "stdout",
     "output_type": "stream",
     "text": [
      "     a    b    c    d    0\n",
      "0   a0   b0   c0   d0  NaN\n",
      "1   a1   b1   c1   d1  NaN\n",
      "2   a2   b2   c2   d2  NaN\n",
      "0  NaN  NaN  NaN  NaN   S1\n",
      "1  NaN  NaN  NaN  NaN   S2\n",
      "2  NaN  NaN  NaN  NaN   S3\n"
     ]
    }
   ],
   "source": [
    "print(pd.concat([df_1, Series_1]))"
   ]
  },
  {
   "cell_type": "code",
   "execution_count": 18,
   "metadata": {},
   "outputs": [
    {
     "name": "stdout",
     "output_type": "stream",
     "text": [
      "    a   b   c   d   S\n",
      "0  a0  b0  c0  d0  S1\n",
      "1  a1  b1  c1  d1  S2\n",
      "2  a2  b2  c2  d2  S3\n"
     ]
    }
   ],
   "source": [
    "print(pd.concat([df_1, Series_1],axis=1))"
   ]
  },
  {
   "cell_type": "code",
   "execution_count": 20,
   "metadata": {},
   "outputs": [
    {
     "name": "stdout",
     "output_type": "stream",
     "text": [
      "    0   1   2   3   4\n",
      "0  a0  b0  c0  d0  S1\n",
      "1  a1  b1  c1  d1  S2\n",
      "2  a2  b2  c2  d2  S3\n"
     ]
    }
   ],
   "source": [
    "print(pd.concat([df_1, Series_1],axis=1,ignore_index=True))"
   ]
  },
  {
   "cell_type": "markdown",
   "metadata": {},
   "source": [
    "**Series + Series**"
   ]
  },
  {
   "cell_type": "code",
   "execution_count": 21,
   "metadata": {},
   "outputs": [],
   "source": [
    "Series_1=pd.Series(['S1','S2','S3'],name='S')\n",
    "Series_2=pd.Series([0,1,2])\n",
    "Series_3=pd.Series([3,4,5])"
   ]
  },
  {
   "cell_type": "code",
   "execution_count": 22,
   "metadata": {},
   "outputs": [
    {
     "name": "stdout",
     "output_type": "stream",
     "text": [
      "    S  0  1\n",
      "0  S1  0  3\n",
      "1  S2  1  4\n",
      "2  S3  2  5\n"
     ]
    }
   ],
   "source": [
    "print(pd.concat([Series_1,Series_2,Series_3],axis=1))"
   ]
  },
  {
   "cell_type": "code",
   "execution_count": 23,
   "metadata": {},
   "outputs": [
    {
     "name": "stdout",
     "output_type": "stream",
     "text": [
      "   c0  c1  c2\n",
      "0  S1   0   3\n",
      "1  S2   1   4\n",
      "2  S3   2   5\n"
     ]
    }
   ],
   "source": [
    "print(pd.concat([Series_1, Series_2,Series_3],axis=1,keys=['c0','c1','c2']))"
   ]
  },
  {
   "cell_type": "code",
   "execution_count": 25,
   "metadata": {},
   "outputs": [
    {
     "name": "stdout",
     "output_type": "stream",
     "text": [
      "    a   b   c   d\n",
      "0  a0  b0  c0  d0\n",
      "1  a1  b1  c1  d1\n",
      "2  a2  b2  c2  d2\n"
     ]
    }
   ],
   "source": [
    "df_1=df({\n",
    "    'a':['a0','a1','a2'],\n",
    "    'b':['b0','b1','b2'],\n",
    "    'c':['c0','c1','c2'],\n",
    "    'd':['d0','d1','d2']},\n",
    "    index=[0,1,2])\n",
    "print(df_1)"
   ]
  },
  {
   "cell_type": "code",
   "execution_count": 26,
   "metadata": {},
   "outputs": [
    {
     "name": "stdout",
     "output_type": "stream",
     "text": [
      "a    S1\n",
      "b    S2\n",
      "c    S3\n",
      "e    S4\n",
      "dtype: object\n"
     ]
    }
   ],
   "source": [
    "Series_4=pd.Series(['S1','S2','S3','S4'],\n",
    "                   index=['a','b','c','e'])\n",
    "print(Series_4)"
   ]
  },
  {
   "cell_type": "code",
   "execution_count": 27,
   "metadata": {},
   "outputs": [
    {
     "name": "stdout",
     "output_type": "stream",
     "text": [
      "    a   b   c    d    e\n",
      "0  a0  b0  c0   d0  NaN\n",
      "1  a1  b1  c1   d1  NaN\n",
      "2  a2  b2  c2   d2  NaN\n",
      "3  S1  S2  S3  NaN   S4\n"
     ]
    }
   ],
   "source": [
    "print(df_1.append(Series_4,ignore_index=True))"
   ]
  },
  {
   "cell_type": "markdown",
   "metadata": {},
   "source": [
    "**DataFrame + DataFrame & merge**"
   ]
  },
  {
   "cell_type": "code",
   "execution_count": 28,
   "metadata": {},
   "outputs": [
    {
     "name": "stdout",
     "output_type": "stream",
     "text": [
      "  KEY   b   c\n",
      "0  a0  b0  c0\n",
      "1  a1  b1  c1\n",
      "2  a2  b2  c2\n",
      "3  a3  b3  c3\n"
     ]
    }
   ],
   "source": [
    "df_left=df({\n",
    "    'KEY':['a0','a1','a2','a3'],\n",
    "    'b':['b0','b1','b2','b3'],\n",
    "    'c':['c0','c1','c2','c3']})\n",
    "print(df_left)"
   ]
  },
  {
   "cell_type": "code",
   "execution_count": 29,
   "metadata": {},
   "outputs": [
    {
     "name": "stdout",
     "output_type": "stream",
     "text": [
      "  KEY   d   e\n",
      "0  a2  d0  e0\n",
      "1  a3  d1  e1\n",
      "2  a4  d2  e2\n",
      "3  a5  d3  e3\n"
     ]
    }
   ],
   "source": [
    "df_right=df({\n",
    "    'KEY':['a2','a3','a4','a5'],\n",
    "    'd':['d0','d1','d2','d3'],\n",
    "    'e':['e0','e1','e2','e3']})\n",
    "print(df_right)"
   ]
  },
  {
   "cell_type": "code",
   "execution_count": 30,
   "metadata": {},
   "outputs": [
    {
     "name": "stdout",
     "output_type": "stream",
     "text": [
      "  KEY   b   c   d   e\n",
      "0  a2  b2  c2  d0  e0\n",
      "1  a3  b3  c3  d1  e1\n"
     ]
    }
   ],
   "source": [
    "df_merge_how_left=pd.merge(df_left,df_right)\n",
    "print(df_merge_how_left)"
   ]
  },
  {
   "cell_type": "code",
   "execution_count": 31,
   "metadata": {},
   "outputs": [
    {
     "name": "stdout",
     "output_type": "stream",
     "text": [
      "  KEY   b   c    d    e\n",
      "0  a0  b0  c0  NaN  NaN\n",
      "1  a1  b1  c1  NaN  NaN\n",
      "2  a2  b2  c2   d0   e0\n",
      "3  a3  b3  c3   d1   e1\n"
     ]
    }
   ],
   "source": [
    "df_merge_how_left=pd.merge(df_left,df_right,how='left')\n",
    "print(df_merge_how_left)"
   ]
  },
  {
   "cell_type": "code",
   "execution_count": 32,
   "metadata": {},
   "outputs": [
    {
     "name": "stdout",
     "output_type": "stream",
     "text": [
      "  KEY    b    c   d   e\n",
      "0  a2   b2   c2  d0  e0\n",
      "1  a3   b3   c3  d1  e1\n",
      "2  a4  NaN  NaN  d2  e2\n",
      "3  a5  NaN  NaN  d3  e3\n"
     ]
    }
   ],
   "source": [
    "df_merge_how_left=pd.merge(df_left,df_right,how='right',on='KEY')\n",
    "print(df_merge_how_left)"
   ]
  },
  {
   "cell_type": "code",
   "execution_count": 33,
   "metadata": {},
   "outputs": [
    {
     "name": "stdout",
     "output_type": "stream",
     "text": [
      "  KEY   b   c   d   e\n",
      "0  a2  b2  c2  d0  e0\n",
      "1  a3  b3  c3  d1  e1\n"
     ]
    }
   ],
   "source": [
    "df_merge_how_inner=pd.merge(df_left,df_right,how='inner',on='KEY')\n",
    "print(df_merge_how_inner)"
   ]
  },
  {
   "cell_type": "code",
   "execution_count": 39,
   "metadata": {},
   "outputs": [
    {
     "name": "stdout",
     "output_type": "stream",
     "text": [
      "  KEY    b    c    d    e      _merge\n",
      "0  a0   b0   c0  NaN  NaN   left_only\n",
      "1  a1   b1   c1  NaN  NaN   left_only\n",
      "2  a2   b2   c2   d0   e0        both\n",
      "3  a3   b3   c3   d1   e1        both\n",
      "4  a4  NaN  NaN   d2   e2  right_only\n",
      "5  a5  NaN  NaN   d3   e3  right_only\n"
     ]
    }
   ],
   "source": [
    "df_merge_how_outer=pd.merge(df_left,df_right,how='outer',on='KEY',indicator=True)\n",
    "print(df_merge_how_outer)"
   ]
  },
  {
   "cell_type": "markdown",
   "metadata": {},
   "source": [
    "==============================================================="
   ]
  },
  {
   "cell_type": "code",
   "execution_count": 36,
   "metadata": {},
   "outputs": [
    {
     "name": "stdout",
     "output_type": "stream",
     "text": [
      "  KEY   a   b   c\n",
      "0  a0  b0  b0  c0\n",
      "1  a1  b1  b1  c1\n",
      "2  a2  b2  b2  c2\n",
      "3  a3  b3  b3  c3\n"
     ]
    }
   ],
   "source": [
    "df_left_2=df({\n",
    "    'KEY':['a0','a1','a2','a3'],\n",
    "    'a':['b0','b1','b2','b3'],\n",
    "    'b':['b0','b1','b2','b3'],\n",
    "    'c':['c0','c1','c2','c3']})\n",
    "print(df_left_2)"
   ]
  },
  {
   "cell_type": "code",
   "execution_count": 37,
   "metadata": {},
   "outputs": [
    {
     "name": "stdout",
     "output_type": "stream",
     "text": [
      "  KEY   b   c   d\n",
      "0  a2  b0  d0  e0\n",
      "1  a3  b1  d1  e1\n",
      "2  a4  b2  d2  e2\n",
      "3  a5  b3  d3  e3\n"
     ]
    }
   ],
   "source": [
    "df_right_2=df({\n",
    "    'KEY':['a2','a3','a4','a5'],\n",
    "    'b':['b0','b1','b2','b3'],\n",
    "    'c':['d0','d1','d2','d3'],\n",
    "    'd':['e0','e1','e2','e3']})\n",
    "print(df_right_2)"
   ]
  },
  {
   "cell_type": "code",
   "execution_count": 38,
   "metadata": {},
   "outputs": [
    {
     "name": "stdout",
     "output_type": "stream",
     "text": [
      "  KEY   a b_left c_left b_right c_right   d\n",
      "0  a2  b2     b2     c2      b0      d0  e0\n",
      "1  a3  b3     b3     c3      b1      d1  e1\n"
     ]
    }
   ],
   "source": [
    "print(pd.merge(df_left_2,df_right_2,how='inner',on='KEY',\n",
    "               suffixes=('_left','_right')))"
   ]
  },
  {
   "cell_type": "markdown",
   "metadata": {},
   "source": [
    "==============================================================="
   ]
  },
  {
   "cell_type": "code",
   "execution_count": 40,
   "metadata": {},
   "outputs": [
    {
     "name": "stdout",
     "output_type": "stream",
     "text": [
      "     a   b\n",
      "k0  a0  b0\n",
      "k1  a1  b1\n",
      "k2  a2  b2\n",
      "k3  a3  b3\n"
     ]
    }
   ],
   "source": [
    "merge_left=df({\n",
    "    'a':['a0','a1','a2','a3'],\n",
    "    'b':['b0','b1','b2','b3']},\n",
    "    index=['k0','k1','k2','k3'])\n",
    "print(merge_left)"
   ]
  },
  {
   "cell_type": "code",
   "execution_count": 41,
   "metadata": {},
   "outputs": [
    {
     "name": "stdout",
     "output_type": "stream",
     "text": [
      "     c   d\n",
      "k2  c0  d0\n",
      "k3  c1  d1\n",
      "k4  c2  d2\n",
      "k5  c3  d3\n"
     ]
    }
   ],
   "source": [
    "merge_right=df({\n",
    "    'c':['c0','c1','c2','c3'],\n",
    "    'd':['d0','d1','d2','d3']},\n",
    "    index=['k2', 'k3', 'k4', 'k5'])\n",
    "print(merge_right)"
   ]
  },
  {
   "cell_type": "code",
   "execution_count": 42,
   "metadata": {},
   "outputs": [
    {
     "name": "stdout",
     "output_type": "stream",
     "text": [
      "     a   b    c    d\n",
      "k0  a0  b0  NaN  NaN\n",
      "k1  a1  b1  NaN  NaN\n",
      "k2  a2  b2   c0   d0\n",
      "k3  a3  b3   c1   d1\n"
     ]
    }
   ],
   "source": [
    "print(pd.merge(merge_left,merge_right,left_index=True,\n",
    "               right_index=True,how='left'))"
   ]
  },
  {
   "cell_type": "code",
   "execution_count": 43,
   "metadata": {},
   "outputs": [
    {
     "name": "stdout",
     "output_type": "stream",
     "text": [
      "     a   b    c    d\n",
      "k0  a0  b0  NaN  NaN\n",
      "k1  a1  b1  NaN  NaN\n",
      "k2  a2  b2   c0   d0\n",
      "k3  a3  b3   c1   d1\n"
     ]
    }
   ],
   "source": [
    "print(merge_left.join(merge_right,how='left'))"
   ]
  },
  {
   "cell_type": "code",
   "execution_count": 44,
   "metadata": {},
   "outputs": [
    {
     "name": "stdout",
     "output_type": "stream",
     "text": [
      "     a   b   c   d\n",
      "k2  a2  b2  c0  d0\n",
      "k3  a3  b3  c1  d1\n"
     ]
    }
   ],
   "source": [
    "print(merge_left.join(merge_right,how='inner'))"
   ]
  },
  {
   "cell_type": "code",
   "execution_count": 46,
   "metadata": {},
   "outputs": [
    {
     "name": "stdout",
     "output_type": "stream",
     "text": [
      "      a    b    c    d\n",
      "k0   a0   b0  NaN  NaN\n",
      "k1   a1   b1  NaN  NaN\n",
      "k2   a2   b2   c0   d0\n",
      "k3   a3   b3   c1   d1\n",
      "k4  NaN  NaN   c2   d2\n",
      "k5  NaN  NaN   c3   d3\n"
     ]
    }
   ],
   "source": [
    "print(merge_left.join(merge_right,how='outer'))"
   ]
  }
 ],
 "metadata": {
  "kernelspec": {
   "display_name": "Python 3",
   "language": "python",
   "name": "python3"
  },
  "language_info": {
   "codemirror_mode": {
    "name": "ipython",
    "version": 3
   },
   "file_extension": ".py",
   "mimetype": "text/x-python",
   "name": "python",
   "nbconvert_exporter": "python",
   "pygments_lexer": "ipython3",
   "version": "3.6.5"
  }
 },
 "nbformat": 4,
 "nbformat_minor": 2
}
