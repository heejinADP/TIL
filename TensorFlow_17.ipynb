{
 "cells": [
  {
   "cell_type": "markdown",
   "metadata": {},
   "source": [
    "# CNN-MNIST"
   ]
  },
  {
   "cell_type": "code",
   "execution_count": 5,
   "metadata": {},
   "outputs": [],
   "source": [
    "import tensorflow as tf\n",
    "import numpy as np\n",
    "import matplotlib.pyplot as plt\n",
    "from tensorflow.examples.tutorials.mnist import input_data"
   ]
  },
  {
   "cell_type": "code",
   "execution_count": 6,
   "metadata": {},
   "outputs": [],
   "source": [
    "np.random.seed(20181105)\n",
    "tf.set_random_seed(20181105)"
   ]
  },
  {
   "cell_type": "markdown",
   "metadata": {},
   "source": [
    "**load data**"
   ]
  },
  {
   "cell_type": "code",
   "execution_count": 7,
   "metadata": {},
   "outputs": [
    {
     "name": "stdout",
     "output_type": "stream",
     "text": [
      "Extracting ./DataSet/tmp/data\\train-images-idx3-ubyte.gz\n",
      "Extracting ./DataSet/tmp/data\\train-labels-idx1-ubyte.gz\n",
      "Extracting ./DataSet/tmp/data\\t10k-images-idx3-ubyte.gz\n",
      "Extracting ./DataSet/tmp/data\\t10k-labels-idx1-ubyte.gz\n"
     ]
    }
   ],
   "source": [
    "mnist = input_data.read_data_sets('./DataSet/tmp/data', one_hot=True)"
   ]
  },
  {
   "cell_type": "code",
   "execution_count": 8,
   "metadata": {},
   "outputs": [],
   "source": [
    "num_filter1 = 32 #필터의 개수\n",
    "x = tf.placeholder(tf.float32, [None, 784]) #28*28*1\n",
    "\n",
    "#연산의 편의를 위해 2차원 행렬 할 것임. 784(1차원 벡터) -> 28*28*1\n",
    "x_image = tf.reshape(x, [-1, 28, 28, 1]) # -1 = None(28*28*1 행렬을 무한개[-1])\n",
    "\n",
    "# W_conv1의 차원(shape) : [5,5,1,32]\n",
    "W_conv1 = tf.Variable(tf.random_normal([5,5,1,num_filter1]))"
   ]
  },
  {
   "cell_type": "markdown",
   "metadata": {},
   "source": [
    "**필터에 입력 이미지 적용**"
   ]
  },
  {
   "cell_type": "markdown",
   "metadata": {},
   "source": [
    "* strides는 통상적으로 맨 앞뒤에는 1을 씀. \n",
    "중간에 있는 두 값이 실질적인 가로/세로 방향 이동 칸 수\n",
    "\n",
    "* 패딩 : 필터를 적용하면 추출된 특징 행렬은 원 이미지보다 크기가 작아진다.\n",
    "필터 계속 적용 -> 특징이 유실될 문제가 발생될 수 있음 -> 패딩 적용\n",
    "\n",
    "* 풀링(pooling) : max pooling을 적용\\\n",
    "ksize = 풀링시 필터(커널)의 크기-2*2 크기로 묶어서 풀링하겠다\n"
   ]
  },
  {
   "cell_type": "code",
   "execution_count": 9,
   "metadata": {},
   "outputs": [],
   "source": [
    "# strides / 패딩\n",
    "h_conv1 = tf.nn.conv2d(x_image, W_conv1, strides=[1,1,1,1], padding = \"SAME\")\n",
    "b_conv1 = tf.Variable(tf.constant(0.1, shape=[num_filter1]))\n",
    "\n",
    "#  활성화 함수 적용(CNN-Relu함수) \n",
    "h_conv1_cutoff = tf.nn.relu(h_conv1+b_conv1)\n",
    "\n",
    "# 풀링\n",
    "h_pool1 = tf.nn.max_pool(h_conv1_cutoff, ksize=[1,2,2,1], strides = [1,2,2,1], padding = \"SAME\")\n",
    "\n",
    "# 행렬의 차원 변환\n",
    "num_filter2 = 64 #필터의 개수\n",
    "W_conv2 = tf.Variable(tf.random_normal([5,5,num_filter1,num_filter2])) \n",
    "#[5,5,32,64] , 필터 크기 : 5*5, 입력되는 값: 32개, 32개가 들어가서 총 64개의 필터가 적용됨\n",
    "h_conv2 = tf.nn.conv2d(h_pool1, W_conv2, strides=[1,1,1,1], padding = \"SAME\")\n",
    "b_conv2 = tf.Variable(tf.constant(0.1, shape=[num_filter2]))\n",
    "h_conv2_cutoff = tf.nn.relu(h_conv2+b_conv2)\n",
    "h_pool2 = tf.nn.max_pool(h_conv2_cutoff, ksize=[1,2,2,1], strides = [1,2,2,1], padding = \"SAME\")\n"
   ]
  },
  {
   "cell_type": "markdown",
   "metadata": {},
   "source": [
    "* 28*28 -> 첫번째 풀링(2*5) ->14*14->두번째 풀링(2*2)->7*7\n",
    "* 결국 7*7 크기의 행렬이 64개가 나오게 됨\n",
    "\n",
    "* 풀리 커넥티드 계층\n",
    "* 64개의 입력으로부터 ==> 10개의 숫자로 분류\n",
    "* 두번째 컨볼루셔널 계층에서 특징을 뽑아냈으면, 이 특징으로 0~9까지의 숫자를 판별하기 위한 fully connected layer 구현"
   ]
  },
  {
   "cell_type": "code",
   "execution_count": 10,
   "metadata": {},
   "outputs": [],
   "source": [
    "h_pool2_flat = tf.reshape(h_pool2, [-1, 7*7*num_filter2]) # 입력된 64개의 7*7 행렬을 1차원 행렬로 변환\n",
    "num_units1 = 7*7*num_filter2\n",
    "num_ubits2 = 1024\n",
    "w2 = tf.Variable(tf.random_normal([num_units1, num_ubits2]))\n",
    "b2 = tf.Variable(tf.constant(0.1, shape = [num_ubits2]))\n",
    "hidden2 = tf.nn.relu(tf.matmul(h_pool2_flat, w2) +b2)\n",
    "keep_prob = tf.placeholder(tf.float32)\n",
    "hidden2_drop = tf.nn.dropout(hidden2, keep_prob)"
   ]
  },
  {
   "cell_type": "markdown",
   "metadata": {},
   "source": [
    "**모델 정의**"
   ]
  },
  {
   "cell_type": "code",
   "execution_count": 11,
   "metadata": {},
   "outputs": [],
   "source": [
    "w0 = tf.Variable(tf.zeros([num_ubits2, 10]))\n",
    "b0 = tf.Variable(tf.zeros([10]))\n",
    "k = tf.matmul(hidden2_drop, w0)+b0\n",
    "p = tf.nn.softmax(k)"
   ]
  },
  {
   "cell_type": "markdown",
   "metadata": {},
   "source": [
    "**비용함수 정의**"
   ]
  },
  {
   "cell_type": "code",
   "execution_count": 12,
   "metadata": {},
   "outputs": [],
   "source": [
    "# cost : 크로스엔트로피 함수 적용\n",
    "t = tf.placeholder(tf.float32, [None, 10])\n",
    "loss = tf.reduce_mean(tf.nn.softmax_cross_entropy_with_logits_v2(logits=k, labels=t))\n",
    "train_step = tf.train.AdamOptimizer(0.0001).minimize(loss)\n",
    "correct_prediction = tf.equal(tf.argmax(p, 1), tf.argmax(t,1))\n",
    "accuracy = tf.reduce_mean(tf.cast(correct_prediction, tf.float32))\n",
    "\n",
    "sess = tf.Session()\n",
    "sess.run(tf.global_variables_initializer())\n",
    "saver = tf.train.Saver()"
   ]
  },
  {
   "cell_type": "markdown",
   "metadata": {},
   "source": [
    "**학습수행**"
   ]
  },
  {
   "cell_type": "code",
   "execution_count": 15,
   "metadata": {},
   "outputs": [
    {
     "name": "stdout",
     "output_type": "stream",
     "text": [
      "step : 500, Loss : 2.160685, Accuracy : 0.953600\n",
      "step : 500, Loss : 4.095010, Accuracy : 0.956200\n",
      "step : 500, Loss : 5.211536, Accuracy : 0.965067\n",
      "step : 500, Loss : 5.940545, Accuracy : 0.968200\n",
      "step : 1000, Loss : 2.228215, Accuracy : 0.952400\n",
      "step : 1000, Loss : 4.340529, Accuracy : 0.954800\n",
      "step : 1000, Loss : 5.394093, Accuracy : 0.964133\n",
      "step : 1000, Loss : 6.096089, Accuracy : 0.968400\n",
      "step : 1500, Loss : 2.167044, Accuracy : 0.956400\n",
      "step : 1500, Loss : 4.072395, Accuracy : 0.956600\n",
      "step : 1500, Loss : 5.008822, Accuracy : 0.965067\n",
      "step : 1500, Loss : 5.850277, Accuracy : 0.968200\n",
      "step : 2000, Loss : 2.024672, Accuracy : 0.956400\n",
      "step : 2000, Loss : 3.827759, Accuracy : 0.958200\n",
      "step : 2000, Loss : 4.766872, Accuracy : 0.966667\n",
      "step : 2000, Loss : 5.415824, Accuracy : 0.969900\n",
      "step : 2500, Loss : 2.073530, Accuracy : 0.956000\n",
      "step : 2500, Loss : 3.802145, Accuracy : 0.957800\n",
      "step : 2500, Loss : 4.741195, Accuracy : 0.965333\n",
      "step : 2500, Loss : 5.667326, Accuracy : 0.968200\n",
      "step : 3000, Loss : 1.564134, Accuracy : 0.961600\n",
      "step : 3000, Loss : 2.983418, Accuracy : 0.962200\n",
      "step : 3000, Loss : 3.724979, Accuracy : 0.968800\n",
      "step : 3000, Loss : 4.420702, Accuracy : 0.972300\n",
      "step : 3500, Loss : 1.443154, Accuracy : 0.962400\n",
      "step : 3500, Loss : 2.863420, Accuracy : 0.962400\n",
      "step : 3500, Loss : 3.557206, Accuracy : 0.969733\n",
      "step : 3500, Loss : 4.040961, Accuracy : 0.973200\n",
      "step : 4000, Loss : 1.535797, Accuracy : 0.966000\n",
      "step : 4000, Loss : 3.127230, Accuracy : 0.964200\n",
      "step : 4000, Loss : 3.925538, Accuracy : 0.969867\n",
      "step : 4000, Loss : 4.581321, Accuracy : 0.973000\n",
      "step : 4500, Loss : 1.493387, Accuracy : 0.962800\n",
      "step : 4500, Loss : 2.995695, Accuracy : 0.963000\n",
      "step : 4500, Loss : 3.623577, Accuracy : 0.970000\n",
      "step : 4500, Loss : 4.142888, Accuracy : 0.973700\n",
      "step : 5000, Loss : 1.342024, Accuracy : 0.963200\n",
      "step : 5000, Loss : 2.722920, Accuracy : 0.964800\n",
      "step : 5000, Loss : 3.387393, Accuracy : 0.971467\n",
      "step : 5000, Loss : 3.961279, Accuracy : 0.974900\n",
      "step : 5500, Loss : 1.325406, Accuracy : 0.967200\n",
      "step : 5500, Loss : 2.605746, Accuracy : 0.966200\n",
      "step : 5500, Loss : 3.160512, Accuracy : 0.973333\n",
      "step : 5500, Loss : 3.665539, Accuracy : 0.975900\n",
      "step : 6000, Loss : 1.488101, Accuracy : 0.960800\n",
      "step : 6000, Loss : 2.838787, Accuracy : 0.962600\n",
      "step : 6000, Loss : 3.362726, Accuracy : 0.970533\n",
      "step : 6000, Loss : 3.910619, Accuracy : 0.973900\n",
      "step : 6500, Loss : 1.450146, Accuracy : 0.962000\n",
      "step : 6500, Loss : 2.683195, Accuracy : 0.964600\n",
      "step : 6500, Loss : 3.322877, Accuracy : 0.971600\n",
      "step : 6500, Loss : 3.724900, Accuracy : 0.975300\n",
      "step : 7000, Loss : 1.334034, Accuracy : 0.962400\n",
      "step : 7000, Loss : 2.637862, Accuracy : 0.964400\n",
      "step : 7000, Loss : 3.217157, Accuracy : 0.971733\n",
      "step : 7000, Loss : 3.674687, Accuracy : 0.975000\n",
      "step : 7500, Loss : 1.165988, Accuracy : 0.964800\n",
      "step : 7500, Loss : 2.327047, Accuracy : 0.963000\n",
      "step : 7500, Loss : 3.003147, Accuracy : 0.970000\n",
      "step : 7500, Loss : 3.495540, Accuracy : 0.973600\n",
      "step : 8000, Loss : 1.507800, Accuracy : 0.960800\n",
      "step : 8000, Loss : 2.704400, Accuracy : 0.962600\n",
      "step : 8000, Loss : 3.337932, Accuracy : 0.969867\n",
      "step : 8000, Loss : 3.673606, Accuracy : 0.974600\n",
      "step : 8500, Loss : 1.131063, Accuracy : 0.961600\n",
      "step : 8500, Loss : 2.235310, Accuracy : 0.962000\n",
      "step : 8500, Loss : 2.824586, Accuracy : 0.969200\n",
      "step : 8500, Loss : 3.162327, Accuracy : 0.974000\n",
      "step : 9000, Loss : 1.152989, Accuracy : 0.964800\n",
      "step : 9000, Loss : 2.225628, Accuracy : 0.964600\n",
      "step : 9000, Loss : 2.699753, Accuracy : 0.972400\n",
      "step : 9000, Loss : 3.046741, Accuracy : 0.976400\n",
      "step : 9500, Loss : 1.306530, Accuracy : 0.964800\n",
      "step : 9500, Loss : 2.522960, Accuracy : 0.965000\n",
      "step : 9500, Loss : 2.921886, Accuracy : 0.972133\n",
      "step : 9500, Loss : 3.310672, Accuracy : 0.975500\n",
      "step : 10000, Loss : 1.259772, Accuracy : 0.957200\n",
      "step : 10000, Loss : 2.338761, Accuracy : 0.960600\n",
      "step : 10000, Loss : 2.730554, Accuracy : 0.968933\n",
      "step : 10000, Loss : 3.125488, Accuracy : 0.972700\n"
     ]
    }
   ],
   "source": [
    "i = 0\n",
    "for _ in range(10000) :\n",
    "    i += 1\n",
    "    batch_xs, batch_ts = mnist.train.next_batch(50)\n",
    "    sess.run(train_step, feed_dict={x:batch_xs, t:batch_ts, keep_prob:0.5})\n",
    "    if i % 500 == 0:\n",
    "        loss_vals, acc_vals = [], []  # 학습비용, 정확도\n",
    "        for c in range(4): #test, labels가 1만개\n",
    "            start = int(len(mnist.test.labels)/4*c) #0\n",
    "            end = int(len(mnist.test.labels)/4*(c+1)) #2500\n",
    "            loss_val, acc_val = sess.run([loss, accuracy], feed_dict={x:mnist.test.images[start:end], t:mnist.test.labels[start:end], keep_prob:1.0})\n",
    "            loss_vals.append(loss_val)\n",
    "            acc_vals.append(acc_val)\n",
    "            \n",
    "            loss_val = np.sum(loss_vals)\n",
    "            acc_val = np.mean(acc_vals)\n",
    "            \n",
    "            print(\"step : %d, Loss : %f, Accuracy : %f\" % (i, loss_val, acc_val))"
   ]
  }
 ],
 "metadata": {
  "kernelspec": {
   "display_name": "Python 3",
   "language": "python",
   "name": "python3"
  },
  "language_info": {
   "codemirror_mode": {
    "name": "ipython",
    "version": 3
   },
   "file_extension": ".py",
   "mimetype": "text/x-python",
   "name": "python",
   "nbconvert_exporter": "python",
   "pygments_lexer": "ipython3",
   "version": "3.6.6"
  }
 },
 "nbformat": 4,
 "nbformat_minor": 2
}
