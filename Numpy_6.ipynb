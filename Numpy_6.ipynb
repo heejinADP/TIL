{
 "cells": [
  {
   "cell_type": "markdown",
   "metadata": {},
   "source": [
    "# Functions of Numpy 6"
   ]
  },
  {
   "cell_type": "code",
   "execution_count": 1,
   "metadata": {},
   "outputs": [],
   "source": [
    "import pandas as pd\n",
    "from pandas import DataFrame as df\n",
    "import matplotlib.pyplot as plt\n",
    "import numpy as np"
   ]
  },
  {
   "cell_type": "code",
   "execution_count": 2,
   "metadata": {},
   "outputs": [],
   "source": [
    "df_1=df(data=np.arange(12).reshape(3,4),\n",
    "        index=['r0','r1','r2'],\n",
    "        dtype='int',\n",
    "        columns=['c0','c1','c2','c3'])"
   ]
  },
  {
   "cell_type": "code",
   "execution_count": 3,
   "metadata": {},
   "outputs": [
    {
     "name": "stdout",
     "output_type": "stream",
     "text": [
      "    c0  c1  c2  c3\n",
      "r0   0   1   2   3\n",
      "r1   4   5   6   7\n",
      "r2   8   9  10  11\n"
     ]
    }
   ],
   "source": [
    "print(df_1)"
   ]
  },
  {
   "cell_type": "code",
   "execution_count": 4,
   "metadata": {},
   "outputs": [
    {
     "name": "stdout",
     "output_type": "stream",
     "text": [
      "    r0  r1  r2\n",
      "c0   0   4   8\n",
      "c1   1   5   9\n",
      "c2   2   6  10\n",
      "c3   3   7  11\n"
     ]
    }
   ],
   "source": [
    "print(df_1.T)"
   ]
  },
  {
   "cell_type": "code",
   "execution_count": 5,
   "metadata": {},
   "outputs": [
    {
     "name": "stdout",
     "output_type": "stream",
     "text": [
      "[Index(['r0', 'r1', 'r2'], dtype='object'), Index(['c0', 'c1', 'c2', 'c3'], dtype='object')]\n"
     ]
    }
   ],
   "source": [
    "print(df_1.axes)"
   ]
  },
  {
   "cell_type": "code",
   "execution_count": 6,
   "metadata": {},
   "outputs": [
    {
     "name": "stdout",
     "output_type": "stream",
     "text": [
      "c0    int32\n",
      "c1    int32\n",
      "c2    int32\n",
      "c3    int32\n",
      "dtype: object\n"
     ]
    }
   ],
   "source": [
    "print(df_1.dtypes)"
   ]
  },
  {
   "cell_type": "code",
   "execution_count": 7,
   "metadata": {},
   "outputs": [
    {
     "name": "stdout",
     "output_type": "stream",
     "text": [
      "12\n"
     ]
    }
   ],
   "source": [
    "print(df_1.size)"
   ]
  },
  {
   "cell_type": "code",
   "execution_count": 8,
   "metadata": {},
   "outputs": [
    {
     "name": "stdout",
     "output_type": "stream",
     "text": [
      "<class 'pandas.core.frame.DataFrame'>\n"
     ]
    }
   ],
   "source": [
    "print(type(df_1))"
   ]
  },
  {
   "cell_type": "code",
   "execution_count": 9,
   "metadata": {},
   "outputs": [
    {
     "name": "stdout",
     "output_type": "stream",
     "text": [
      "[[ 0  1  2  3]\n",
      " [ 4  5  6  7]\n",
      " [ 8  9 10 11]]\n"
     ]
    }
   ],
   "source": [
    "print(df_1.values)"
   ]
  },
  {
   "cell_type": "code",
   "execution_count": 10,
   "metadata": {},
   "outputs": [
    {
     "name": "stdout",
     "output_type": "stream",
     "text": [
      "<class 'numpy.ndarray'>\n"
     ]
    }
   ],
   "source": [
    "print(type(df_1.values))"
   ]
  },
  {
   "cell_type": "code",
   "execution_count": 11,
   "metadata": {},
   "outputs": [],
   "source": [
    "df_2=df({\n",
    "    'class_1':['a','a','b','b','c'],\n",
    "    'var_1':np.arange(5),\n",
    "    'var_2':np.random.randn(5)}, \n",
    "    index=['r0','r1','r2','r3','r4'])"
   ]
  },
  {
   "cell_type": "code",
   "execution_count": 12,
   "metadata": {},
   "outputs": [
    {
     "name": "stdout",
     "output_type": "stream",
     "text": [
      "   class_1  var_1     var_2\n",
      "r0       a      0  0.384554\n",
      "r1       a      1 -1.313508\n",
      "r2       b      2 -0.063281\n",
      "r3       b      3  3.013917\n",
      "r4       c      4 -0.326598\n"
     ]
    }
   ],
   "source": [
    "print(df_2)"
   ]
  },
  {
   "cell_type": "code",
   "execution_count": 13,
   "metadata": {},
   "outputs": [
    {
     "name": "stdout",
     "output_type": "stream",
     "text": [
      "Index(['r0', 'r1', 'r2', 'r3', 'r4'], dtype='object')\n"
     ]
    }
   ],
   "source": [
    "print(df_2.index)"
   ]
  },
  {
   "cell_type": "code",
   "execution_count": 19,
   "metadata": {},
   "outputs": [
    {
     "name": "stdout",
     "output_type": "stream",
     "text": [
      "   class_1  var_1     var_2\n",
      "r2       b      2 -0.063281\n",
      "r3       b      3  3.013917\n",
      "r4       c      4 -0.326598\n"
     ]
    }
   ],
   "source": [
    "print(df_2.iloc[2:])"
   ]
  },
  {
   "cell_type": "code",
   "execution_count": 20,
   "metadata": {},
   "outputs": [
    {
     "name": "stdout",
     "output_type": "stream",
     "text": [
      "class_1            b\n",
      "var_1              2\n",
      "var_2     -0.0632805\n",
      "Name: r2, dtype: object\n"
     ]
    }
   ],
   "source": [
    "print(df_2.iloc[2])"
   ]
  },
  {
   "cell_type": "code",
   "execution_count": 21,
   "metadata": {},
   "outputs": [
    {
     "name": "stdout",
     "output_type": "stream",
     "text": [
      "   class_1  var_1     var_2\n",
      "r0       a      0  0.384554\n",
      "r1       a      1 -1.313508\n",
      "r2       b      2 -0.063281\n"
     ]
    }
   ],
   "source": [
    "print(df_2.head(3))"
   ]
  },
  {
   "cell_type": "code",
   "execution_count": 22,
   "metadata": {},
   "outputs": [
    {
     "name": "stdout",
     "output_type": "stream",
     "text": [
      "   class_1  var_1     var_2\n",
      "r2       b      2 -0.063281\n",
      "r3       b      3  3.013917\n",
      "r4       c      4 -0.326598\n"
     ]
    }
   ],
   "source": [
    "print(df_2.tail(3))"
   ]
  },
  {
   "cell_type": "code",
   "execution_count": 23,
   "metadata": {},
   "outputs": [
    {
     "name": "stdout",
     "output_type": "stream",
     "text": [
      "Index(['class_1', 'var_1', 'var_2'], dtype='object')\n"
     ]
    }
   ],
   "source": [
    "print(df_2.columns)"
   ]
  },
  {
   "cell_type": "code",
   "execution_count": 24,
   "metadata": {},
   "outputs": [
    {
     "name": "stdout",
     "output_type": "stream",
     "text": [
      "r0    a\n",
      "r1    a\n",
      "r2    b\n",
      "r3    b\n",
      "r4    c\n",
      "Name: class_1, dtype: object\n"
     ]
    }
   ],
   "source": [
    "print(df_2['class_1'])"
   ]
  },
  {
   "cell_type": "code",
   "execution_count": 25,
   "metadata": {},
   "outputs": [
    {
     "name": "stdout",
     "output_type": "stream",
     "text": [
      "   class_1     var_2\n",
      "r0       a  0.384554\n",
      "r1       a -1.313508\n",
      "r2       b -0.063281\n",
      "r3       b  3.013917\n",
      "r4       c -0.326598\n"
     ]
    }
   ],
   "source": [
    "print(df_2[['class_1','var_2']])"
   ]
  },
  {
   "cell_type": "markdown",
   "metadata": {},
   "source": [
    "=========================================================="
   ]
  },
  {
   "cell_type": "code",
   "execution_count": 31,
   "metadata": {},
   "outputs": [
    {
     "name": "stdout",
     "output_type": "stream",
     "text": [
      "    c1        c2\n",
      "r0   0  0.742612\n",
      "r1   1  0.931597\n",
      "r2   2  0.848705\n",
      "r3   3 -0.954768\n",
      "r4   4 -0.039375\n"
     ]
    }
   ],
   "source": [
    "idx=['r0','r1','r2','r3','r4']\n",
    "df_1=df({'c1':np.arange(5),\n",
    "         'c2': np.random.randn(5)},\n",
    "        index=idx)\n",
    "print(df_1)"
   ]
  },
  {
   "cell_type": "code",
   "execution_count": 32,
   "metadata": {},
   "outputs": [
    {
     "name": "stdout",
     "output_type": "stream",
     "text": [
      "     c1        c2\n",
      "r0  0.0  0.742612\n",
      "r1  1.0  0.931597\n",
      "r2  2.0  0.848705\n",
      "r5  NaN       NaN\n",
      "r6  NaN       NaN\n"
     ]
    }
   ],
   "source": [
    "new_idx=['r0','r1','r2','r5','r6']\n",
    "df_1=df_1.reindex(new_idx)\n",
    "print(df_1)"
   ]
  },
  {
   "cell_type": "code",
   "execution_count": 37,
   "metadata": {},
   "outputs": [
    {
     "name": "stdout",
     "output_type": "stream",
     "text": [
      "     c1        c2\n",
      "r0  0.0  0.742612\n",
      "r1  1.0  0.931597\n",
      "r2  2.0  0.848705\n",
      "r5  NaN       NaN\n",
      "r6  NaN       NaN\n"
     ]
    }
   ],
   "source": [
    "df_1=df_1.reindex(new_idx,fill_value='missing')\n",
    "print(df_1)"
   ]
  },
  {
   "cell_type": "markdown",
   "metadata": {},
   "source": [
    "========================================================="
   ]
  },
  {
   "cell_type": "code",
   "execution_count": 35,
   "metadata": {},
   "outputs": [
    {
     "name": "stdout",
     "output_type": "stream",
     "text": [
      "DatetimeIndex(['2018-09-10', '2018-09-11', '2018-09-12', '2018-09-13',\n",
      "               '2018-09-14', '2018-09-17', '2018-09-18', '2018-09-19',\n",
      "               '2018-09-20', '2018-09-21', '2018-09-24', '2018-09-25',\n",
      "               '2018-09-26', '2018-09-27', '2018-09-28'],\n",
      "              dtype='datetime64[ns]', freq='B')\n"
     ]
    }
   ],
   "source": [
    "print(pd.date_range(\"2018-9-10\", \"2018-9-30\", freq='B'))"
   ]
  },
  {
   "cell_type": "code",
   "execution_count": 36,
   "metadata": {},
   "outputs": [
    {
     "name": "stdout",
     "output_type": "stream",
     "text": [
      "DatetimeIndex(['2018-09-10', '2018-09-11', '2018-09-12', '2018-09-13',\n",
      "               '2018-09-14', '2018-09-15', '2018-09-16', '2018-09-17',\n",
      "               '2018-09-18', '2018-09-19'],\n",
      "              dtype='datetime64[ns]', freq='D')\n"
     ]
    }
   ],
   "source": [
    "date_idx=pd.date_range(\"09/10/2018\", periods=10, freq='D')\n",
    "print(date_idx)"
   ]
  },
  {
   "cell_type": "code",
   "execution_count": 38,
   "metadata": {},
   "outputs": [
    {
     "name": "stdout",
     "output_type": "stream",
     "text": [
      "            c1\n",
      "2018-09-10  10\n",
      "2018-09-11  20\n",
      "2018-09-12  30\n",
      "2018-09-13  40\n",
      "2018-09-14  50\n",
      "2018-09-15  10\n",
      "2018-09-16  20\n",
      "2018-09-17  30\n",
      "2018-09-18  40\n",
      "2018-09-19  50\n"
     ]
    }
   ],
   "source": [
    "df_2=df({\"c1\":[10,20,30,40,50,10,20,30,40,50]},index=date_idx)\n",
    "print(df_2)"
   ]
  },
  {
   "cell_type": "code",
   "execution_count": 39,
   "metadata": {},
   "outputs": [
    {
     "name": "stdout",
     "output_type": "stream",
     "text": [
      "DatetimeIndex(['2018-09-05', '2018-09-06', '2018-09-07', '2018-09-08',\n",
      "               '2018-09-09', '2018-09-10', '2018-09-11', '2018-09-12',\n",
      "               '2018-09-13', '2018-09-14', '2018-09-15', '2018-09-16',\n",
      "               '2018-09-17', '2018-09-18', '2018-09-19', '2018-09-20',\n",
      "               '2018-09-21', '2018-09-22', '2018-09-23', '2018-09-24'],\n",
      "              dtype='datetime64[ns]', freq='D')\n"
     ]
    }
   ],
   "source": [
    "date_idx2=pd.date_range(\"09/05/2018\", periods=20, freq='D')\n",
    "print(date_idx2)"
   ]
  },
  {
   "cell_type": "code",
   "execution_count": 40,
   "metadata": {},
   "outputs": [
    {
     "name": "stdout",
     "output_type": "stream",
     "text": [
      "              c1\n",
      "2018-09-05   NaN\n",
      "2018-09-06   NaN\n",
      "2018-09-07   NaN\n",
      "2018-09-08   NaN\n",
      "2018-09-09   NaN\n",
      "2018-09-10  10.0\n",
      "2018-09-11  20.0\n",
      "2018-09-12  30.0\n",
      "2018-09-13  40.0\n",
      "2018-09-14  50.0\n",
      "2018-09-15  10.0\n",
      "2018-09-16  20.0\n",
      "2018-09-17  30.0\n",
      "2018-09-18  40.0\n",
      "2018-09-19  50.0\n",
      "2018-09-20   NaN\n",
      "2018-09-21   NaN\n",
      "2018-09-22   NaN\n",
      "2018-09-23   NaN\n",
      "2018-09-24   NaN\n"
     ]
    }
   ],
   "source": [
    "df_2=df_2.reindex(date_idx2)\n",
    "print(df_2)"
   ]
  },
  {
   "cell_type": "code",
   "execution_count": 41,
   "metadata": {},
   "outputs": [
    {
     "name": "stdout",
     "output_type": "stream",
     "text": [
      "              c1\n",
      "2018-09-05   NaN\n",
      "2018-09-06   NaN\n",
      "2018-09-07   NaN\n",
      "2018-09-08   NaN\n",
      "2018-09-09   NaN\n",
      "2018-09-10  10.0\n",
      "2018-09-11  20.0\n",
      "2018-09-12  30.0\n",
      "2018-09-13  40.0\n",
      "2018-09-14  50.0\n",
      "2018-09-15  10.0\n",
      "2018-09-16  20.0\n",
      "2018-09-17  30.0\n",
      "2018-09-18  40.0\n",
      "2018-09-19  50.0\n",
      "2018-09-20   NaN\n",
      "2018-09-21   NaN\n",
      "2018-09-22   NaN\n",
      "2018-09-23   NaN\n",
      "2018-09-24   NaN\n"
     ]
    }
   ],
   "source": [
    "df_2=df_2.reindex(date_idx2, method='bfill')\n",
    "print(df_2)"
   ]
  },
  {
   "cell_type": "code",
   "execution_count": null,
   "metadata": {},
   "outputs": [],
   "source": []
  }
 ],
 "metadata": {
  "kernelspec": {
   "display_name": "Python 3",
   "language": "python",
   "name": "python3"
  },
  "language_info": {
   "codemirror_mode": {
    "name": "ipython",
    "version": 3
   },
   "file_extension": ".py",
   "mimetype": "text/x-python",
   "name": "python",
   "nbconvert_exporter": "python",
   "pygments_lexer": "ipython3",
   "version": "3.6.5"
  }
 },
 "nbformat": 4,
 "nbformat_minor": 2
}
