{
 "cells": [
  {
   "cell_type": "code",
   "execution_count": 49,
   "metadata": {},
   "outputs": [],
   "source": [
    "import random"
   ]
  },
  {
   "cell_type": "markdown",
   "metadata": {},
   "source": [
    "**BMI 분류**"
   ]
  },
  {
   "cell_type": "code",
   "execution_count": 50,
   "metadata": {},
   "outputs": [],
   "source": [
    "fp = open(\"DataSet/bmi.csv\", mode=\"w\", encoding=\"utf-8\")"
   ]
  },
  {
   "cell_type": "code",
   "execution_count": 51,
   "metadata": {},
   "outputs": [
    {
     "name": "stdout",
     "output_type": "stream",
     "text": [
      "완료,  {'thin': 5065, 'normal': 5408, 'fat': 9527}\n"
     ]
    }
   ],
   "source": [
    "fp.write(\"height,weight,label\\r\\n\")\n",
    "cnt={\"thin\":0, \"normal\":0, \"fat\":0}\n",
    "\n",
    "def calc_bmi(h,w):\n",
    "    bmi = w/(h/100)**2\n",
    "    if bmi < 18.5: return \"thin\"\n",
    "    if bmi < 25 : return \"normal\"\n",
    "    return \"fat\"\n",
    "\n",
    "for i in range(20000):\n",
    "    h=random.randint(130, 200)\n",
    "    w=random.randint(35,100)\n",
    "    label = calc_bmi(h,w)\n",
    "    cnt[label] += 1\n",
    "    fp.write(\"{0},{1},{2}\\r\\n\".format(h,w,label))\n",
    "fp.close()\n",
    "print(\"완료, \", cnt)"
   ]
  },
  {
   "cell_type": "markdown",
   "metadata": {},
   "source": [
    "* * *"
   ]
  },
  {
   "cell_type": "code",
   "execution_count": 52,
   "metadata": {},
   "outputs": [],
   "source": [
    "from sklearn import svm, metrics\n",
    "from sklearn.model_selection import train_test_split\n",
    "import pandas as pd\n",
    "import matplotlib.pyplot as plt"
   ]
  },
  {
   "cell_type": "code",
   "execution_count": 53,
   "metadata": {},
   "outputs": [
    {
     "data": {
      "text/html": [
       "<div>\n",
       "<style scoped>\n",
       "    .dataframe tbody tr th:only-of-type {\n",
       "        vertical-align: middle;\n",
       "    }\n",
       "\n",
       "    .dataframe tbody tr th {\n",
       "        vertical-align: top;\n",
       "    }\n",
       "\n",
       "    .dataframe thead th {\n",
       "        text-align: right;\n",
       "    }\n",
       "</style>\n",
       "<table border=\"1\" class=\"dataframe\">\n",
       "  <thead>\n",
       "    <tr style=\"text-align: right;\">\n",
       "      <th></th>\n",
       "      <th>height</th>\n",
       "      <th>weight</th>\n",
       "      <th>label</th>\n",
       "    </tr>\n",
       "  </thead>\n",
       "  <tbody>\n",
       "    <tr>\n",
       "      <th>0</th>\n",
       "      <td>151</td>\n",
       "      <td>67</td>\n",
       "      <td>fat</td>\n",
       "    </tr>\n",
       "    <tr>\n",
       "      <th>1</th>\n",
       "      <td>160</td>\n",
       "      <td>73</td>\n",
       "      <td>fat</td>\n",
       "    </tr>\n",
       "    <tr>\n",
       "      <th>2</th>\n",
       "      <td>177</td>\n",
       "      <td>85</td>\n",
       "      <td>fat</td>\n",
       "    </tr>\n",
       "    <tr>\n",
       "      <th>3</th>\n",
       "      <td>179</td>\n",
       "      <td>55</td>\n",
       "      <td>thin</td>\n",
       "    </tr>\n",
       "    <tr>\n",
       "      <th>4</th>\n",
       "      <td>149</td>\n",
       "      <td>85</td>\n",
       "      <td>fat</td>\n",
       "    </tr>\n",
       "    <tr>\n",
       "      <th>5</th>\n",
       "      <td>196</td>\n",
       "      <td>72</td>\n",
       "      <td>normal</td>\n",
       "    </tr>\n",
       "    <tr>\n",
       "      <th>6</th>\n",
       "      <td>137</td>\n",
       "      <td>67</td>\n",
       "      <td>fat</td>\n",
       "    </tr>\n",
       "    <tr>\n",
       "      <th>7</th>\n",
       "      <td>199</td>\n",
       "      <td>60</td>\n",
       "      <td>thin</td>\n",
       "    </tr>\n",
       "    <tr>\n",
       "      <th>8</th>\n",
       "      <td>180</td>\n",
       "      <td>76</td>\n",
       "      <td>normal</td>\n",
       "    </tr>\n",
       "    <tr>\n",
       "      <th>9</th>\n",
       "      <td>176</td>\n",
       "      <td>83</td>\n",
       "      <td>fat</td>\n",
       "    </tr>\n",
       "  </tbody>\n",
       "</table>\n",
       "</div>"
      ],
      "text/plain": [
       "   height  weight   label\n",
       "0     151      67     fat\n",
       "1     160      73     fat\n",
       "2     177      85     fat\n",
       "3     179      55    thin\n",
       "4     149      85     fat\n",
       "5     196      72  normal\n",
       "6     137      67     fat\n",
       "7     199      60    thin\n",
       "8     180      76  normal\n",
       "9     176      83     fat"
      ]
     },
     "execution_count": 53,
     "metadata": {},
     "output_type": "execute_result"
    }
   ],
   "source": [
    "tb1 = pd.read_csv(\"DataSet/bmi.csv\")\n",
    "tb1.head(10)"
   ]
  },
  {
   "cell_type": "code",
   "execution_count": 54,
   "metadata": {},
   "outputs": [
    {
     "name": "stderr",
     "output_type": "stream",
     "text": [
      "C:\\ProgramData\\Anaconda3\\lib\\site-packages\\sklearn\\svm\\base.py:196: FutureWarning: The default value of gamma will change from 'auto' to 'scale' in version 0.22 to account better for unscaled features. Set gamma explicitly to 'auto' or 'scale' to avoid this warning.\n",
      "  \"avoid this warning.\", FutureWarning)\n"
     ]
    },
    {
     "name": "stdout",
     "output_type": "stream",
     "text": [
      "정답률 =  0.9872\n"
     ]
    }
   ],
   "source": [
    "label = tb1[\"label\"]\n",
    "w = tb1[\"weight\"]/100\n",
    "h = tb1[\"height\"]/200\n",
    "wh = pd.concat([w,h], axis = 1)\n",
    "\n",
    "# 학습용/테스트용으로 데이터 분리\n",
    "data_train, data_test, label_train, label_test = train_test_split(wh, label)\n",
    "\n",
    "clf = svm.SVC() #svm 객체 생성\n",
    "clf.fit(data_train, label_train) #모델생성\n",
    "\n",
    "predict = clf.predict(data_test)\n",
    "\n",
    "ac_score = metrics.accuracy_score(label_test, predict)\n",
    "print(\"정답률 = \", ac_score)"
   ]
  },
  {
   "cell_type": "code",
   "execution_count": 55,
   "metadata": {},
   "outputs": [
    {
     "name": "stdout",
     "output_type": "stream",
     "text": [
      "[리포트]\n",
      "               precision    recall  f1-score   support\n",
      "\n",
      "         fat       1.00      0.99      0.99      2389\n",
      "      normal       0.97      0.99      0.98      1347\n",
      "        thin       0.99      0.98      0.98      1264\n",
      "\n",
      "   micro avg       0.99      0.99      0.99      5000\n",
      "   macro avg       0.98      0.99      0.99      5000\n",
      "weighted avg       0.99      0.99      0.99      5000\n",
      "\n"
     ]
    }
   ],
   "source": [
    "cl_report = metrics.classification_report(label_test, predict)\n",
    "print(\"[리포트]\\n\", cl_report)"
   ]
  },
  {
   "cell_type": "markdown",
   "metadata": {},
   "source": [
    "* * *"
   ]
  },
  {
   "cell_type": "code",
   "execution_count": 56,
   "metadata": {},
   "outputs": [
    {
     "data": {
      "image/png": "[encoded data removed]",
      "text/plain": [
       "<Figure size 432x288 with 1 Axes>"
      ]
     },
     "metadata": {
      "needs_background": "light"
     },
     "output_type": "display_data"
    }
   ],
   "source": [
    "tbl=pd.read_csv('DataSet/bmi.csv',index_col=2)\n",
    "\n",
    "fig = plt.figure()\n",
    "ax = fig.add_subplot(1,1,1) # figure을 여러개로 나눔 칸한개\n",
    "def scatter(lbl,color):\n",
    "    b = tbl.loc[lbl]\n",
    "    ax.scatter(b['weight'],b['height'],c=color,label = lbl)\n",
    "\n",
    "scatter('fat','red')\n",
    "scatter('normal','yellow')\n",
    "scatter('thin','purple')\n",
    "ax.legend()\n",
    "plt.savefig('DataSet/bmi.png')\n",
    "plt.show()"
   ]
  }
 ],
 "metadata": {
  "kernelspec": {
   "display_name": "Python 3",
   "language": "python",
   "name": "python3"
  },
  "language_info": {
   "codemirror_mode": {
    "name": "ipython",
    "version": 3
   },
   "file_extension": ".py",
   "mimetype": "text/x-python",
   "name": "python",
   "nbconvert_exporter": "python",
   "pygments_lexer": "ipython3",
   "version": "3.6.6"
  }
 },
 "nbformat": 4,
 "nbformat_minor": 2
}
