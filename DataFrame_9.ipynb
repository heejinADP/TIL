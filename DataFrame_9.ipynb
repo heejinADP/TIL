{
 "cells": [
  {
   "cell_type": "markdown",
   "metadata": {},
   "source": [
    "# Functions of DataFrame 9"
   ]
  },
  {
   "cell_type": "markdown",
   "metadata": {},
   "source": [
    "**format()**"
   ]
  },
  {
   "cell_type": "code",
   "execution_count": 28,
   "metadata": {},
   "outputs": [
    {
     "name": "stdout",
     "output_type": "stream",
     "text": [
      "3.14\n",
      "+3.14\n"
     ]
    }
   ],
   "source": [
    "x=3.141592\n",
    "print(\"{:.2f}\".format(x))\n",
    "print(\"{:+.2f}\".format(x))"
   ]
  },
  {
   "cell_type": "code",
   "execution_count": 27,
   "metadata": {},
   "outputs": [
    {
     "name": "stdout",
     "output_type": "stream",
     "text": [
      "-3.14\n"
     ]
    }
   ],
   "source": [
    "x=-3.141592\n",
    "print(\"{:+.2f}\".format(x))"
   ]
  },
  {
   "cell_type": "code",
   "execution_count": 30,
   "metadata": {},
   "outputs": [
    {
     "name": "stdout",
     "output_type": "stream",
     "text": [
      "3\n"
     ]
    }
   ],
   "source": [
    "x=2.718\n",
    "print(\"{:.0f}\".format(x))"
   ]
  },
  {
   "cell_type": "code",
   "execution_count": 31,
   "metadata": {},
   "outputs": [
    {
     "name": "stdout",
     "output_type": "stream",
     "text": [
      "05\n"
     ]
    }
   ],
   "source": [
    "x=5\n",
    "print(\"{:0>2d}\".format(x))"
   ]
  },
  {
   "cell_type": "code",
   "execution_count": 34,
   "metadata": {},
   "outputs": [
    {
     "name": "stdout",
     "output_type": "stream",
     "text": [
      "77777777777\n",
      "77,777,777,777\n"
     ]
    }
   ],
   "source": [
    "x=77777777777\n",
    "print(\"{:0>5d}\".format(x))\n",
    "print(\"{:,}\".format(x))"
   ]
  },
  {
   "cell_type": "code",
   "execution_count": 35,
   "metadata": {},
   "outputs": [
    {
     "name": "stdout",
     "output_type": "stream",
     "text": [
      "25.00%\n"
     ]
    }
   ],
   "source": [
    "x=0.25\n",
    "print(\"{:.2%}\".format(x))"
   ]
  },
  {
   "cell_type": "markdown",
   "metadata": {},
   "source": [
    "**applry()**"
   ]
  },
  {
   "cell_type": "code",
   "execution_count": 2,
   "metadata": {},
   "outputs": [],
   "source": [
    "import pandas as pd"
   ]
  },
  {
   "cell_type": "code",
   "execution_count": 3,
   "metadata": {},
   "outputs": [
    {
     "name": "stdout",
     "output_type": "stream",
     "text": [
      "    id name\n",
      "0    1  aaa\n",
      "1    2  bbb\n",
      "2   10  ccc\n",
      "3   20  ddd\n",
      "4  100  eee\n",
      "5  200  fff\n"
     ]
    }
   ],
   "source": [
    "df=pd.DataFrame({\n",
    "    'id':[1,2,10,20,100,200],\n",
    "    'name':['aaa','bbb','ccc','ddd','eee','fff']\n",
    "})\n",
    "print(df)"
   ]
  },
  {
   "cell_type": "code",
   "execution_count": 4,
   "metadata": {},
   "outputs": [
    {
     "name": "stdout",
     "output_type": "stream",
     "text": [
      "    id name   id_2\n",
      "0    1  aaa  00001\n",
      "1    2  bbb  00002\n",
      "2   10  ccc  00010\n",
      "3   20  ddd  00020\n",
      "4  100  eee  00100\n",
      "5  200  fff  00200\n"
     ]
    }
   ],
   "source": [
    "df['id_2']=df['id'].apply(lambda x:\"{:0>5d}\".format(x))\n",
    "print(df)"
   ]
  },
  {
   "cell_type": "code",
   "execution_count": 5,
   "metadata": {},
   "outputs": [
    {
     "name": "stdout",
     "output_type": "stream",
     "text": [
      "    id name   id_2    id_name\n",
      "0    1  aaa  00001  00001_aaa\n",
      "1    2  bbb  00002  00002_bbb\n",
      "2   10  ccc  00010  00010_ccc\n",
      "3   20  ddd  00020  00020_ddd\n",
      "4  100  eee  00100  00100_eee\n",
      "5  200  fff  00200  00200_fff\n"
     ]
    }
   ],
   "source": [
    "df['id_name']=df[['id_2','name']].apply(lambda x:'_'.join(x),axis=1)\n",
    "print(df)"
   ]
  },
  {
   "cell_type": "code",
   "execution_count": 7,
   "metadata": {},
   "outputs": [
    {
     "name": "stdout",
     "output_type": "stream",
     "text": [
      "    id name   id_2    id_name    id_3\n",
      "0    1  aaa  00001  00001_aaa    1.00\n",
      "1    2  bbb  00002  00002_bbb    2.00\n",
      "2   10  ccc  00010  00010_ccc   10.00\n",
      "3   20  ddd  00020  00020_ddd   20.00\n",
      "4  100  eee  00100  00100_eee  100.00\n",
      "5  200  fff  00200  00200_fff  200.00\n"
     ]
    }
   ],
   "source": [
    "df['id_3']=df['id'].apply(lambda x:\"{:.2f}\".format(x))\n",
    "print(df)"
   ]
  },
  {
   "cell_type": "code",
   "execution_count": 8,
   "metadata": {},
   "outputs": [
    {
     "name": "stdout",
     "output_type": "stream",
     "text": [
      "    id name   id_2    id_name    id_3 name_3\n",
      "0    1  aaa  00001  00001_aaa    1.00    AAA\n",
      "1    2  bbb  00002  00002_bbb    2.00    BBB\n",
      "2   10  ccc  00010  00010_ccc   10.00    CCC\n",
      "3   20  ddd  00020  00020_ddd   20.00    DDD\n",
      "4  100  eee  00100  00100_eee  100.00    EEE\n",
      "5  200  fff  00200  00200_fff  200.00    FFF\n"
     ]
    }
   ],
   "source": [
    "df['name_3']=df['name'].apply(lambda x:x.upper())\n",
    "print(df)"
   ]
  },
  {
   "cell_type": "code",
   "execution_count": 11,
   "metadata": {},
   "outputs": [
    {
     "name": "stdout",
     "output_type": "stream",
     "text": [
      "    id name   id_2    id_name    id_3 name_3   id_name_3\n",
      "0    1  aaa  00001  00001_aaa    1.00    AAA    1.00:AAA\n",
      "1    2  bbb  00002  00002_bbb    2.00    BBB    2.00:BBB\n",
      "2   10  ccc  00010  00010_ccc   10.00    CCC   10.00:CCC\n",
      "3   20  ddd  00020  00020_ddd   20.00    DDD   20.00:DDD\n",
      "4  100  eee  00100  00100_eee  100.00    EEE  100.00:EEE\n",
      "5  200  fff  00200  00200_fff  200.00    FFF  200.00:FFF\n"
     ]
    }
   ],
   "source": [
    "df['id_name_3']=df[['id_3','name_3']].apply(lambda x:':'.join(x),axis=1)\n",
    "print(df)"
   ]
  },
  {
   "cell_type": "markdown",
   "metadata": {},
   "source": [
    "**groupby()**"
   ]
  },
  {
   "cell_type": "code",
   "execution_count": 36,
   "metadata": {},
   "outputs": [],
   "source": [
    "import pandas as pd\n",
    "import numpy as np\n",
    "from pandas import DataFrame, Series"
   ]
  },
  {
   "cell_type": "code",
   "execution_count": 37,
   "metadata": {},
   "outputs": [
    {
     "name": "stdout",
     "output_type": "stream",
     "text": [
      "    c1  c2  c3  c4  c5\n",
      "r1   0   1   2   3   4\n",
      "r2   5   6   7   8   9\n",
      "r3  10  11  12  13  14\n",
      "r4  15  16  17  18  19\n"
     ]
    }
   ],
   "source": [
    "df=DataFrame(data=np.arange(20).reshape(4,5),\n",
    "             columns=['c1','c2','c3','c4','c5'],\n",
    "             index=['r1','r2','r3','r4'])\n",
    "print(df)"
   ]
  },
  {
   "cell_type": "code",
   "execution_count": 45,
   "metadata": {},
   "outputs": [
    {
     "name": "stdout",
     "output_type": "stream",
     "text": [
      "        c1  c2  c3  c4  c5\n",
      "row_g1   5   7   9  11  13\n",
      "row_g2  25  27  29  31  33\n"
     ]
    }
   ],
   "source": [
    "mdr={'r1':'row_g1',\n",
    "     'r2':'row_g1',\n",
    "     'r3':'row_g2',\n",
    "     'r4':'row_g2'}\n",
    "gbr=df.groupby(mdr)\n",
    "print(gbr.sum())"
   ]
  },
  {
   "cell_type": "code",
   "execution_count": 48,
   "metadata": {},
   "outputs": [
    {
     "name": "stdout",
     "output_type": "stream",
     "text": [
      "<class 'dict'>\n"
     ]
    }
   ],
   "source": [
    "print(type(mdr))"
   ]
  },
  {
   "cell_type": "code",
   "execution_count": 50,
   "metadata": {},
   "outputs": [
    {
     "name": "stdout",
     "output_type": "stream",
     "text": [
      "r1    row_g1\n",
      "r2    row_g1\n",
      "r3    row_g2\n",
      "r4    row_g2\n",
      "dtype: object\n"
     ]
    }
   ],
   "source": [
    "msr=Series(mdr)\n",
    "print(msr)"
   ]
  },
  {
   "cell_type": "code",
   "execution_count": 53,
   "metadata": {},
   "outputs": [
    {
     "name": "stdout",
     "output_type": "stream",
     "text": [
      "<class 'pandas.core.series.Series'>\n"
     ]
    }
   ],
   "source": [
    "print(type(msr))"
   ]
  },
  {
   "cell_type": "code",
   "execution_count": 47,
   "metadata": {},
   "outputs": [
    {
     "name": "stdout",
     "output_type": "stream",
     "text": [
      "    col_g1  col_g2\n",
      "r1       1       9\n",
      "r2      11      24\n",
      "r3      21      39\n",
      "r4      31      54\n"
     ]
    }
   ],
   "source": [
    "mdc={'c1':'col_g1',\n",
    "     'c2':'col_g1',\n",
    "     'c3':'col_g2',\n",
    "     'c4':'col_g2',\n",
    "     'c5':'col_g2'}\n",
    "gbc=df.groupby(mdc,axis=1)\n",
    "print(gbc.sum())"
   ]
  },
  {
   "cell_type": "code",
   "execution_count": 54,
   "metadata": {},
   "outputs": [
    {
     "name": "stdout",
     "output_type": "stream",
     "text": [
      "{'c1': 'col_g1', 'c2': 'col_g1', 'c3': 'col_g2', 'c4': 'col_g2', 'c5': 'col_g2'}\n"
     ]
    }
   ],
   "source": [
    "msc=Series(mdc)\n",
    "print(mdc)"
   ]
  },
  {
   "cell_type": "code",
   "execution_count": 56,
   "metadata": {},
   "outputs": [
    {
     "name": "stdout",
     "output_type": "stream",
     "text": [
      "    col_g1  col_g2\n",
      "r1       1       9\n",
      "r2      11      24\n",
      "r3      21      39\n",
      "r4      31      54\n"
     ]
    }
   ],
   "source": [
    "print(df.groupby(msc,axis=1).sum())"
   ]
  },
  {
   "cell_type": "code",
   "execution_count": 58,
   "metadata": {},
   "outputs": [
    {
     "name": "stdout",
     "output_type": "stream",
     "text": [
      "       c1  c2  c3  c4  c5\n",
      "rowg2  25  27  29  31  33\n"
     ]
    }
   ],
   "source": [
    "def rgf(x):\n",
    "    if x=='r1' or x=='r2':\n",
    "        rg='row_g1'\n",
    "    else:\n",
    "        rg='rowg2'\n",
    "        return rg\n",
    "print(df.groupby(rgf).sum())"
   ]
  }
 ],
 "metadata": {
  "kernelspec": {
   "display_name": "Python 3",
   "language": "python",
   "name": "python3"
  },
  "language_info": {
   "codemirror_mode": {
    "name": "ipython",
    "version": 3
   },
   "file_extension": ".py",
   "mimetype": "text/x-python",
   "name": "python",
   "nbconvert_exporter": "python",
   "pygments_lexer": "ipython3",
   "version": "3.6.5"
  }
 },
 "nbformat": 4,
 "nbformat_minor": 2
}
