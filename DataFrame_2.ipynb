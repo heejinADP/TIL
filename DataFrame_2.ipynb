{
 "cells": [
  {
   "cell_type": "markdown",
   "metadata": {},
   "source": [
    "# Functions of DataFrame 2"
   ]
  },
  {
   "cell_type": "markdown",
   "metadata": {},
   "source": [
    "**결측값 처리**"
   ]
  },
  {
   "cell_type": "code",
   "execution_count": 48,
   "metadata": {},
   "outputs": [],
   "source": [
    "import pandas as pd\n",
    "from pandas import DataFrame as df\n",
    "import numpy as np"
   ]
  },
  {
   "cell_type": "code",
   "execution_count": 21,
   "metadata": {},
   "outputs": [
    {
     "name": "stdout",
     "output_type": "stream",
     "text": [
      "    a    b key\n",
      "0  a0  0.5  k0\n",
      "1  a1  2.2  k1\n",
      "2  a2  3.6  k2\n",
      "3  a3  0.4  k3\n"
     ]
    }
   ],
   "source": [
    "df_left=df({\n",
    "    'a':['a0','a1','a2','a3'],\n",
    "    'b':[0.5,2.2,3.6,0.4],\n",
    "    'key' : ['k0','k1','k2','k3']})\n",
    "print(df_left)"
   ]
  },
  {
   "cell_type": "code",
   "execution_count": 22,
   "metadata": {},
   "outputs": [
    {
     "name": "stdout",
     "output_type": "stream",
     "text": [
      "    c   d key\n",
      "0  c0  d0  k2\n",
      "1  c1  d1  k3\n",
      "2  c2  d2  k4\n",
      "3  c3  d3  k5\n"
     ]
    }
   ],
   "source": [
    "df_right=df({\n",
    "    'c':['c0','c1','c2','c3'],\n",
    "    'd':['d0','d1','d2','d3'],\n",
    "    'key' : ['k2', 'k3', 'k4', 'k5']})\n",
    "print(df_right)"
   ]
  },
  {
   "cell_type": "code",
   "execution_count": 23,
   "metadata": {},
   "outputs": [],
   "source": [
    "df_all=pd.merge(df_left,df_right,how='outer',on='key')"
   ]
  },
  {
   "cell_type": "code",
   "execution_count": 24,
   "metadata": {},
   "outputs": [
    {
     "name": "stdout",
     "output_type": "stream",
     "text": [
      "     a    b key    c    d\n",
      "0   a0  0.5  k0  NaN  NaN\n",
      "1   a1  2.2  k1  NaN  NaN\n",
      "2   a2  3.6  k2   c0   d0\n",
      "3   a3  0.4  k3   c1   d1\n",
      "4  NaN  NaN  k4   c2   d2\n",
      "5  NaN  NaN  k5   c3   d3\n"
     ]
    }
   ],
   "source": [
    "print(df_all)"
   ]
  },
  {
   "cell_type": "code",
   "execution_count": 25,
   "metadata": {},
   "outputs": [
    {
     "name": "stdout",
     "output_type": "stream",
     "text": [
      "       a      b    key      c      d\n",
      "0  False  False  False   True   True\n",
      "1  False  False  False   True   True\n",
      "2  False  False  False  False  False\n",
      "3  False  False  False  False  False\n",
      "4   True   True  False  False  False\n",
      "5   True   True  False  False  False\n"
     ]
    }
   ],
   "source": [
    "print(pd.isnull(df_all))"
   ]
  },
  {
   "cell_type": "code",
   "execution_count": 26,
   "metadata": {},
   "outputs": [
    {
     "name": "stdout",
     "output_type": "stream",
     "text": [
      "       a      b    key      c      d\n",
      "0  False  False  False   True   True\n",
      "1  False  False  False   True   True\n",
      "2  False  False  False  False  False\n",
      "3  False  False  False  False  False\n",
      "4   True   True  False  False  False\n",
      "5   True   True  False  False  False\n"
     ]
    }
   ],
   "source": [
    "print(df_all.isnull())"
   ]
  },
  {
   "cell_type": "code",
   "execution_count": 27,
   "metadata": {},
   "outputs": [
    {
     "name": "stdout",
     "output_type": "stream",
     "text": [
      "       a      b   key      c      d\n",
      "0   True   True  True  False  False\n",
      "1   True   True  True  False  False\n",
      "2   True   True  True   True   True\n",
      "3   True   True  True   True   True\n",
      "4  False  False  True   True   True\n",
      "5  False  False  True   True   True\n"
     ]
    }
   ],
   "source": [
    "print(pd.notnull(df_all))"
   ]
  },
  {
   "cell_type": "code",
   "execution_count": 28,
   "metadata": {},
   "outputs": [
    {
     "name": "stdout",
     "output_type": "stream",
     "text": [
      "       a      b   key      c      d\n",
      "0   True   True  True  False  False\n",
      "1   True   True  True  False  False\n",
      "2   True   True  True   True   True\n",
      "3   True   True  True   True   True\n",
      "4  False  False  True   True   True\n",
      "5  False  False  True   True   True\n"
     ]
    }
   ],
   "source": [
    "print(df_all.notnull())"
   ]
  },
  {
   "cell_type": "code",
   "execution_count": 29,
   "metadata": {},
   "outputs": [],
   "source": [
    "df_all.loc[[0,1],['a','b']]=None"
   ]
  },
  {
   "cell_type": "code",
   "execution_count": 30,
   "metadata": {},
   "outputs": [
    {
     "name": "stdout",
     "output_type": "stream",
     "text": [
      "      a    b key    c    d\n",
      "0  None  NaN  k0  NaN  NaN\n",
      "1  None  NaN  k1  NaN  NaN\n",
      "2    a2  3.6  k2   c0   d0\n",
      "3    a3  0.4  k3   c1   d1\n",
      "4   NaN  NaN  k4   c2   d2\n",
      "5   NaN  NaN  k5   c3   d3\n"
     ]
    }
   ],
   "source": [
    "print(df_all)"
   ]
  },
  {
   "cell_type": "code",
   "execution_count": 31,
   "metadata": {},
   "outputs": [
    {
     "name": "stdout",
     "output_type": "stream",
     "text": [
      "       a      b\n",
      "0   True   True\n",
      "1   True   True\n",
      "2  False  False\n",
      "3  False  False\n",
      "4   True   True\n",
      "5   True   True\n"
     ]
    }
   ],
   "source": [
    "print(df_all[['a','b']].isnull())"
   ]
  },
  {
   "cell_type": "code",
   "execution_count": 32,
   "metadata": {},
   "outputs": [
    {
     "name": "stdout",
     "output_type": "stream",
     "text": [
      "4\n"
     ]
    }
   ],
   "source": [
    "print(df_all['a'].isnull().sum())"
   ]
  },
  {
   "cell_type": "code",
   "execution_count": 33,
   "metadata": {},
   "outputs": [
    {
     "name": "stdout",
     "output_type": "stream",
     "text": [
      "2\n"
     ]
    }
   ],
   "source": [
    "print(df_all['a'].notnull().sum())"
   ]
  },
  {
   "cell_type": "code",
   "execution_count": 34,
   "metadata": {},
   "outputs": [
    {
     "name": "stdout",
     "output_type": "stream",
     "text": [
      "0    4\n",
      "1    4\n",
      "2    0\n",
      "3    0\n",
      "4    2\n",
      "5    2\n",
      "dtype: int64\n"
     ]
    }
   ],
   "source": [
    "print(df_all.isnull().sum(1))"
   ]
  },
  {
   "cell_type": "code",
   "execution_count": 37,
   "metadata": {},
   "outputs": [
    {
     "name": "stdout",
     "output_type": "stream",
     "text": [
      "      a    b key    c    d  NaN_cnt  NotNull_cnt\n",
      "0  None  NaN  k0  NaN  NaN        4            3\n",
      "1  None  NaN  k1  NaN  NaN        4            3\n",
      "2    a2  3.6  k2   c0   d0        0            7\n",
      "3    a3  0.4  k3   c1   d1        0            7\n",
      "4   NaN  NaN  k4   c2   d2        2            5\n",
      "5   NaN  NaN  k5   c3   d3        2            5\n"
     ]
    }
   ],
   "source": [
    "df_all['NaN_cnt']=df_all.isnull().sum(1)\n",
    "df_all['NotNull_cnt']=df_all.notnull().sum(1)\n",
    "print(df_all)"
   ]
  },
  {
   "cell_type": "markdown",
   "metadata": {},
   "source": [
    "====================================================="
   ]
  },
  {
   "cell_type": "code",
   "execution_count": 36,
   "metadata": {},
   "outputs": [
    {
     "name": "stdout",
     "output_type": "stream",
     "text": [
      "   c1  c2\n",
      "a   0   1\n",
      "b   2   3\n",
      "c   4   5\n",
      "d   6   7\n",
      "e   8   9\n"
     ]
    }
   ],
   "source": [
    "df=df(np.arange(10).reshape(5,2),\n",
    "      index=['a','b','c','d','e'],\n",
    "      columns=['c1','c2'])\n",
    "print(df)"
   ]
  },
  {
   "cell_type": "code",
   "execution_count": 39,
   "metadata": {},
   "outputs": [
    {
     "name": "stdout",
     "output_type": "stream",
     "text": [
      "    c1   c2\n",
      "a  0.0  1.0\n",
      "b  NaN  NaN\n",
      "c  4.0  5.0\n",
      "d  6.0  7.0\n",
      "e  NaN  NaN\n"
     ]
    }
   ],
   "source": [
    "df.loc[['b','e'],['c1']]=None\n",
    "df.loc[['b','e'],['c2']]=None\n",
    "print(df)"
   ]
  },
  {
   "cell_type": "code",
   "execution_count": 40,
   "metadata": {},
   "outputs": [
    {
     "name": "stdout",
     "output_type": "stream",
     "text": [
      "c1    10.0\n",
      "c2    13.0\n",
      "dtype: float64\n"
     ]
    }
   ],
   "source": [
    "print(df.sum())"
   ]
  },
  {
   "cell_type": "code",
   "execution_count": 41,
   "metadata": {},
   "outputs": [
    {
     "name": "stdout",
     "output_type": "stream",
     "text": [
      "10.0\n"
     ]
    }
   ],
   "source": [
    "print(df['c1'].sum())"
   ]
  },
  {
   "cell_type": "code",
   "execution_count": 42,
   "metadata": {},
   "outputs": [
    {
     "name": "stdout",
     "output_type": "stream",
     "text": [
      "a     0.0\n",
      "b     NaN\n",
      "c     4.0\n",
      "d    10.0\n",
      "e     NaN\n",
      "Name: c1, dtype: float64\n"
     ]
    }
   ],
   "source": [
    "print(df['c1'].cumsum())"
   ]
  },
  {
   "cell_type": "code",
   "execution_count": 43,
   "metadata": {},
   "outputs": [
    {
     "name": "stdout",
     "output_type": "stream",
     "text": [
      "c1    3.333333\n",
      "c2    4.333333\n",
      "dtype: float64\n"
     ]
    }
   ],
   "source": [
    "print(df.mean())"
   ]
  },
  {
   "cell_type": "code",
   "execution_count": 44,
   "metadata": {},
   "outputs": [
    {
     "name": "stdout",
     "output_type": "stream",
     "text": [
      "a    0.5\n",
      "b    NaN\n",
      "c    4.5\n",
      "d    6.5\n",
      "e    NaN\n",
      "dtype: float64\n"
     ]
    }
   ],
   "source": [
    "print(df.mean(1))"
   ]
  },
  {
   "cell_type": "code",
   "execution_count": 45,
   "metadata": {},
   "outputs": [
    {
     "name": "stdout",
     "output_type": "stream",
     "text": [
      "c1    3.05505\n",
      "c2    3.05505\n",
      "dtype: float64\n"
     ]
    }
   ],
   "source": [
    "print(df.std())"
   ]
  },
  {
   "cell_type": "code",
   "execution_count": 46,
   "metadata": {},
   "outputs": [
    {
     "name": "stdout",
     "output_type": "stream",
     "text": [
      "    c1   c2    c3\n",
      "a  0.0  1.0   1.0\n",
      "b  NaN  NaN   NaN\n",
      "c  4.0  5.0   9.0\n",
      "d  6.0  7.0  13.0\n",
      "e  NaN  NaN   NaN\n"
     ]
    }
   ],
   "source": [
    "df['c3']=df['c1']+df['c2']\n",
    "print(df)"
   ]
  },
  {
   "cell_type": "markdown",
   "metadata": {},
   "source": [
    "====================================================="
   ]
  },
  {
   "cell_type": "code",
   "execution_count": 49,
   "metadata": {},
   "outputs": [
    {
     "name": "stdout",
     "output_type": "stream",
     "text": [
      "         c1        c2        c3\n",
      "0  0.373732 -0.477958 -0.591794\n",
      "1  0.247666 -1.155183  0.303022\n",
      "2  0.230102 -1.901203  0.618995\n",
      "3  0.811976 -1.249957 -0.992747\n",
      "4 -0.139904  1.386886  1.418356\n"
     ]
    }
   ],
   "source": [
    "df=df(np.random.randn(5,3),columns=['c1','c2','c3'])\n",
    "print(df)"
   ]
  },
  {
   "cell_type": "code",
   "execution_count": 50,
   "metadata": {},
   "outputs": [
    {
     "name": "stdout",
     "output_type": "stream",
     "text": [
      "         c1        c2        c3   0\n",
      "0  0.373732 -0.477958 -0.591794 NaN\n",
      "1       NaN -1.155183       NaN NaN\n",
      "2  0.230102       NaN  0.618995 NaN\n",
      "3  0.811976       NaN -0.992747 NaN\n",
      "4 -0.139904  1.386886       NaN NaN\n"
     ]
    }
   ],
   "source": [
    "df.loc[0,0]=None\n",
    "df.loc[1,['c1','c3']]=np.nan\n",
    "df.loc[2,'c2']=np.nan\n",
    "df.loc[3,'c2']=np.nan\n",
    "df.loc[4,'c3']=np.nan\n",
    "print(df)"
   ]
  },
  {
   "cell_type": "code",
   "execution_count": 51,
   "metadata": {},
   "outputs": [
    {
     "name": "stdout",
     "output_type": "stream",
     "text": [
      "         c1        c2        c3    0\n",
      "0  0.373732 -0.477958 -0.591794  0.0\n",
      "1  0.000000 -1.155183  0.000000  0.0\n",
      "2  0.230102  0.000000  0.618995  0.0\n",
      "3  0.811976  0.000000 -0.992747  0.0\n",
      "4 -0.139904  1.386886  0.000000  0.0\n"
     ]
    }
   ],
   "source": [
    "df_0=df.fillna(0)\n",
    "print(df_0)"
   ]
  },
  {
   "cell_type": "code",
   "execution_count": 52,
   "metadata": {},
   "outputs": [
    {
     "name": "stdout",
     "output_type": "stream",
     "text": [
      "         c1        c2        c3        0\n",
      "0  0.373732 -0.477958 -0.591794  missing\n",
      "1   missing  -1.15518   missing  missing\n",
      "2  0.230102   missing  0.618995  missing\n",
      "3  0.811976   missing -0.992747  missing\n",
      "4 -0.139904   1.38689   missing  missing\n"
     ]
    }
   ],
   "source": [
    "df_missing=df.fillna('missing')\n",
    "print(df_missing)"
   ]
  },
  {
   "cell_type": "code",
   "execution_count": 53,
   "metadata": {},
   "outputs": [
    {
     "name": "stdout",
     "output_type": "stream",
     "text": [
      "         c1        c2        c3   0\n",
      "0  0.373732 -0.477958 -0.591794 NaN\n",
      "1  0.373732 -1.155183 -0.591794 NaN\n",
      "2  0.230102 -1.155183  0.618995 NaN\n",
      "3  0.811976 -1.155183 -0.992747 NaN\n",
      "4 -0.139904  1.386886 -0.992747 NaN\n"
     ]
    }
   ],
   "source": [
    "print(df.fillna(method='ffill'))"
   ]
  },
  {
   "cell_type": "code",
   "execution_count": 54,
   "metadata": {},
   "outputs": [
    {
     "name": "stdout",
     "output_type": "stream",
     "text": [
      "         c1        c2        c3   0\n",
      "0  0.373732 -0.477958 -0.591794 NaN\n",
      "1  0.373732 -1.155183 -0.591794 NaN\n",
      "2  0.230102 -1.155183  0.618995 NaN\n",
      "3  0.811976 -1.155183 -0.992747 NaN\n",
      "4 -0.139904  1.386886 -0.992747 NaN\n"
     ]
    }
   ],
   "source": [
    "print(df.fillna(method='pad'))"
   ]
  },
  {
   "cell_type": "code",
   "execution_count": 55,
   "metadata": {},
   "outputs": [
    {
     "name": "stdout",
     "output_type": "stream",
     "text": [
      "         c1        c2        c3   0\n",
      "0  0.373732 -0.477958 -0.591794 NaN\n",
      "1  0.230102 -1.155183  0.618995 NaN\n",
      "2  0.230102  1.386886  0.618995 NaN\n",
      "3  0.811976  1.386886 -0.992747 NaN\n",
      "4 -0.139904  1.386886       NaN NaN\n"
     ]
    }
   ],
   "source": [
    "print(df.fillna(method='bfill'))"
   ]
  },
  {
   "cell_type": "code",
   "execution_count": 56,
   "metadata": {},
   "outputs": [
    {
     "name": "stdout",
     "output_type": "stream",
     "text": [
      "         c1        c2        c3   0\n",
      "0  0.373732 -0.477958 -0.591794 NaN\n",
      "1  0.373732 -1.155183 -0.591794 NaN\n",
      "2  0.230102 -1.155183  0.618995 NaN\n",
      "3  0.811976       NaN -0.992747 NaN\n",
      "4 -0.139904  1.386886 -0.992747 NaN\n"
     ]
    }
   ],
   "source": [
    "print(df.fillna(method='ffill',limit=1))"
   ]
  },
  {
   "cell_type": "code",
   "execution_count": 57,
   "metadata": {},
   "outputs": [
    {
     "name": "stdout",
     "output_type": "stream",
     "text": [
      "c1    0.318977\n",
      "c2   -0.082085\n",
      "c3   -0.321849\n",
      "0          NaN\n",
      "dtype: float64\n"
     ]
    }
   ],
   "source": [
    "print(df.mean())"
   ]
  },
  {
   "cell_type": "code",
   "execution_count": 58,
   "metadata": {},
   "outputs": [
    {
     "name": "stdout",
     "output_type": "stream",
     "text": [
      "         c1        c2        c3   0\n",
      "0  0.373732 -0.477958 -0.591794 NaN\n",
      "1  0.318977 -1.155183 -0.321849 NaN\n",
      "2  0.230102 -0.082085  0.618995 NaN\n",
      "3  0.811976 -0.082085 -0.992747 NaN\n",
      "4 -0.139904  1.386886 -0.321849 NaN\n"
     ]
    }
   ],
   "source": [
    "print(df.fillna(df.mean()))"
   ]
  },
  {
   "cell_type": "code",
   "execution_count": 59,
   "metadata": {},
   "outputs": [
    {
     "name": "stdout",
     "output_type": "stream",
     "text": [
      "         c1        c2        c3   0\n",
      "0  0.373732 -0.477958 -0.591794 NaN\n",
      "1  0.318977 -1.155183 -0.321849 NaN\n",
      "2  0.230102 -0.082085  0.618995 NaN\n",
      "3  0.811976 -0.082085 -0.992747 NaN\n",
      "4 -0.139904  1.386886 -0.321849 NaN\n"
     ]
    }
   ],
   "source": [
    "print(df.where(pd.notnull(df),df.mean(),axis='columns'))"
   ]
  },
  {
   "cell_type": "code",
   "execution_count": 60,
   "metadata": {},
   "outputs": [
    {
     "name": "stdout",
     "output_type": "stream",
     "text": [
      "         c1        c2        c3         0\n",
      "0  0.373732 -0.477958 -0.591794  0.318977\n",
      "1  0.318977 -1.155183  0.318977  0.318977\n",
      "2  0.230102  0.318977  0.618995  0.318977\n",
      "3  0.811976  0.318977 -0.992747  0.318977\n",
      "4 -0.139904  1.386886  0.318977  0.318977\n"
     ]
    }
   ],
   "source": [
    "print(df.fillna(df.mean()['c1']))"
   ]
  },
  {
   "cell_type": "code",
   "execution_count": 61,
   "metadata": {},
   "outputs": [
    {
     "name": "stdout",
     "output_type": "stream",
     "text": [
      "c1    0.318977\n",
      "c2   -0.082085\n",
      "dtype: float64\n"
     ]
    }
   ],
   "source": [
    "print(df.mean()['c1':'c2'])"
   ]
  },
  {
   "cell_type": "code",
   "execution_count": 62,
   "metadata": {},
   "outputs": [
    {
     "name": "stdout",
     "output_type": "stream",
     "text": [
      "         c1        c2        c3   0\n",
      "0  0.373732 -0.477958 -0.591794 NaN\n",
      "1  0.318977 -1.155183       NaN NaN\n",
      "2  0.230102 -0.082085  0.618995 NaN\n",
      "3  0.811976 -0.082085 -0.992747 NaN\n",
      "4 -0.139904  1.386886       NaN NaN\n"
     ]
    }
   ],
   "source": [
    "print(df.fillna(df.mean()['c1':'c2']))"
   ]
  },
  {
   "cell_type": "markdown",
   "metadata": {},
   "source": [
    "====================================================="
   ]
  },
  {
   "cell_type": "code",
   "execution_count": 64,
   "metadata": {},
   "outputs": [
    {
     "name": "stdout",
     "output_type": "stream",
     "text": [
      "   c1    c2\n",
      "0   1   6.0\n",
      "1   2   NaN\n",
      "2   3   8.0\n",
      "3   4   NaN\n",
      "4   5  10.0\n"
     ]
    }
   ],
   "source": [
    "df_2=pd.DataFrame({'c1':[1,2,3,4,5],\n",
    "                   'c2':[6,7,8,9,10]})\n",
    "df_2.loc[[1,3],['c2']]=np.nan\n",
    "print(df_2)"
   ]
  },
  {
   "cell_type": "code",
   "execution_count": 65,
   "metadata": {},
   "outputs": [
    {
     "name": "stdout",
     "output_type": "stream",
     "text": [
      "   c1    c2  c2_new\n",
      "0   1   6.0     6.0\n",
      "1   2   NaN     2.0\n",
      "2   3   8.0     8.0\n",
      "3   4   NaN     4.0\n",
      "4   5  10.0    10.0\n"
     ]
    }
   ],
   "source": [
    "df_2['c2_new']=np.where(pd.notnull(df_2['c2'])==True, df_2['c2'], df_2['c1'])\n",
    "print(df_2)"
   ]
  }
 ],
 "metadata": {
  "kernelspec": {
   "display_name": "Python 3",
   "language": "python",
   "name": "python3"
  },
  "language_info": {
   "codemirror_mode": {
    "name": "ipython",
    "version": 3
   },
   "file_extension": ".py",
   "mimetype": "text/x-python",
   "name": "python",
   "nbconvert_exporter": "python",
   "pygments_lexer": "ipython3",
   "version": "3.6.5"
  }
 },
 "nbformat": 4,
 "nbformat_minor": 2
}
