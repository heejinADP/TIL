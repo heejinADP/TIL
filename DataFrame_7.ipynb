{
 "cells": [
  {
   "cell_type": "markdown",
   "metadata": {},
   "source": [
    "# Functions of DataFrame 7"
   ]
  },
  {
   "cell_type": "markdown",
   "metadata": {},
   "source": [
    "**이산화**"
   ]
  },
  {
   "cell_type": "code",
   "execution_count": 16,
   "metadata": {},
   "outputs": [],
   "source": [
    "import numpy as np\n",
    "import pandas as pd\n",
    "from pandas import DataFrame\n",
    "np.random.seed(777)"
   ]
  },
  {
   "cell_type": "code",
   "execution_count": 2,
   "metadata": {},
   "outputs": [
    {
     "name": "stdout",
     "output_type": "stream",
     "text": [
      "          c1 c2\n",
      "0  -0.468209  a\n",
      "1  -0.822825  a\n",
      "2  -0.065380  a\n",
      "3  -0.713362  a\n",
      "4   0.906351  a\n",
      "5   0.766237  a\n",
      "6   0.826054  a\n",
      "7  -1.323683  a\n",
      "8  -1.752445  a\n",
      "9   1.002449  a\n",
      "10  0.544809  b\n",
      "11  1.895161  b\n",
      "12 -0.769357  b\n",
      "13 -1.403096  b\n",
      "14 -0.632468  b\n",
      "15 -0.558874  b\n",
      "16 -1.233231  b\n",
      "17 -0.439504  b\n",
      "18  0.914787  b\n",
      "19  0.265041  b\n"
     ]
    }
   ],
   "source": [
    "df=DataFrame({'c1':np.random.randn(20),\n",
    "           'c2':['a','a','a','a','a','a','a','a','a','a',\n",
    "                 'b','b','b','b','b','b','b','b','b','b']})\n",
    "print(df)"
   ]
  },
  {
   "cell_type": "code",
   "execution_count": 3,
   "metadata": {},
   "outputs": [
    {
     "name": "stdout",
     "output_type": "stream",
     "text": [
      "          c1 c2  c1_bin\n",
      "0  -0.468209  a       4\n",
      "1  -0.822825  a       3\n",
      "2  -0.065380  a       5\n",
      "3  -0.713362  a       3\n",
      "4   0.906351  a       7\n",
      "5   0.766237  a       7\n",
      "6   0.826054  a       7\n",
      "7  -1.323683  a       2\n",
      "8  -1.752445  a       1\n",
      "9   1.002449  a       7\n",
      "10  0.544809  b       6\n",
      "11  1.895161  b      10\n",
      "12 -0.769357  b       3\n",
      "13 -1.403096  b       1\n",
      "14 -0.632468  b       3\n",
      "15 -0.558874  b       3\n",
      "16 -1.233231  b       2\n",
      "17 -0.439504  b       4\n",
      "18  0.914787  b       7\n",
      "19  0.265041  b       5\n"
     ]
    }
   ],
   "source": [
    "bins=np.linspace(df.c1.min(),df.c1.max(),10)\n",
    "df['c1_bin']=np.digitize(df['c1'],bins)\n",
    "print(df)"
   ]
  },
  {
   "cell_type": "code",
   "execution_count": 4,
   "metadata": {},
   "outputs": [
    {
     "name": "stdout",
     "output_type": "stream",
     "text": [
      "c1_bin\n",
      "1     2\n",
      "2     2\n",
      "3     5\n",
      "4     2\n",
      "5     2\n",
      "6     1\n",
      "7     5\n",
      "10    1\n",
      "Name: c1, dtype: int64\n"
     ]
    }
   ],
   "source": [
    "print(df.groupby('c1_bin')['c1'].size())"
   ]
  },
  {
   "cell_type": "code",
   "execution_count": 5,
   "metadata": {},
   "outputs": [
    {
     "name": "stdout",
     "output_type": "stream",
     "text": [
      "c1_bin\n",
      "1    -1.577770\n",
      "2    -1.278457\n",
      "3    -0.699377\n",
      "4    -0.453856\n",
      "5     0.099830\n",
      "6     0.544809\n",
      "7     0.883176\n",
      "10    1.895161\n",
      "Name: c1, dtype: float64\n"
     ]
    }
   ],
   "source": [
    "print(df.groupby('c1_bin')['c1'].mean())"
   ]
  },
  {
   "cell_type": "code",
   "execution_count": 6,
   "metadata": {},
   "outputs": [
    {
     "name": "stdout",
     "output_type": "stream",
     "text": [
      "c1_bin\n",
      "1     0.247027\n",
      "2     0.063959\n",
      "3     0.105535\n",
      "4     0.020298\n",
      "5     0.233643\n",
      "6          NaN\n",
      "7     0.090416\n",
      "10         NaN\n",
      "Name: c1, dtype: float64\n"
     ]
    }
   ],
   "source": [
    "print(df.groupby('c1_bin')['c1'].std())"
   ]
  },
  {
   "cell_type": "code",
   "execution_count": 7,
   "metadata": {},
   "outputs": [
    {
     "name": "stdout",
     "output_type": "stream",
     "text": [
      "c1_bin  c2\n",
      "1       a     1\n",
      "        b     1\n",
      "2       a     1\n",
      "        b     1\n",
      "3       b     3\n",
      "        a     2\n",
      "4       a     1\n",
      "        b     1\n",
      "5       a     1\n",
      "        b     1\n",
      "6       b     1\n",
      "7       a     4\n",
      "        b     1\n",
      "10      b     1\n",
      "Name: c2, dtype: int64\n"
     ]
    }
   ],
   "source": [
    "print(df.groupby('c1_bin')['c2'].value_counts())"
   ]
  },
  {
   "cell_type": "code",
   "execution_count": 8,
   "metadata": {},
   "outputs": [
    {
     "name": "stdout",
     "output_type": "stream",
     "text": [
      "          c1 c2  c1_bin\n",
      "7  -1.323683  a       2\n",
      "16 -1.233231  b       2\n"
     ]
    }
   ],
   "source": [
    "print(df[df['c1_bin']==2])"
   ]
  },
  {
   "cell_type": "code",
   "execution_count": 9,
   "metadata": {},
   "outputs": [
    {
     "name": "stdout",
     "output_type": "stream",
     "text": [
      "    c1_1  c1_2  c1_3  c1_4  c1_5  c1_6  c1_7  c1_10\n",
      "0      0     0     0     1     0     0     0      0\n",
      "1      0     0     1     0     0     0     0      0\n",
      "2      0     0     0     0     1     0     0      0\n",
      "3      0     0     1     0     0     0     0      0\n",
      "4      0     0     0     0     0     0     1      0\n",
      "5      0     0     0     0     0     0     1      0\n",
      "6      0     0     0     0     0     0     1      0\n",
      "7      0     1     0     0     0     0     0      0\n",
      "8      1     0     0     0     0     0     0      0\n",
      "9      0     0     0     0     0     0     1      0\n",
      "10     0     0     0     0     0     1     0      0\n",
      "11     0     0     0     0     0     0     0      1\n",
      "12     0     0     1     0     0     0     0      0\n",
      "13     1     0     0     0     0     0     0      0\n",
      "14     0     0     1     0     0     0     0      0\n",
      "15     0     0     1     0     0     0     0      0\n",
      "16     0     1     0     0     0     0     0      0\n",
      "17     0     0     0     1     0     0     0      0\n",
      "18     0     0     0     0     0     0     1      0\n",
      "19     0     0     0     0     1     0     0      0\n"
     ]
    }
   ],
   "source": [
    "print(pd.get_dummies(df['c1_bin'],prefix='c1'))"
   ]
  },
  {
   "cell_type": "code",
   "execution_count": 10,
   "metadata": {},
   "outputs": [
    {
     "name": "stdout",
     "output_type": "stream",
     "text": [
      "-0.15307715643591518\n"
     ]
    }
   ],
   "source": [
    "print(df.c1.mean())"
   ]
  },
  {
   "cell_type": "code",
   "execution_count": 11,
   "metadata": {},
   "outputs": [
    {
     "name": "stdout",
     "output_type": "stream",
     "text": [
      "          c1 c2  c1_bin high_low\n",
      "0  -0.468209  a       4      low\n",
      "1  -0.822825  a       3      low\n",
      "2  -0.065380  a       5     high\n",
      "3  -0.713362  a       3      low\n",
      "4   0.906351  a       7     high\n",
      "5   0.766237  a       7     high\n",
      "6   0.826054  a       7     high\n",
      "7  -1.323683  a       2      low\n",
      "8  -1.752445  a       1      low\n",
      "9   1.002449  a       7     high\n",
      "10  0.544809  b       6     high\n",
      "11  1.895161  b      10     high\n",
      "12 -0.769357  b       3      low\n",
      "13 -1.403096  b       1      low\n",
      "14 -0.632468  b       3      low\n",
      "15 -0.558874  b       3      low\n",
      "16 -1.233231  b       2      low\n",
      "17 -0.439504  b       4      low\n",
      "18  0.914787  b       7     high\n",
      "19  0.265041  b       5     high\n"
     ]
    }
   ],
   "source": [
    "df['high_low']=np.where(df['c1']>=df.c1.mean(),'high','low')\n",
    "print(df)"
   ]
  },
  {
   "cell_type": "code",
   "execution_count": 12,
   "metadata": {},
   "outputs": [
    {
     "name": "stdout",
     "output_type": "stream",
     "text": [
      "high_low\n",
      "high     9\n",
      "low     11\n",
      "Name: c1, dtype: int64\n"
     ]
    }
   ],
   "source": [
    "print(df.groupby('high_low')['c1'].size())"
   ]
  },
  {
   "cell_type": "code",
   "execution_count": 13,
   "metadata": {},
   "outputs": [
    {
     "name": "stdout",
     "output_type": "stream",
     "text": [
      "high_low\n",
      "high    0.783945\n",
      "low    -0.919732\n",
      "Name: c1, dtype: float64\n"
     ]
    }
   ],
   "source": [
    "print(df.groupby('high_low')['c1'].mean())"
   ]
  },
  {
   "cell_type": "code",
   "execution_count": 14,
   "metadata": {},
   "outputs": [
    {
     "name": "stdout",
     "output_type": "stream",
     "text": [
      "high_low\n",
      "high    0.543661\n",
      "low     0.437074\n",
      "Name: c1, dtype: float64\n"
     ]
    }
   ],
   "source": [
    "print(df.groupby('high_low')['c1'].std())"
   ]
  },
  {
   "cell_type": "code",
   "execution_count": 15,
   "metadata": {},
   "outputs": [
    {
     "name": "stdout",
     "output_type": "stream",
     "text": [
      "          c1 c2  c1_bin high_low      h_m_l\n",
      "0  -0.468209  a       4      low  02_median\n",
      "1  -0.822825  a       3      low     03_low\n",
      "2  -0.065380  a       5     high  02_median\n",
      "3  -0.713362  a       3      low  02_median\n",
      "4   0.906351  a       7     high    01_high\n",
      "5   0.766237  a       7     high  02_median\n",
      "6   0.826054  a       7     high    01_high\n",
      "7  -1.323683  a       2      low     03_low\n",
      "8  -1.752445  a       1      low     03_low\n",
      "9   1.002449  a       7     high    01_high\n",
      "10  0.544809  b       6     high  02_median\n",
      "11  1.895161  b      10     high    01_high\n",
      "12 -0.769357  b       3      low  02_median\n",
      "13 -1.403096  b       1      low     03_low\n",
      "14 -0.632468  b       3      low  02_median\n",
      "15 -0.558874  b       3      low  02_median\n",
      "16 -1.233231  b       2      low     03_low\n",
      "17 -0.439504  b       4      low  02_median\n",
      "18  0.914787  b       7     high    01_high\n",
      "19  0.265041  b       5     high  02_median\n"
     ]
    }
   ],
   "source": [
    "Q1=np.percentile(df['c1'],25)\n",
    "Q3=np.percentile(df['c1'],75)\n",
    "df['h_m_l']=np.where(df['c1']>=Q3, '01_high',np.where(df['c1']>=Q1, '02_median', '03_low'))\n",
    "print(df)"
   ]
  },
  {
   "cell_type": "markdown",
   "metadata": {},
   "source": [
    "**재구조화 : reshaping**"
   ]
  },
  {
   "cell_type": "code",
   "execution_count": 17,
   "metadata": {},
   "outputs": [
    {
     "name": "stdout",
     "output_type": "stream",
     "text": [
      "  cust_id prod_cd grade  pch_amt\n",
      "0      c1      p1     A       30\n",
      "1      c1      p2     A       10\n",
      "2      c1      p3     A        0\n",
      "3      c2      p1     A       40\n",
      "4      c2      p2     A       15\n",
      "5      c2      p3     A       30\n",
      "6      c3      p1     B        0\n",
      "7      c3      p2     B        0\n",
      "8      c3      p3     B       10\n"
     ]
    }
   ],
   "source": [
    "data=DataFrame({'cust_id': ['c1', 'c1', 'c1', 'c2', 'c2', 'c2', 'c3', 'c3', 'c3'],\n",
    "            'prod_cd': ['p1', 'p2', 'p3', 'p1', 'p2', 'p3', 'p1', 'p2', 'p3'],\n",
    "            'grade' : ['A', 'A', 'A', 'A', 'A', 'A', 'B', 'B', 'B'],\n",
    "            'pch_amt': [30, 10, 0, 40, 15, 30, 0, 0, 10]})\n",
    "print(data)"
   ]
  },
  {
   "cell_type": "code",
   "execution_count": 18,
   "metadata": {},
   "outputs": [
    {
     "name": "stdout",
     "output_type": "stream",
     "text": [
      "prod_cd  p1  p2  p3\n",
      "cust_id            \n",
      "c1       30  10   0\n",
      "c2       40  15  30\n",
      "c3        0   0  10\n"
     ]
    }
   ],
   "source": [
    "dp=data.pivot(index='cust_id',columns='prod_cd',values='pch_amt')\n",
    "print(dp)"
   ]
  },
  {
   "cell_type": "code",
   "execution_count": 19,
   "metadata": {},
   "outputs": [
    {
     "name": "stdout",
     "output_type": "stream",
     "text": [
      "prod_cd  p1  p2  p3\n",
      "cust_id            \n",
      "c1       30  10   0\n",
      "c2       40  15  30\n",
      "c3        0   0  10\n"
     ]
    }
   ],
   "source": [
    "dp=pd.pivot_table(data,index='cust_id',columns='prod_cd',values='pch_amt')\n",
    "print(dp)"
   ]
  },
  {
   "cell_type": "code",
   "execution_count": 22,
   "metadata": {},
   "outputs": [
    {
     "name": "stdout",
     "output_type": "stream",
     "text": [
      "prod_cd        p1  p2  p3\n",
      "cust_id grade            \n",
      "c1      A      30  10   0\n",
      "c2      A      40  15  30\n",
      "c3      B       0   0  10\n"
     ]
    }
   ],
   "source": [
    "dp=pd.pivot_table(data,index=['cust_id','grade'],columns='prod_cd',\n",
    "                  values='pch_amt')\n",
    "print(dp)"
   ]
  },
  {
   "cell_type": "markdown",
   "metadata": {},
   "source": [
    "======================================================="
   ]
  },
  {
   "cell_type": "code",
   "execution_count": 23,
   "metadata": {},
   "outputs": [
    {
     "name": "stdout",
     "output_type": "stream",
     "text": [
      "MultiIndex(levels=[['cust_1', 'cust_2'], ['2018', '2019']],\n",
      "           labels=[[0, 0, 1, 1], [0, 1, 0, 1]])\n"
     ]
    }
   ],
   "source": [
    "mul_index=pd.MultiIndex.from_tuples([('cust_1', '2018'),\n",
    "                           ('cust_1', '2019'),\n",
    "                           ('cust_2', '2018'),\n",
    "                           ('cust_2', '2019'),])\n",
    "print(mul_index)"
   ]
  },
  {
   "cell_type": "code",
   "execution_count": 24,
   "metadata": {},
   "outputs": [
    {
     "name": "stdout",
     "output_type": "stream",
     "text": [
      "             prd_1  prd_2  prd_3  prd_4\n",
      "cust_1 2018      0      1      2      3\n",
      "       2019      4      5      6      7\n",
      "cust_2 2018      8      9     10     11\n",
      "       2019     12     13     14     15\n"
     ]
    }
   ],
   "source": [
    "data=DataFrame(data=np.arange(16).reshape(4,4),index=mul_index,\n",
    "               columns=['prd_1','prd_2','prd_3','prd_4'],dtype='int')\n",
    "print(data)"
   ]
  },
  {
   "cell_type": "code",
   "execution_count": 25,
   "metadata": {},
   "outputs": [
    {
     "name": "stdout",
     "output_type": "stream",
     "text": [
      "cust_1  2018  prd_1     0\n",
      "              prd_2     1\n",
      "              prd_3     2\n",
      "              prd_4     3\n",
      "        2019  prd_1     4\n",
      "              prd_2     5\n",
      "              prd_3     6\n",
      "              prd_4     7\n",
      "cust_2  2018  prd_1     8\n",
      "              prd_2     9\n",
      "              prd_3    10\n",
      "              prd_4    11\n",
      "        2019  prd_1    12\n",
      "              prd_2    13\n",
      "              prd_3    14\n",
      "              prd_4    15\n",
      "dtype: int32\n"
     ]
    }
   ],
   "source": [
    "data_stacked=data.stack()\n",
    "print(data_stacked)"
   ]
  },
  {
   "cell_type": "code",
   "execution_count": 27,
   "metadata": {},
   "outputs": [
    {
     "name": "stdout",
     "output_type": "stream",
     "text": [
      "MultiIndex(levels=[['cust_1', 'cust_2'], ['2018', '2019'], ['prd_1', 'prd_2', 'prd_3', 'prd_4']],\n",
      "           labels=[[0, 0, 0, 0, 0, 0, 0, 0, 1, 1, 1, 1, 1, 1, 1, 1], [0, 0, 0, 0, 1, 1, 1, 1, 0, 0, 0, 0, 1, 1, 1, 1], [0, 1, 2, 3, 0, 1, 2, 3, 0, 1, 2, 3, 0, 1, 2, 3]])\n"
     ]
    }
   ],
   "source": [
    "print(data_stacked.index)"
   ]
  },
  {
   "cell_type": "code",
   "execution_count": 28,
   "metadata": {},
   "outputs": [
    {
     "name": "stdout",
     "output_type": "stream",
     "text": [
      "prd_1    8\n",
      "prd_2    9\n",
      "dtype: int32\n"
     ]
    }
   ],
   "source": [
    "print(data_stacked['cust_2']['2018'][['prd_1','prd_2']])"
   ]
  },
  {
   "cell_type": "code",
   "execution_count": 29,
   "metadata": {},
   "outputs": [
    {
     "name": "stdout",
     "output_type": "stream",
     "text": [
      "             prd_1  prd_2  prd_3  prd_4\n",
      "cust_1 2018      0      1      2    3.0\n",
      "       2019      4      5      6    7.0\n",
      "cust_2 2018      8      9     10    NaN\n",
      "       2019     12     13     14    NaN\n"
     ]
    }
   ],
   "source": [
    "data.loc['cust_2','prd_4']=np.nan\n",
    "print(data)"
   ]
  },
  {
   "cell_type": "code",
   "execution_count": 30,
   "metadata": {},
   "outputs": [
    {
     "name": "stdout",
     "output_type": "stream",
     "text": [
      "cust_1  2018  prd_1     0.0\n",
      "              prd_2     1.0\n",
      "              prd_3     2.0\n",
      "              prd_4     3.0\n",
      "        2019  prd_1     4.0\n",
      "              prd_2     5.0\n",
      "              prd_3     6.0\n",
      "              prd_4     7.0\n",
      "cust_2  2018  prd_1     8.0\n",
      "              prd_2     9.0\n",
      "              prd_3    10.0\n",
      "        2019  prd_1    12.0\n",
      "              prd_2    13.0\n",
      "              prd_3    14.0\n",
      "dtype: float64\n"
     ]
    }
   ],
   "source": [
    "print(data.stack())"
   ]
  },
  {
   "cell_type": "code",
   "execution_count": 31,
   "metadata": {},
   "outputs": [
    {
     "name": "stdout",
     "output_type": "stream",
     "text": [
      "cust_1  2018  prd_1     0.0\n",
      "              prd_2     1.0\n",
      "              prd_3     2.0\n",
      "              prd_4     3.0\n",
      "        2019  prd_1     4.0\n",
      "              prd_2     5.0\n",
      "              prd_3     6.0\n",
      "              prd_4     7.0\n",
      "cust_2  2018  prd_1     8.0\n",
      "              prd_2     9.0\n",
      "              prd_3    10.0\n",
      "              prd_4     NaN\n",
      "        2019  prd_1    12.0\n",
      "              prd_2    13.0\n",
      "              prd_3    14.0\n",
      "              prd_4     NaN\n",
      "dtype: float64\n"
     ]
    }
   ],
   "source": [
    "print(data.stack(dropna=False))"
   ]
  },
  {
   "cell_type": "code",
   "execution_count": 32,
   "metadata": {},
   "outputs": [
    {
     "name": "stdout",
     "output_type": "stream",
     "text": [
      "cust_1  2018  prd_1     0\n",
      "              prd_2     1\n",
      "              prd_3     2\n",
      "              prd_4     3\n",
      "        2019  prd_1     4\n",
      "              prd_2     5\n",
      "              prd_3     6\n",
      "              prd_4     7\n",
      "cust_2  2018  prd_1     8\n",
      "              prd_2     9\n",
      "              prd_3    10\n",
      "              prd_4    11\n",
      "        2019  prd_1    12\n",
      "              prd_2    13\n",
      "              prd_3    14\n",
      "              prd_4    15\n",
      "dtype: int32\n"
     ]
    }
   ],
   "source": [
    "print(data_stacked)"
   ]
  },
  {
   "cell_type": "code",
   "execution_count": 33,
   "metadata": {},
   "outputs": [
    {
     "name": "stdout",
     "output_type": "stream",
     "text": [
      "             prd_1  prd_2  prd_3  prd_4\n",
      "cust_1 2018      0      1      2      3\n",
      "       2019      4      5      6      7\n",
      "cust_2 2018      8      9     10     11\n",
      "       2019     12     13     14     15\n"
     ]
    }
   ],
   "source": [
    "print(data_stacked.unstack(level=-1))"
   ]
  },
  {
   "cell_type": "code",
   "execution_count": 34,
   "metadata": {},
   "outputs": [
    {
     "name": "stdout",
     "output_type": "stream",
     "text": [
      "            cust_1  cust_2\n",
      "2018 prd_1       0       8\n",
      "     prd_2       1       9\n",
      "     prd_3       2      10\n",
      "     prd_4       3      11\n",
      "2019 prd_1       4      12\n",
      "     prd_2       5      13\n",
      "     prd_3       6      14\n",
      "     prd_4       7      15\n"
     ]
    }
   ],
   "source": [
    "print(data_stacked.unstack(level=0))"
   ]
  },
  {
   "cell_type": "code",
   "execution_count": 35,
   "metadata": {},
   "outputs": [
    {
     "name": "stdout",
     "output_type": "stream",
     "text": [
      "              2018  2019\n",
      "cust_1 prd_1     0     4\n",
      "       prd_2     1     5\n",
      "       prd_3     2     6\n",
      "       prd_4     3     7\n",
      "cust_2 prd_1     8    12\n",
      "       prd_2     9    13\n",
      "       prd_3    10    14\n",
      "       prd_4    11    15\n"
     ]
    }
   ],
   "source": [
    "print(data_stacked.unstack(level=1))"
   ]
  },
  {
   "cell_type": "code",
   "execution_count": 36,
   "metadata": {},
   "outputs": [
    {
     "name": "stdout",
     "output_type": "stream",
     "text": [
      "             prd_1  prd_2  prd_3  prd_4\n",
      "cust_1 2018      0      1      2      3\n",
      "       2019      4      5      6      7\n",
      "cust_2 2018      8      9     10     11\n",
      "       2019     12     13     14     15\n"
     ]
    }
   ],
   "source": [
    "data_stacked_unstacked=data_stacked.unstack(level=-1)\n",
    "print(data_stacked_unstacked)"
   ]
  },
  {
   "cell_type": "code",
   "execution_count": 37,
   "metadata": {},
   "outputs": [
    {
     "name": "stdout",
     "output_type": "stream",
     "text": [
      "<class 'pandas.core.frame.DataFrame'>\n"
     ]
    }
   ],
   "source": [
    "print(type(data_stacked_unstacked))"
   ]
  },
  {
   "cell_type": "code",
   "execution_count": 39,
   "metadata": {},
   "outputs": [
    {
     "name": "stdout",
     "output_type": "stream",
     "text": [
      "  level_0 level_1  prd_1  prd_2  prd_3  prd_4\n",
      "0  cust_1    2018      0      1      2      3\n",
      "1  cust_1    2019      4      5      6      7\n",
      "2  cust_2    2018      8      9     10     11\n",
      "3  cust_2    2019     12     13     14     15\n"
     ]
    }
   ],
   "source": [
    "dsu_df=data_stacked_unstacked.reset_index()\n",
    "print(dsu_df)"
   ]
  },
  {
   "cell_type": "code",
   "execution_count": 40,
   "metadata": {},
   "outputs": [
    {
     "name": "stdout",
     "output_type": "stream",
     "text": [
      "   custID  year  prd_1  prd_2  prd_3  prd_4\n",
      "0  cust_1  2018      0      1      2      3\n",
      "1  cust_1  2019      4      5      6      7\n",
      "2  cust_2  2018      8      9     10     11\n",
      "3  cust_2  2019     12     13     14     15\n"
     ]
    }
   ],
   "source": [
    "dsu_df=dsu_df.rename(columns={'level_0':'custID',\n",
    "                             'level_1':'year'})\n",
    "print(dsu_df)"
   ]
  },
  {
   "cell_type": "markdown",
   "metadata": {},
   "source": [
    "======================================================="
   ]
  },
  {
   "cell_type": "code",
   "execution_count": 41,
   "metadata": {},
   "outputs": [
    {
     "name": "stdout",
     "output_type": "stream",
     "text": [
      "  cust_id prod_cd  pch_cnt  pch_amt\n",
      "0      c1      p1        1      100\n",
      "1      c1      p2        2      200\n",
      "2      c2      p1        3      300\n",
      "3      c2      p2        4      400\n"
     ]
    }
   ],
   "source": [
    "data=DataFrame({'cust_id': ['c1', 'c1', 'c2', 'c2'],\n",
    "            'prod_cd': ['p1', 'p2', 'p1', 'p2'],\n",
    "            'pch_cnt' : [1,2,3,4],\n",
    "            'pch_amt': [100,200,300,400]})\n",
    "print(data)"
   ]
  },
  {
   "cell_type": "code",
   "execution_count": 42,
   "metadata": {},
   "outputs": [
    {
     "name": "stdout",
     "output_type": "stream",
     "text": [
      "   variable value\n",
      "0   cust_id    c1\n",
      "1   cust_id    c1\n",
      "2   cust_id    c2\n",
      "3   cust_id    c2\n",
      "4   prod_cd    p1\n",
      "5   prod_cd    p2\n",
      "6   prod_cd    p1\n",
      "7   prod_cd    p2\n",
      "8   pch_cnt     1\n",
      "9   pch_cnt     2\n",
      "10  pch_cnt     3\n",
      "11  pch_cnt     4\n",
      "12  pch_amt   100\n",
      "13  pch_amt   200\n",
      "14  pch_amt   300\n",
      "15  pch_amt   400\n"
     ]
    }
   ],
   "source": [
    "print(pd.melt(data))"
   ]
  },
  {
   "cell_type": "code",
   "execution_count": 44,
   "metadata": {},
   "outputs": [
    {
     "name": "stdout",
     "output_type": "stream",
     "text": [
      "  cust_id prod_cd variable  value\n",
      "0      c1      p1  pch_cnt      1\n",
      "1      c1      p2  pch_cnt      2\n",
      "2      c2      p1  pch_cnt      3\n",
      "3      c2      p2  pch_cnt      4\n",
      "4      c1      p1  pch_amt    100\n",
      "5      c1      p2  pch_amt    200\n",
      "6      c2      p1  pch_amt    300\n",
      "7      c2      p2  pch_amt    400\n"
     ]
    }
   ],
   "source": [
    "print(pd.melt(data,id_vars=['cust_id','prod_cd']))"
   ]
  },
  {
   "cell_type": "code",
   "execution_count": 45,
   "metadata": {},
   "outputs": [
    {
     "name": "stdout",
     "output_type": "stream",
     "text": [
      "  cust_id prod_cd   pch_cd  pch_value\n",
      "0      c1      p1  pch_cnt          1\n",
      "1      c1      p2  pch_cnt          2\n",
      "2      c2      p1  pch_cnt          3\n",
      "3      c2      p2  pch_cnt          4\n",
      "4      c1      p1  pch_amt        100\n",
      "5      c1      p2  pch_amt        200\n",
      "6      c2      p1  pch_amt        300\n",
      "7      c2      p2  pch_amt        400\n"
     ]
    }
   ],
   "source": [
    "data_melt=pd.melt(data,id_vars=['cust_id','prod_cd'],\n",
    "                  var_name='pch_cd',\n",
    "                  value_name='pch_value')\n",
    "print(data_melt)"
   ]
  },
  {
   "cell_type": "code",
   "execution_count": 46,
   "metadata": {},
   "outputs": [
    {
     "name": "stdout",
     "output_type": "stream",
     "text": [
      "RangeIndex(start=0, stop=8, step=1)\n"
     ]
    }
   ],
   "source": [
    "print(data_melt.index)"
   ]
  },
  {
   "cell_type": "code",
   "execution_count": 49,
   "metadata": {},
   "outputs": [
    {
     "name": "stdout",
     "output_type": "stream",
     "text": [
      "Index(['cust_id', 'prod_cd', 'pch_cd', 'pch_value'], dtype='object')\n"
     ]
    }
   ],
   "source": [
    "print(data_melt.columns)"
   ]
  },
  {
   "cell_type": "markdown",
   "metadata": {},
   "source": [
    "======================================================="
   ]
  },
  {
   "cell_type": "code",
   "execution_count": 48,
   "metadata": {},
   "outputs": [
    {
     "name": "stdout",
     "output_type": "stream",
     "text": [
      "pch_cd           pch_amt  pch_cnt\n",
      "cust_id prod_cd                  \n",
      "c1      p1           100        1\n",
      "        p2           200        2\n",
      "c2      p1           300        3\n",
      "        p2           400        4\n"
     ]
    }
   ],
   "source": [
    "data_melt_pivot=pd.pivot_table(data_melt,index=['cust_id','prod_cd'],\n",
    "                               columns='pch_cd',values='pch_value')\n",
    "print(data_melt_pivot)"
   ]
  },
  {
   "cell_type": "code",
   "execution_count": 50,
   "metadata": {},
   "outputs": [
    {
     "name": "stdout",
     "output_type": "stream",
     "text": [
      "MultiIndex(levels=[['c1', 'c2'], ['p1', 'p2']],\n",
      "           labels=[[0, 0, 1, 1], [0, 1, 0, 1]],\n",
      "           names=['cust_id', 'prod_cd'])\n"
     ]
    }
   ],
   "source": [
    "print(data_melt_pivot.index)"
   ]
  },
  {
   "cell_type": "code",
   "execution_count": 51,
   "metadata": {},
   "outputs": [
    {
     "name": "stdout",
     "output_type": "stream",
     "text": [
      "Index(['pch_amt', 'pch_cnt'], dtype='object', name='pch_cd')\n"
     ]
    }
   ],
   "source": [
    "print(data_melt_pivot.columns)"
   ]
  }
 ],
 "metadata": {
  "kernelspec": {
   "display_name": "Python 3",
   "language": "python",
   "name": "python3"
  },
  "language_info": {
   "codemirror_mode": {
    "name": "ipython",
    "version": 3
   },
   "file_extension": ".py",
   "mimetype": "text/x-python",
   "name": "python",
   "nbconvert_exporter": "python",
   "pygments_lexer": "ipython3",
   "version": "3.6.5"
  }
 },
 "nbformat": 4,
 "nbformat_minor": 2
}

