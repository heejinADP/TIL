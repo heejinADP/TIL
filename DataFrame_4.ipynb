{
 "cells": [
  {
   "cell_type": "markdown",
   "metadata": {},
   "source": [
    "# Functions of DataFrame 4"
   ]
  },
  {
   "cell_type": "code",
   "execution_count": 1,
   "metadata": {},
   "outputs": [],
   "source": [
    "import pandas as pd\n",
    "import numpy as np\n",
    "from pandas import DataFrame, Series\n",
    "import matplotlib.pyplot as plt"
   ]
  },
  {
   "cell_type": "code",
   "execution_count": 7,
   "metadata": {},
   "outputs": [
    {
     "name": "stdout",
     "output_type": "stream",
     "text": [
      "    a    b  c\n",
      "0  a1   b1  1\n",
      "1  a1   b1  1\n",
      "2  a2   b1  3\n",
      "3  a2   b1  4\n",
      "4  a3   b2  4\n",
      "5  a3  NaN  4\n"
     ]
    }
   ],
   "source": [
    "df=DataFrame({'a':['a1','a1','a2','a2','a3','a3'],\n",
    "           'b':['b1','b1','b1','b1','b2',np.nan],\n",
    "           'c':[1,1,3,4,4,4]})\n",
    "print(df)"
   ]
  },
  {
   "cell_type": "markdown",
   "metadata": {},
   "source": [
    "**unique()**"
   ]
  },
  {
   "cell_type": "code",
   "execution_count": 3,
   "metadata": {},
   "outputs": [
    {
     "name": "stdout",
     "output_type": "stream",
     "text": [
      "['a1' 'a2' 'a3']\n"
     ]
    }
   ],
   "source": [
    "print(df['a'].unique())"
   ]
  },
  {
   "cell_type": "code",
   "execution_count": 5,
   "metadata": {},
   "outputs": [
    {
     "name": "stdout",
     "output_type": "stream",
     "text": [
      "['b1' 'b2' nan]\n"
     ]
    }
   ],
   "source": [
    "print(df['b'].unique())"
   ]
  },
  {
   "cell_type": "code",
   "execution_count": 6,
   "metadata": {},
   "outputs": [
    {
     "name": "stdout",
     "output_type": "stream",
     "text": [
      "[1 3 4]\n"
     ]
    }
   ],
   "source": [
    "print(df['c'].unique())"
   ]
  },
  {
   "cell_type": "markdown",
   "metadata": {},
   "source": [
    "**value_counts()**"
   ]
  },
  {
   "cell_type": "code",
   "execution_count": 8,
   "metadata": {},
   "outputs": [
    {
     "name": "stdout",
     "output_type": "stream",
     "text": [
      "a2    2\n",
      "a3    2\n",
      "a1    2\n",
      "Name: a, dtype: int64\n"
     ]
    }
   ],
   "source": [
    "print(df['a'].value_counts())"
   ]
  },
  {
   "cell_type": "code",
   "execution_count": 9,
   "metadata": {},
   "outputs": [
    {
     "name": "stdout",
     "output_type": "stream",
     "text": [
      "b1    4\n",
      "b2    1\n",
      "Name: b, dtype: int64\n"
     ]
    }
   ],
   "source": [
    "print(df['b'].value_counts())"
   ]
  },
  {
   "cell_type": "code",
   "execution_count": 10,
   "metadata": {},
   "outputs": [
    {
     "name": "stdout",
     "output_type": "stream",
     "text": [
      "4    3\n",
      "1    2\n",
      "3    1\n",
      "Name: c, dtype: int64\n"
     ]
    }
   ],
   "source": [
    "print(df['c'].value_counts())"
   ]
  },
  {
   "cell_type": "code",
   "execution_count": 11,
   "metadata": {},
   "outputs": [
    {
     "name": "stdout",
     "output_type": "stream",
     "text": [
      "4    0.500000\n",
      "1    0.333333\n",
      "3    0.166667\n",
      "Name: c, dtype: float64\n"
     ]
    }
   ],
   "source": [
    "print(df['c'].value_counts(normalize=True))"
   ]
  },
  {
   "cell_type": "code",
   "execution_count": 12,
   "metadata": {},
   "outputs": [
    {
     "name": "stdout",
     "output_type": "stream",
     "text": [
      "4    3\n",
      "1    2\n",
      "3    1\n",
      "Name: c, dtype: int64\n"
     ]
    }
   ],
   "source": [
    "print(df['c'].value_counts(sort=True, ascending=False))"
   ]
  },
  {
   "cell_type": "code",
   "execution_count": 14,
   "metadata": {},
   "outputs": [
    {
     "name": "stdout",
     "output_type": "stream",
     "text": [
      "3    1\n",
      "1    2\n",
      "4    3\n",
      "Name: c, dtype: int64\n"
     ]
    }
   ],
   "source": [
    "print(df['c'].value_counts(sort=True, ascending=True))"
   ]
  },
  {
   "cell_type": "code",
   "execution_count": 16,
   "metadata": {},
   "outputs": [
    {
     "name": "stdout",
     "output_type": "stream",
     "text": [
      "1    2\n",
      "3    1\n",
      "4    3\n",
      "Name: c, dtype: int64\n"
     ]
    }
   ],
   "source": [
    "print(df['c'].value_counts(sort=False))"
   ]
  },
  {
   "cell_type": "code",
   "execution_count": 17,
   "metadata": {},
   "outputs": [
    {
     "name": "stdout",
     "output_type": "stream",
     "text": [
      "b1     4\n",
      "b2     1\n",
      "NaN    1\n",
      "Name: b, dtype: int64\n"
     ]
    }
   ],
   "source": [
    "print(df['b'].value_counts(dropna=False))"
   ]
  },
  {
   "cell_type": "code",
   "execution_count": 18,
   "metadata": {},
   "outputs": [
    {
     "name": "stdout",
     "output_type": "stream",
     "text": [
      "(-0.001, 1.0]    2\n",
      "(1.0, 2.0]       0\n",
      "(2.0, 3.0]       1\n",
      "(3.0, 4.0]       3\n",
      "(4.0, 5.0]       0\n",
      "Name: c, dtype: int64\n"
     ]
    }
   ],
   "source": [
    "print(df['c'].value_counts(bins=[0,1,2,3,4,5], sort=False))"
   ]
  },
  {
   "cell_type": "markdown",
   "metadata": {},
   "source": [
    " **표준화 : Z=(X-mean)/std**"
   ]
  },
  {
   "cell_type": "code",
   "execution_count": 20,
   "metadata": {},
   "outputs": [],
   "source": [
    "from numpy import *"
   ]
  },
  {
   "cell_type": "code",
   "execution_count": 21,
   "metadata": {},
   "outputs": [
    {
     "name": "stdout",
     "output_type": "stream",
     "text": [
      "[[15 21 20  7 22]\n",
      " [ 1 16 18 13  3]\n",
      " [11 25 11  1  1]\n",
      " [28  2 15 13  4]\n",
      " [17 26 23  4 20]\n",
      " [28  7 19 23 12]]\n"
     ]
    }
   ],
   "source": [
    "data=np.random.randint(30, size=(6,5))\n",
    "print(data)"
   ]
  },
  {
   "cell_type": "code",
   "execution_count": 23,
   "metadata": {},
   "outputs": [
    {
     "name": "stdout",
     "output_type": "stream",
     "text": [
      "[[-0.17611749  0.53879524  0.61159284 -0.43855237  1.40563383]\n",
      " [-1.65550439 -0.01857915  0.08737041  0.39238896 -0.88354126]\n",
      " [-0.59879946  0.98469475 -1.74740811 -1.26949371 -1.12450706]\n",
      " [ 1.19759892 -1.57922743 -0.69896325  0.39238896 -0.76305836]\n",
      " [ 0.0352235   1.09616963  1.39792649 -0.85402304  1.16466803]\n",
      " [ 1.19759892 -1.02185304  0.34948162  1.77729119  0.20080483]]\n"
     ]
    }
   ],
   "source": [
    "print((data-mean(data,axis=0))/std(data,axis=0))"
   ]
  },
  {
   "cell_type": "markdown",
   "metadata": {},
   "source": [
    "==========================================="
   ]
  },
  {
   "cell_type": "code",
   "execution_count": 24,
   "metadata": {},
   "outputs": [],
   "source": [
    "import scipy.stats as ss"
   ]
  },
  {
   "cell_type": "code",
   "execution_count": 25,
   "metadata": {},
   "outputs": [
    {
     "name": "stdout",
     "output_type": "stream",
     "text": [
      "[[-0.17611749  0.53879524  0.61159284 -0.43855237  1.40563383]\n",
      " [-1.65550439 -0.01857915  0.08737041  0.39238896 -0.88354126]\n",
      " [-0.59879946  0.98469475 -1.74740811 -1.26949371 -1.12450706]\n",
      " [ 1.19759892 -1.57922743 -0.69896325  0.39238896 -0.76305836]\n",
      " [ 0.0352235   1.09616963  1.39792649 -0.85402304  1.16466803]\n",
      " [ 1.19759892 -1.02185304  0.34948162  1.77729119  0.20080483]]\n"
     ]
    }
   ],
   "source": [
    "data_standardised_ss=ss.zscore(data)\n",
    "print(data_standardised_ss)"
   ]
  },
  {
   "cell_type": "markdown",
   "metadata": {},
   "source": [
    "==========================================="
   ]
  },
  {
   "cell_type": "code",
   "execution_count": 26,
   "metadata": {},
   "outputs": [],
   "source": [
    "from sklearn.preprocessing import StandardScaler"
   ]
  },
  {
   "cell_type": "code",
   "execution_count": 28,
   "metadata": {},
   "outputs": [
    {
     "name": "stdout",
     "output_type": "stream",
     "text": [
      "[[-0.17611749  0.53879524  0.61159284 -0.43855237  1.40563383]\n",
      " [-1.65550439 -0.01857915  0.08737041  0.39238896 -0.88354126]\n",
      " [-0.59879946  0.98469475 -1.74740811 -1.26949371 -1.12450706]\n",
      " [ 1.19759892 -1.57922743 -0.69896325  0.39238896 -0.76305836]\n",
      " [ 0.0352235   1.09616963  1.39792649 -0.85402304  1.16466803]\n",
      " [ 1.19759892 -1.02185304  0.34948162  1.77729119  0.20080483]]\n"
     ]
    },
    {
     "name": "stderr",
     "output_type": "stream",
     "text": [
      "C:\\Users\\403-6\\Anaconda3\\lib\\site-packages\\sklearn\\utils\\validation.py:475: DataConversionWarning: Data with input dtype int32 was converted to float64 by StandardScaler.\n",
      "  warnings.warn(msg, DataConversionWarning)\n"
     ]
    }
   ],
   "source": [
    "ds=StandardScaler().fit_transform(data)\n",
    "print(ds)"
   ]
  },
  {
   "cell_type": "markdown",
   "metadata": {},
   "source": [
    "==========================================="
   ]
  },
  {
   "cell_type": "code",
   "execution_count": 29,
   "metadata": {},
   "outputs": [],
   "source": [
    "from sklearn.preprocessing import StandardScaler, RobustScaler"
   ]
  },
  {
   "cell_type": "code",
   "execution_count": 30,
   "metadata": {},
   "outputs": [
    {
     "name": "stdout",
     "output_type": "stream",
     "text": [
      "[ 9.06358241  8.35435029  9.8692398   8.57327615 11.81270177 11.53247346\n",
      " 11.65210814  7.35263443  6.49511095 12.00489814 11.08961891 13.79032181\n",
      "  8.46128509  7.19380816  8.73506499  8.88225266  7.53353723  9.12099296\n",
      " 11.82957452 10.53008186  7.2332597  11.37102361 10.91218183  9.07725147\n",
      " 10.18940061  6.91437679 14.9587392  10.91373352  9.37225444 10.04207476\n",
      " 11.92158632 10.11696579  9.10793566 10.63839428 11.68233725  6.93447601\n",
      "  9.43683148 13.48890542  8.65152218 11.17680246 13.60872693 14.11250052\n",
      " 12.90916337  9.72317662 10.68574377  8.54476304  7.1921078   7.51877762\n",
      "  9.11303567  9.90534968 11.51536872  9.69582815  9.45744199  8.80032005\n",
      "  5.94619175 10.66068481  9.338338    9.93011567 10.57949608  8.7874601\n",
      "  9.46319145 12.38295504 10.31522662 12.34964951 12.64182004  8.30392543\n",
      " 11.49141479  9.3767574   7.89786923  7.84700635 10.90121931 10.81748164\n",
      "  7.14091696 12.03485442  9.83645853  9.23216313  9.52354965 10.01757724\n",
      " 11.04093677 10.80740904  9.19643565  8.60550947 11.29196545  9.44893372\n",
      "  9.24157942 13.93607003 10.40499388 10.74539455 11.96269195 11.47292464\n",
      " 12.82260161  9.74696455 11.10631468  8.36892803 11.07740504  5.56441007\n",
      "  8.18741563  7.07575024  8.64487024 13.04560761]\n"
     ]
    }
   ],
   "source": [
    "np.random.seed(777)\n",
    "mu, sigma = 10,2\n",
    "x=mu+sigma*np.random.randn(100)\n",
    "print(x)"
   ]
  },
  {
   "cell_type": "code",
   "execution_count": 31,
   "metadata": {},
   "outputs": [
    {
     "name": "stdout",
     "output_type": "stream",
     "text": [
      "10.014107058424933\n"
     ]
    }
   ],
   "source": [
    "print(np.mean(x))"
   ]
  },
  {
   "cell_type": "code",
   "execution_count": 32,
   "metadata": {},
   "outputs": [
    {
     "name": "stdout",
     "output_type": "stream",
     "text": [
      "1.9171489776981916\n"
     ]
    }
   ],
   "source": [
    "print(np.std(x))"
   ]
  },
  {
   "cell_type": "code",
   "execution_count": 33,
   "metadata": {},
   "outputs": [
    {
     "data": {
      "image/png": "[encoded data removed]",
      "text/plain": [
       "<Figure size 432x288 with 1 Axes>"
      ]
     },
     "metadata": {},
     "output_type": "display_data"
    }
   ],
   "source": [
    "plt.hist(x)\n",
    "plt.show()"
   ]
  },
  {
   "cell_type": "markdown",
   "metadata": {},
   "source": [
    "==========================================="
   ]
  },
  {
   "cell_type": "code",
   "execution_count": 34,
   "metadata": {},
   "outputs": [
    {
     "name": "stdout",
     "output_type": "stream",
     "text": [
      "[  9.06358241   8.35435029   9.8692398    8.57327615  11.81270177\n",
      "  11.53247346  11.65210814   7.35263443   6.49511095  12.00489814\n",
      "  11.08961891  13.79032181   8.46128509   7.19380816   8.73506499\n",
      "   8.88225266   7.53353723   9.12099296  11.82957452  10.53008186\n",
      "   7.2332597   11.37102361  10.91218183   9.07725147  10.18940061\n",
      "   6.91437679  14.9587392   10.91373352   9.37225444  10.04207476\n",
      "  11.92158632  10.11696579   9.10793566  10.63839428  11.68233725\n",
      "   6.93447601   9.43683148  13.48890542   8.65152218  11.17680246\n",
      "  13.60872693  14.11250052  12.90916337   9.72317662  10.68574377\n",
      "   8.54476304   7.1921078    7.51877762   9.11303567   9.90534968\n",
      "  11.51536872   9.69582815   9.45744199   8.80032005   5.94619175\n",
      "  10.66068481   9.338338     9.93011567  10.57949608   8.7874601\n",
      "   9.46319145  12.38295504  10.31522662  12.34964951  12.64182004\n",
      "   8.30392543  11.49141479   9.3767574    7.89786923   7.84700635\n",
      "  10.90121931  10.81748164   7.14091696  12.03485442   9.83645853\n",
      "   9.23216313   9.52354965  10.01757724  11.04093677  10.80740904\n",
      "   9.19643565   8.60550947  11.29196545   9.44893372   9.24157942\n",
      "  13.93607003  10.40499388  10.74539455  11.96269195  11.47292464\n",
      "  12.82260161   9.74696455  11.10631468   8.36892803  11.07740504\n",
      "   5.56441007   8.18741563   7.07575024 100.         100.        ]\n"
     ]
    }
   ],
   "source": [
    "x[98:100]=100\n",
    "print(x)"
   ]
  },
  {
   "cell_type": "code",
   "execution_count": 35,
   "metadata": {},
   "outputs": [
    {
     "name": "stdout",
     "output_type": "stream",
     "text": [
      "11.79720227993895\n"
     ]
    }
   ],
   "source": [
    "print(np.mean(x))"
   ]
  },
  {
   "cell_type": "code",
   "execution_count": 36,
   "metadata": {},
   "outputs": [
    {
     "name": "stdout",
     "output_type": "stream",
     "text": [
      "12.741059695068776\n"
     ]
    }
   ],
   "source": [
    "print(np.std(x))"
   ]
  },
  {
   "cell_type": "code",
   "execution_count": 37,
   "metadata": {},
   "outputs": [
    {
     "data": {
      "image/png": "[encoded data removed]",
      "text/plain": [
       "<Figure size 432x288 with 1 Axes>"
      ]
     },
     "metadata": {},
     "output_type": "display_data"
    }
   ],
   "source": [
    "plt.hist(x,bins=np.arange(0,102,2))\n",
    "plt.show()"
   ]
  },
  {
   "cell_type": "code",
   "execution_count": 52,
   "metadata": {},
   "outputs": [
    {
     "name": "stdout",
     "output_type": "stream",
     "text": [
      "(100, 1)\n",
      "[[ 12.82260161]\n",
      " [  9.74696455]\n",
      " [ 11.10631468]\n",
      " [  8.36892803]\n",
      " [ 11.07740504]\n",
      " [  5.56441007]\n",
      " [  8.18741563]\n",
      " [  7.07575024]\n",
      " [100.        ]\n",
      " [100.        ]]\n"
     ]
    }
   ],
   "source": [
    "x=x.reshape(-1,1)\n",
    "print(x.shape)\n",
    "print(x[-10:])"
   ]
  },
  {
   "cell_type": "code",
   "execution_count": 53,
   "metadata": {},
   "outputs": [
    {
     "name": "stdout",
     "output_type": "stream",
     "text": [
      "[[ 0.08047991]\n",
      " [-0.16091579]\n",
      " [-0.05422529]\n",
      " [-0.26907293]\n",
      " [-0.0564943 ]\n",
      " [-0.48918947]\n",
      " [-0.28331918]\n",
      " [-0.37056981]\n",
      " [ 6.9227207 ]\n",
      " [ 6.9227207 ]]\n"
     ]
    }
   ],
   "source": [
    "xss=StandardScaler().fit_transform(x)\n",
    "print(xss[-10:])"
   ]
  },
  {
   "cell_type": "code",
   "execution_count": 42,
   "metadata": {},
   "outputs": [
    {
     "data": {
      "image/png": "[encoded data removed]",
      "text/plain": [
       "<Figure size 432x288 with 1 Axes>"
      ]
     },
     "metadata": {},
     "output_type": "display_data"
    }
   ],
   "source": [
    "plt.hist(xss)\n",
    "plt.show()"
   ]
  },
  {
   "cell_type": "markdown",
   "metadata": {},
   "source": [
    "==========================================="
   ]
  },
  {
   "cell_type": "code",
   "execution_count": 43,
   "metadata": {},
   "outputs": [
    {
     "name": "stdout",
     "output_type": "stream",
     "text": [
      "[-0.214552   -0.27021708 -0.15131885 -0.25303438  0.0012165  -0.02077761\n",
      " -0.01138792 -0.34883816 -0.4161421   0.0163013  -0.05553568  0.15643279\n",
      " -0.26182416 -0.36130387 -0.24033615 -0.22878392 -0.33463975 -0.21004605\n",
      "  0.00254078 -0.09945173 -0.35820746 -0.03344923 -0.06946208 -0.21347917\n",
      " -0.12619058 -0.38323543  0.24813767 -0.06934029 -0.19032544 -0.13775365\n",
      "  0.00976246 -0.13187573 -0.21107087 -0.09095068 -0.00901534 -0.38165791\n",
      " -0.18525702  0.1327757  -0.24689313 -0.04869295  0.14218006  0.18171944\n",
      "  0.08727383 -0.16278282 -0.08723439 -0.25527227 -0.36143732 -0.33579818\n",
      " -0.21067059 -0.14848471 -0.0221201  -0.16492931 -0.18363938 -0.23521452\n",
      " -0.4592248  -0.08920117 -0.19298742 -0.14654092 -0.09557338 -0.23622385\n",
      " -0.18318812  0.04597363 -0.11631495  0.0433596   0.06629101 -0.27417475\n",
      " -0.02400016 -0.18997202 -0.30604464 -0.31003669 -0.07032248 -0.07689475\n",
      " -0.36545511  0.01865246 -0.15389173 -0.20132071 -0.17845083 -0.13967638\n",
      " -0.05935656 -0.07768532 -0.20412483 -0.2505045  -0.03965422 -0.18430716\n",
      " -0.20058166  0.16787205 -0.10926944 -0.08255261  0.01298869 -0.02545139\n",
      "  0.08047991 -0.16091579 -0.05422529 -0.26907293 -0.0564943  -0.48918947\n",
      " -0.28331918 -0.37056981]\n"
     ]
    }
   ],
   "source": [
    "xss_in=xss[xss<5]\n",
    "print(xss_in)"
   ]
  },
  {
   "cell_type": "code",
   "execution_count": 44,
   "metadata": {},
   "outputs": [
    {
     "data": {
      "image/png": "[encoded data removed]",
      "text/plain": [
       "<Figure size 432x288 with 1 Axes>"
      ]
     },
     "metadata": {},
     "output_type": "display_data"
    }
   ],
   "source": [
    "plt.hist(xss_in,bins=np.arange(-3,30.2))\n",
    "plt.show()"
   ]
  },
  {
   "cell_type": "code",
   "execution_count": 45,
   "metadata": {},
   "outputs": [
    {
     "name": "stdout",
     "output_type": "stream",
     "text": [
      "9.917732674869148\n"
     ]
    }
   ],
   "source": [
    "print(np.median(x))"
   ]
  },
  {
   "cell_type": "code",
   "execution_count": 46,
   "metadata": {},
   "outputs": [
    {
     "name": "stdout",
     "output_type": "stream",
     "text": [
      "11.79720227993895\n"
     ]
    }
   ],
   "source": [
    "print(np.mean(x))"
   ]
  },
  {
   "cell_type": "code",
   "execution_count": 48,
   "metadata": {},
   "outputs": [
    {
     "name": "stdout",
     "output_type": "stream",
     "text": [
      "1사분위수 :  [8.77436132]\n",
      "3사분위수 :  [11.39649887]\n",
      "IQR :  [2.62213754]\n"
     ]
    }
   ],
   "source": [
    "Q1=np.percentile(x,25,axis=0)\n",
    "Q3=np.percentile(x,75,axis=0)\n",
    "IQR=Q3-Q1\n",
    "print(\"1사분위수 : \",Q1)\n",
    "print(\"3사분위수 : \",Q3)\n",
    "print(\"IQR : \",IQR)"
   ]
  },
  {
   "cell_type": "markdown",
   "metadata": {},
   "source": [
    "=========================================="
   ]
  },
  {
   "cell_type": "code",
   "execution_count": 51,
   "metadata": {},
   "outputs": [
    {
     "name": "stdout",
     "output_type": "stream",
     "text": [
      "[[ 1.10782477]\n",
      " [-0.06512554]\n",
      " [ 0.45328744]\n",
      " [-0.59066491]\n",
      " [ 0.44226222]\n",
      " [-1.66021901]\n",
      " [-0.65988798]\n",
      " [-1.08384186]\n",
      " [34.35451645]\n",
      " [34.35451645]]\n"
     ]
    }
   ],
   "source": [
    "x_rs=RobustScaler().fit_transform(x)\n",
    "print(x_rs[-10:])"
   ]
  },
  {
   "cell_type": "code",
   "execution_count": 54,
   "metadata": {},
   "outputs": [
    {
     "name": "stdout",
     "output_type": "stream",
     "text": [
      "0.0\n"
     ]
    }
   ],
   "source": [
    "print(np.median(x_rs))"
   ]
  },
  {
   "cell_type": "code",
   "execution_count": 55,
   "metadata": {},
   "outputs": [
    {
     "name": "stdout",
     "output_type": "stream",
     "text": [
      "0.7167700301529704\n"
     ]
    }
   ],
   "source": [
    "print(np.mean(x_rs))"
   ]
  },
  {
   "cell_type": "code",
   "execution_count": 56,
   "metadata": {},
   "outputs": [
    {
     "name": "stdout",
     "output_type": "stream",
     "text": [
      "4.859035611526193\n"
     ]
    }
   ],
   "source": [
    "print(np.std(x_rs))"
   ]
  },
  {
   "cell_type": "code",
   "execution_count": 59,
   "metadata": {},
   "outputs": [
    {
     "data": {
      "image/png": "[encoded data removed]",
      "text/plain": [
       "<Figure size 432x288 with 1 Axes>"
      ]
     },
     "metadata": {},
     "output_type": "display_data"
    }
   ],
   "source": [
    "x_rs_in=x_rs[x_rs<5]\n",
    "plt.hist(x_rs_in,bins=np.arange(-3,3,0.2))\n",
    "plt.show()"
   ]
  }
 ],
 "metadata": {
  "kernelspec": {
   "display_name": "Python 3",
   "language": "python",
   "name": "python3"
  },
  "language_info": {
   "codemirror_mode": {
    "name": "ipython",
    "version": 3
   },
   "file_extension": ".py",
   "mimetype": "text/x-python",
   "name": "python",
   "nbconvert_exporter": "python",
   "pygments_lexer": "ipython3",
   "version": "3.6.5"
  }
 },
 "nbformat": 4,
 "nbformat_minor": 2
}
