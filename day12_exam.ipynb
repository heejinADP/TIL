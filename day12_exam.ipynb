{
 "cells": [
  {
   "cell_type": "markdown",
   "metadata": {},
   "source": [
    "** 1~100000 사이에 있는 7의 개수를 세어보세요**"
   ]
  },
  {
   "cell_type": "code",
   "execution_count": 1,
   "metadata": {},
   "outputs": [
    {
     "name": "stdout",
     "output_type": "stream",
     "text": [
      "50000\n"
     ]
    }
   ],
   "source": [
    "print(sum([str(i).count('7') for i in range(1, 100001)]))"
   ]
  },
  {
   "cell_type": "markdown",
   "metadata": {},
   "source": [
    "======================================"
   ]
  },
  {
   "cell_type": "markdown",
   "metadata": {},
   "source": [
    "**maria 딕셔너리에 저장된 점수의 평균을 출력하세요**"
   ]
  },
  {
   "cell_type": "markdown",
   "metadata": {},
   "source": [
    "maria={'kor':94, 'eng':92, 'math':89, 'sci':83}"
   ]
  },
  {
   "cell_type": "code",
   "execution_count": 4,
   "metadata": {},
   "outputs": [
    {
     "name": "stdout",
     "output_type": "stream",
     "text": [
      "89.5\n"
     ]
    }
   ],
   "source": [
    "print(sum(maria.values()) / len(maria))"
   ]
  },
  {
   "cell_type": "markdown",
   "metadata": {},
   "source": [
    "======================================="
   ]
  },
  {
   "cell_type": "markdown",
   "metadata": {},
   "source": [
    "**어떤 자연수 n이 있을 때, d(n)을 n의 각 자릿수 숫자들과 n 자신을 더한 숫자라고 정의하자.\n",
    "예를 들어 d(91) = 9 + 1 + 91 = 101\n",
    "이 때, n을 d(n)의 제네레이터라고 한다.\n",
    "91은 101의 제네레이터이다.\n",
    "어떤 숫자들은 하나 이상의 제네레이터를 가지고 있는데, 101의 제네레이터는 91 뿐 아니라 100도 있다. \n",
    "그런데 반대로, 제네레이터가 없는 숫자들도 있으며, 이런 숫자를 셀프 넘버(self-number)라 한다. \n",
    "예를 들어 1,3,5,7,9,20,31 은 셀프 넘버들이다.1 이상이고 5000 보다 작은 모든 셀프 넘버들의 합을 구하라.**"
   ]
  },
  {
   "cell_type": "code",
   "execution_count": 5,
   "metadata": {},
   "outputs": [
    {
     "name": "stdout",
     "output_type": "stream",
     "text": [
      "1227365\n"
     ]
    }
   ],
   "source": [
    "print(sum(set(range(1, 5000)) - {x + sum([int(j) for j in str(x)]) for x in range(1, 5000)}))"
   ]
  }
 ],
 "metadata": {
  "kernelspec": {
   "display_name": "Python 3",
   "language": "python",
   "name": "python3"
  },
  "language_info": {
   "codemirror_mode": {
    "name": "ipython",
    "version": 3
   },
   "file_extension": ".py",
   "mimetype": "text/x-python",
   "name": "python",
   "nbconvert_exporter": "python",
   "pygments_lexer": "ipython3",
   "version": "3.6.5"
  }
 },
 "nbformat": 4,
 "nbformat_minor": 2
}
 {
   "cell_type": "markdown",
   "metadata": {},
   "source": [
    "======================================="
   ]
  }
