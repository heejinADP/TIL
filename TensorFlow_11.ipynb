{
 "cells": [
  {
   "cell_type": "code",
   "execution_count": 30,
   "metadata": {},
   "outputs": [],
   "source": [
    "import numpy as np\n",
    "import tensorflow as tf"
   ]
  },
  {
   "cell_type": "code",
   "execution_count": 31,
   "metadata": {},
   "outputs": [
    {
     "name": "stdout",
     "output_type": "stream",
     "text": [
      "[[1.  5.1 3.5 ... 1.  0.  0. ]\n",
      " [1.  4.9 3.  ... 1.  0.  0. ]\n",
      " [1.  4.7 3.2 ... 1.  0.  0. ]\n",
      " ...\n",
      " [1.  6.5 3.  ... 0.  0.  1. ]\n",
      " [1.  6.2 3.4 ... 0.  0.  1. ]\n",
      " [1.  5.9 3.  ... 0.  0.  1. ]]\n"
     ]
    }
   ],
   "source": [
    "xy = np.loadtxt(\"DataSet/iris_softmax.csv\", delimiter=\",\", dtype = np.float32)\n",
    "print(xy)"
   ]
  },
  {
   "cell_type": "code",
   "execution_count": 32,
   "metadata": {},
   "outputs": [
    {
     "name": "stdout",
     "output_type": "stream",
     "text": [
      "(150, 4)\n",
      "(150, 4)\n"
     ]
    }
   ],
   "source": [
    "xdata = xy[:, 1:-3]\n",
    "ydata = xy[:, -3:]\n",
    "ydata = np.array(ydata, dtype = np.int32) #ydata에 저장된 float32를 int32로 변환\n",
    "print(xdata.shape)\n",
    "print(xdata.shape)"
   ]
  },
  {
   "cell_type": "code",
   "execution_count": 33,
   "metadata": {},
   "outputs": [],
   "source": [
    "x = tf.placeholder(tf.float32, shape=[None,4])\n",
    "y = tf.placeholder(tf.int32, shape=[None,3])\n",
    "w = tf.Variable(tf.random_normal([4,3]))\n",
    "b = tf.Variable(tf.random_normal([3]))\n",
    "\n",
    "logit = tf.matmul(x,w)+b\n",
    "hf = tf.nn.softmax(logit)\n",
    "\n",
    "costi = tf.nn.softmax_cross_entropy_with_logits_v2(logits=logit, labels = y)\n",
    "cost = tf.reduce_mean(costi)\n",
    "\n",
    "prediction = tf.argmax(hf, 1) #최대값이 있는 위치 출력(0 or 1 or 2)\n",
    "correct_prediction = tf.equal(prediction, tf.argmax(y, 1))\n",
    "accruracy = tf.reduce_mean(tf.cast(correct_prediction, dtype = tf.float32))\n",
    "train = tf.train.AdamOptimizer(0.1).minimize(cost)    # GradientDescentOptimizer보다 AdamOptimizer가 더 성능이 좋게 나온다"
   ]
  },
  {
   "cell_type": "code",
   "execution_count": 34,
   "metadata": {},
   "outputs": [
    {
     "name": "stdout",
     "output_type": "stream",
     "text": [
      "0 \tcost : 8.867631 \tacc : 0.33333334\n",
      "200 \tcost : 0.14710914 \tacc : 0.98\n",
      "400 \tcost : 0.09199046 \tacc : 0.98\n",
      "600 \tcost : 0.07285529 \tacc : 0.98\n",
      "800 \tcost : 0.06331677 \tacc : 0.98\n",
      "1000 \tcost : 0.05761813 \tacc : 0.98\n",
      "1200 \tcost : 0.053829137 \tacc : 0.98\n",
      "1400 \tcost : 0.05112772 \tacc : 0.98\n",
      "1600 \tcost : 0.04910482 \tacc : 0.98\n",
      "1800 \tcost : 0.047533933 \tacc : 0.98\n",
      "2000 \tcost : 0.046279885 \tacc : 0.98\n"
     ]
    }
   ],
   "source": [
    "sess = tf.Session()\n",
    "sess.run(tf.global_variables_initializer())\n",
    "\n",
    "for step in range(2001):\n",
    "    costv, accv, _ =sess.run([cost, accruracy, train], feed_dict={x:xdata, y:ydata})\n",
    "    if step % 200 == 0 :\n",
    "        print(step, \"\\tcost :\", costv, \"\\tacc :\", accv)"
   ]
  },
  {
   "cell_type": "code",
   "execution_count": 35,
   "metadata": {},
   "outputs": [
    {
     "name": "stdout",
     "output_type": "stream",
     "text": [
      "True prediction:0 True Y:0\n",
      "True prediction:0 True Y:0\n",
      "True prediction:0 True Y:0\n",
      "True prediction:0 True Y:0\n",
      "True prediction:0 True Y:0\n",
      "True prediction:0 True Y:0\n",
      "True prediction:0 True Y:0\n",
      "True prediction:0 True Y:0\n",
      "True prediction:0 True Y:0\n",
      "True prediction:0 True Y:0\n",
      "True prediction:0 True Y:0\n",
      "True prediction:0 True Y:0\n",
      "True prediction:0 True Y:0\n",
      "True prediction:0 True Y:0\n",
      "True prediction:0 True Y:0\n",
      "True prediction:0 True Y:0\n",
      "True prediction:0 True Y:0\n",
      "True prediction:0 True Y:0\n",
      "True prediction:0 True Y:0\n",
      "True prediction:0 True Y:0\n",
      "True prediction:0 True Y:0\n",
      "True prediction:0 True Y:0\n",
      "True prediction:0 True Y:0\n",
      "True prediction:0 True Y:0\n",
      "True prediction:0 True Y:0\n",
      "True prediction:0 True Y:0\n",
      "True prediction:0 True Y:0\n",
      "True prediction:0 True Y:0\n",
      "True prediction:0 True Y:0\n",
      "True prediction:0 True Y:0\n",
      "True prediction:0 True Y:0\n",
      "True prediction:0 True Y:0\n",
      "True prediction:0 True Y:0\n",
      "True prediction:0 True Y:0\n",
      "True prediction:0 True Y:0\n",
      "True prediction:0 True Y:0\n",
      "True prediction:0 True Y:0\n",
      "True prediction:0 True Y:0\n",
      "True prediction:0 True Y:0\n",
      "True prediction:0 True Y:0\n",
      "True prediction:0 True Y:0\n",
      "True prediction:0 True Y:0\n",
      "True prediction:0 True Y:0\n",
      "True prediction:0 True Y:0\n",
      "True prediction:0 True Y:0\n",
      "True prediction:0 True Y:0\n",
      "True prediction:0 True Y:0\n",
      "True prediction:0 True Y:0\n",
      "True prediction:0 True Y:0\n",
      "True prediction:0 True Y:0\n",
      "True prediction:1 True Y:1\n",
      "True prediction:1 True Y:1\n",
      "True prediction:1 True Y:1\n",
      "True prediction:1 True Y:1\n",
      "True prediction:1 True Y:1\n",
      "True prediction:1 True Y:1\n",
      "True prediction:1 True Y:1\n",
      "True prediction:1 True Y:1\n",
      "True prediction:1 True Y:1\n",
      "True prediction:1 True Y:1\n",
      "True prediction:1 True Y:1\n",
      "True prediction:1 True Y:1\n",
      "True prediction:1 True Y:1\n",
      "True prediction:1 True Y:1\n",
      "True prediction:1 True Y:1\n",
      "True prediction:1 True Y:1\n",
      "True prediction:1 True Y:1\n",
      "True prediction:1 True Y:1\n",
      "True prediction:1 True Y:1\n",
      "True prediction:1 True Y:1\n",
      "False prediction:2 True Y:1\n",
      "True prediction:1 True Y:1\n",
      "True prediction:1 True Y:1\n",
      "True prediction:1 True Y:1\n",
      "True prediction:1 True Y:1\n",
      "True prediction:1 True Y:1\n",
      "True prediction:1 True Y:1\n",
      "True prediction:1 True Y:1\n",
      "True prediction:1 True Y:1\n",
      "True prediction:1 True Y:1\n",
      "True prediction:1 True Y:1\n",
      "True prediction:1 True Y:1\n",
      "True prediction:1 True Y:1\n",
      "False prediction:2 True Y:1\n",
      "True prediction:1 True Y:1\n",
      "True prediction:1 True Y:1\n",
      "True prediction:1 True Y:1\n",
      "True prediction:1 True Y:1\n",
      "True prediction:1 True Y:1\n",
      "True prediction:1 True Y:1\n",
      "True prediction:1 True Y:1\n",
      "True prediction:1 True Y:1\n",
      "True prediction:1 True Y:1\n",
      "True prediction:1 True Y:1\n",
      "True prediction:1 True Y:1\n",
      "True prediction:1 True Y:1\n",
      "True prediction:1 True Y:1\n",
      "True prediction:1 True Y:1\n",
      "True prediction:1 True Y:1\n",
      "True prediction:1 True Y:1\n",
      "True prediction:2 True Y:2\n",
      "True prediction:2 True Y:2\n",
      "True prediction:2 True Y:2\n",
      "True prediction:2 True Y:2\n",
      "True prediction:2 True Y:2\n",
      "True prediction:2 True Y:2\n",
      "True prediction:2 True Y:2\n",
      "True prediction:2 True Y:2\n",
      "True prediction:2 True Y:2\n",
      "True prediction:2 True Y:2\n",
      "True prediction:2 True Y:2\n",
      "True prediction:2 True Y:2\n",
      "True prediction:2 True Y:2\n",
      "True prediction:2 True Y:2\n",
      "True prediction:2 True Y:2\n",
      "True prediction:2 True Y:2\n",
      "True prediction:2 True Y:2\n",
      "True prediction:2 True Y:2\n",
      "True prediction:2 True Y:2\n",
      "True prediction:2 True Y:2\n",
      "True prediction:2 True Y:2\n",
      "True prediction:2 True Y:2\n",
      "True prediction:2 True Y:2\n",
      "True prediction:2 True Y:2\n",
      "True prediction:2 True Y:2\n",
      "True prediction:2 True Y:2\n",
      "True prediction:2 True Y:2\n",
      "True prediction:2 True Y:2\n",
      "True prediction:2 True Y:2\n",
      "True prediction:2 True Y:2\n",
      "True prediction:2 True Y:2\n",
      "True prediction:2 True Y:2\n",
      "True prediction:2 True Y:2\n",
      "False prediction:1 True Y:2\n",
      "True prediction:2 True Y:2\n",
      "True prediction:2 True Y:2\n",
      "True prediction:2 True Y:2\n",
      "True prediction:2 True Y:2\n",
      "True prediction:2 True Y:2\n",
      "True prediction:2 True Y:2\n",
      "True prediction:2 True Y:2\n",
      "True prediction:2 True Y:2\n",
      "True prediction:2 True Y:2\n",
      "True prediction:2 True Y:2\n",
      "True prediction:2 True Y:2\n",
      "True prediction:2 True Y:2\n",
      "True prediction:2 True Y:2\n",
      "True prediction:2 True Y:2\n",
      "True prediction:2 True Y:2\n",
      "True prediction:2 True Y:2\n"
     ]
    }
   ],
   "source": [
    "pred = sess.run(prediction, feed_dict={x:xdata})\n",
    "ydata = sess.run(tf.argmax(ydata,1))\n",
    "for p,y in zip(pred, ydata) :\n",
    "    print(\"{} prediction:{} True Y:{}\".format(p==y,p,y)) # 예측 결과 출력"
   ]
  },
  {
   "cell_type": "code",
   "execution_count": null,
   "metadata": {},
   "outputs": [],
   "source": []
  }
 ],
 "metadata": {
  "kernelspec": {
   "display_name": "Python 3",
   "language": "python",
   "name": "python3"
  },
  "language_info": {
   "codemirror_mode": {
    "name": "ipython",
    "version": 3
   },
   "file_extension": ".py",
   "mimetype": "text/x-python",
   "name": "python",
   "nbconvert_exporter": "python",
   "pygments_lexer": "ipython3",
   "version": "3.6.6"
  }
 },
 "nbformat": 4,
 "nbformat_minor": 2
}
