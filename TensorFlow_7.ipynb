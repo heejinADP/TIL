{
 "cells": [
  {
   "cell_type": "markdown",
   "metadata": {},
   "source": [
    "# Logistic Classification"
   ]
  },
  {
   "cell_type": "code",
   "execution_count": 15,
   "metadata": {},
   "outputs": [],
   "source": [
    "import numpy as np\n",
    "import tensorflow as tf\n",
    "import math"
   ]
  },
  {
   "cell_type": "code",
   "execution_count": 16,
   "metadata": {},
   "outputs": [
    {
     "name": "stdout",
     "output_type": "stream",
     "text": [
      "0 1.2962648\n",
      "100 0.6974108\n",
      "200 0.6460249\n",
      "300 0.6129492\n",
      "400 0.5873954\n",
      "500 0.56579274\n",
      "600 0.54693824\n",
      "700 0.5302945\n",
      "800 0.5155216\n",
      "900 0.50235754\n",
      "1000 0.49058497\n",
      "1100 0.48002002\n",
      "1200 0.4705062\n",
      "1300 0.46191016\n",
      "1400 0.45411777\n",
      "1500 0.44703153\n",
      "1600 0.440568\n",
      "1700 0.43465516\n",
      "1800 0.42923078\n",
      "1900 0.42424127\n",
      "2000 0.41964015\n",
      "==================================================\n",
      "[[0.903449 0.517566]]\n",
      "[[ True  True]]\n",
      "[[-2.7864199   0.25617135  0.5317568 ]]\n"
     ]
    }
   ],
   "source": [
    "xx = [[1,1,1,1,1,1],\n",
    "      [2,3,3,5,7,2],\n",
    "      [1,2,5,5,5,5]]\n",
    "yy = np.array([0,0,0,1,1,1])\n",
    "x = tf.placeholder(tf.float32)\n",
    "y = tf.placeholder(tf.float32)\n",
    "w = tf.Variable(tf.random_uniform([1,3], -1, 1))\n",
    "z = tf.matmul(w,x)\n",
    "\n",
    "# hf = 1 / (1 + tf.exp(-z))\n",
    "# hf = tf.div(1, 1 + tf.exp(-z))\n",
    "hf = tf.nn.sigmoid(z)\n",
    "cost= -tf.reduce_mean(y*tf.log(hf)+(1-y)*tf.log(1-hf))\n",
    "sess = tf.Session()\n",
    "sess.run(tf.global_variables_initializer())\n",
    "\n",
    "optimizer = tf.train.GradientDescentOptimizer(0.02)\n",
    "train = optimizer.minimize(cost)\n",
    "\n",
    "for i in range(2001) :\n",
    "    sess.run(train, feed_dict = {x : xx, y : yy})\n",
    "    if i % 100 == 0 :\n",
    "        print(i, sess.run(cost, feed_dict={x : xx, y : yy}))\n",
    "\n",
    "print(\"=\"*50)\n",
    "\n",
    "xx = [[1, 1],\n",
    "      [3, 7],\n",
    "      [8, 2]]\n",
    "print(sess.run(hf, feed_dict={x : xx}))\n",
    "\n",
    "yhat = sess.run(hf, feed_dict={x : xx})\n",
    "print(yhat>0.5)\n",
    "print(sess.run(w))"
   ]
  },
  {
   "cell_type": "code",
   "execution_count": 17,
   "metadata": {},
   "outputs": [
    {
     "data": {
      "text/plain": [
       "array([[2.23614872, 0.07029319]])"
      ]
     },
     "execution_count": 17,
     "metadata": {},
     "output_type": "execute_result"
    }
   ],
   "source": [
    "def sigmoid(z):\n",
    "    return 1/(1+math.e**-z)\n",
    "ww = sess.run(w)\n",
    "np.dot(ww,xx)"
   ]
  },
  {
   "cell_type": "code",
   "execution_count": 23,
   "metadata": {},
   "outputs": [
    {
     "name": "stdout",
     "output_type": "stream",
     "text": [
      "0 3.671828\n",
      "200 0.5614164\n",
      "400 0.44796208\n",
      "600 0.397891\n",
      "800 0.370432\n",
      "1000 0.35217366\n",
      "\n",
      "예측값 : \n",
      " [[0.18947262]\n",
      " [0.29536638]\n",
      " [0.5774632 ]\n",
      " [0.6675365 ]\n",
      " [0.81462187]\n",
      " [0.92149776]] \n",
      "\n",
      "예측값(0/1) : \n",
      " [[0.]\n",
      " [0.]\n",
      " [1.]\n",
      " [1.]\n",
      " [1.]\n",
      " [1.]] \n",
      "\n",
      "정확도 : \n",
      " 0.8333333\n"
     ]
    }
   ],
   "source": [
    "tf.set_random_seed(777)\n",
    "xdata = [[1,2],\n",
    "         [2,3],\n",
    "         [3,1],\n",
    "         [4,3],\n",
    "         [5,3],\n",
    "         [6,2]]\n",
    "ydata = [[0],\n",
    "         [0],\n",
    "         [0],\n",
    "         [1],\n",
    "         [1],\n",
    "         [1]]\n",
    "x = tf.placeholder(tf.float32, shape = [None,2])\n",
    "y = tf.placeholder(tf.float32, shape = [None,1])\n",
    "w = tf.Variable(tf.random_normal([2,1]))\n",
    "b = tf.Variable(tf.random_normal([1]))\n",
    "hf = tf.sigmoid(tf.matmul(x,w)+b)\n",
    "cost = -tf.reduce_mean(y*tf.log(hf)+(1-y)*tf.log(1-hf))\n",
    "train = tf.train.GradientDescentOptimizer(0.01).minimize(cost)\n",
    "\n",
    "predicted = tf.cast(hf>0.5, dtype = tf.float32)\n",
    "accuracy = tf.reduce_mean(tf.cast(tf.equal(predicted, y), dtype = tf.float32))\n",
    "\n",
    "with tf.Session() as sess:\n",
    "    sess.run(tf.global_variables_initializer())\n",
    "    for step in range(1001):\n",
    "        cv, _ = sess.run([cost, train], feed_dict={x:xdata, y:ydata})\n",
    "        if step % 200 == 0:\n",
    "            print(step, cv)\n",
    "            \n",
    "    hfv, pv, av = sess.run([hf, predicted, accuracy], feed_dict={x:xdata, y:ydata})\n",
    "    print(\"\\n예측값 : \\n\", hfv, \"\\n\\n예측값(0/1) : \\n\", pv, \"\\n\\n정확도 : \\n\", av)"
   ]
  }
 ],
 "metadata": {
  "kernelspec": {
   "display_name": "Python 3",
   "language": "python",
   "name": "python3"
  },
  "language_info": {
   "codemirror_mode": {
    "name": "ipython",
    "version": 3
   },
   "file_extension": ".py",
   "mimetype": "text/x-python",
   "name": "python",
   "nbconvert_exporter": "python",
   "pygments_lexer": "ipython3",
   "version": "3.6.6"
  }
 },
 "nbformat": 4,
 "nbformat_minor": 2
}
