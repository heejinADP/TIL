{
 "cells": [
  {
   "cell_type": "markdown",
   "metadata": {},
   "source": [
    "# Functions of DataFrame 8"
   ]
  },
  {
   "cell_type": "code",
   "execution_count": 19,
   "metadata": {},
   "outputs": [],
   "source": [
    "import pandas as pd\n",
    "from pandas import DataFrame"
   ]
  },
  {
   "cell_type": "code",
   "execution_count": 4,
   "metadata": {},
   "outputs": [],
   "source": [
    "pdf=pd.DataFrame({'seq':[1,3,2],\n",
    "              'neame':['park','lee','choi'],\n",
    "              'age':[30,20,40]\n",
    "})"
   ]
  },
  {
   "cell_type": "code",
   "execution_count": 6,
   "metadata": {},
   "outputs": [
    {
     "name": "stdout",
     "output_type": "stream",
     "text": [
      "   seq neame  age\n",
      "0    1  park   30\n",
      "1    3   lee   20\n",
      "2    2  choi   40\n"
     ]
    }
   ],
   "source": [
    "print(pdf)"
   ]
  },
  {
   "cell_type": "code",
   "execution_count": 10,
   "metadata": {},
   "outputs": [
    {
     "name": "stdout",
     "output_type": "stream",
     "text": [
      "   seq neame  age\n",
      "0    1  park   30\n",
      "2    2  choi   40\n",
      "1    3   lee   20\n"
     ]
    }
   ],
   "source": [
    "print(pdf.sort_values(by=['seq'],axis=0,ascending=True))"
   ]
  },
  {
   "cell_type": "code",
   "execution_count": 9,
   "metadata": {},
   "outputs": [
    {
     "name": "stdout",
     "output_type": "stream",
     "text": [
      "   seq neame  age\n",
      "0    1  park   30\n",
      "2    2  choi   40\n",
      "1    3   lee   20\n"
     ]
    }
   ],
   "source": [
    "pdf.sort_values(by=['seq'],axis=0,inplace=True)\n",
    "print(pdf)"
   ]
  },
  {
   "cell_type": "markdown",
   "metadata": {},
   "source": [
    "=================================================================="
   ]
  },
  {
   "cell_type": "code",
   "execution_count": 11,
   "metadata": {},
   "outputs": [],
   "source": [
    "import numpy as np"
   ]
  },
  {
   "cell_type": "code",
   "execution_count": 12,
   "metadata": {},
   "outputs": [
    {
     "name": "stdout",
     "output_type": "stream",
     "text": [
      "   seq neame  age\n",
      "0  1.0  park   30\n",
      "1  3.0   lee   20\n",
      "2  NaN  choi   40\n"
     ]
    }
   ],
   "source": [
    "pdf=pd.DataFrame({'seq':[1,3,np.nan],\n",
    "              'neame':['park','lee','choi'],\n",
    "              'age':[30,20,40]\n",
    "})\n",
    "print(pdf)"
   ]
  },
  {
   "cell_type": "code",
   "execution_count": 14,
   "metadata": {},
   "outputs": [
    {
     "name": "stdout",
     "output_type": "stream",
     "text": [
      "   seq neame  age\n",
      "2  NaN  choi   40\n",
      "0  1.0  park   30\n",
      "1  3.0   lee   20\n"
     ]
    }
   ],
   "source": [
    "pdf.sort_values(by=['seq'],axis=0,inplace=True,na_position='first')\n",
    "print(pdf)"
   ]
  },
  {
   "cell_type": "code",
   "execution_count": 15,
   "metadata": {},
   "outputs": [
    {
     "name": "stdout",
     "output_type": "stream",
     "text": [
      "   seq neame  age\n",
      "0  1.0  park   30\n",
      "1  3.0   lee   20\n",
      "2  NaN  choi   40\n"
     ]
    }
   ],
   "source": [
    "pdf.sort_values(by=['seq'],axis=0,inplace=True,na_position='last')\n",
    "print(pdf)"
   ]
  },
  {
   "cell_type": "markdown",
   "metadata": {},
   "source": [
    "=================================================================="
   ]
  },
  {
   "cell_type": "code",
   "execution_count": 16,
   "metadata": {},
   "outputs": [
    {
     "name": "stdout",
     "output_type": "stream",
     "text": [
      "[(1, 'park', 30), (3, 'lee', 20), (2, 'choi', 40)]\n"
     ]
    }
   ],
   "source": [
    "pt=[(1,'park',30),\n",
    "    (3,'lee',20),\n",
    "    (2,'choi',40)]\n",
    "print(pt)"
   ]
  },
  {
   "cell_type": "code",
   "execution_count": 24,
   "metadata": {},
   "outputs": [
    {
     "name": "stdout",
     "output_type": "stream",
     "text": [
      "[(1, 'park', 30), (2, 'choi', 40), (3, 'lee', 20)]\n"
     ]
    }
   ],
   "source": [
    "print(sorted(pt, key=lambda ptf:ptf[0]))"
   ]
  },
  {
   "cell_type": "code",
   "execution_count": 26,
   "metadata": {},
   "outputs": [
    {
     "name": "stdout",
     "output_type": "stream",
     "text": [
      "[(1, 'park', 30), (3, 'lee', 20), (2, 'choi', 40)]\n"
     ]
    }
   ],
   "source": [
    "print(sorted(pt, reverse=True, key=lambda ptf:ptf[1]))"
   ]
  },
  {
   "cell_type": "code",
   "execution_count": 27,
   "metadata": {},
   "outputs": [
    {
     "name": "stdout",
     "output_type": "stream",
     "text": [
      "[(3, 'lee', 20), (1, 'park', 30), (2, 'choi', 40)]\n"
     ]
    }
   ],
   "source": [
    "print(sorted(pt,key=lambda ptf:ptf[2]))"
   ]
  },
  {
   "cell_type": "markdown",
   "metadata": {},
   "source": [
    "=================================================================="
   ]
  },
  {
   "cell_type": "code",
   "execution_count": 28,
   "metadata": {},
   "outputs": [
    {
     "name": "stdout",
     "output_type": "stream",
     "text": [
      "[9, 4, 1, 2, 7]\n"
     ]
    }
   ],
   "source": [
    "mlist=[9,4,1,2,7]\n",
    "print(mlist)"
   ]
  },
  {
   "cell_type": "code",
   "execution_count": 30,
   "metadata": {},
   "outputs": [
    {
     "name": "stdout",
     "output_type": "stream",
     "text": [
      "[1, 2, 4, 7, 9]\n"
     ]
    }
   ],
   "source": [
    "print(sorted(mlist))"
   ]
  },
  {
   "cell_type": "code",
   "execution_count": 31,
   "metadata": {},
   "outputs": [
    {
     "name": "stdout",
     "output_type": "stream",
     "text": [
      "[1, 2, 4, 7, 9]\n"
     ]
    }
   ],
   "source": [
    "mlist.sort()\n",
    "print(mlist)"
   ]
  },
  {
   "cell_type": "markdown",
   "metadata": {},
   "source": [
    "=================================================================="
   ]
  },
  {
   "cell_type": "code",
   "execution_count": 32,
   "metadata": {},
   "outputs": [
    {
     "name": "stdout",
     "output_type": "stream",
     "text": [
      "0    10.0\n",
      "1    11.0\n",
      "2    12.0\n",
      "3    13.0\n",
      "4    14.0\n",
      "dtype: float64\n"
     ]
    }
   ],
   "source": [
    "Seri=pd.Series([10.,11.,12.,13.,14.])\n",
    "print(Seri)"
   ]
  },
  {
   "cell_type": "code",
   "execution_count": 33,
   "metadata": {},
   "outputs": [
    {
     "name": "stdout",
     "output_type": "stream",
     "text": [
      "13.0\n"
     ]
    }
   ],
   "source": [
    "print(Seri[3])"
   ]
  },
  {
   "cell_type": "code",
   "execution_count": 34,
   "metadata": {},
   "outputs": [
    {
     "name": "stdout",
     "output_type": "stream",
     "text": [
      "0    10.0\n",
      "1    11.0\n",
      "2    12.0\n",
      "dtype: float64\n"
     ]
    }
   ],
   "source": [
    "print(Seri[:3])"
   ]
  },
  {
   "cell_type": "code",
   "execution_count": 35,
   "metadata": {},
   "outputs": [
    {
     "name": "stdout",
     "output_type": "stream",
     "text": [
      "2    12.0\n",
      "3    13.0\n",
      "4    14.0\n",
      "dtype: float64\n"
     ]
    }
   ],
   "source": [
    "print(Seri[Seri>=Seri.mean()])"
   ]
  },
  {
   "cell_type": "code",
   "execution_count": 36,
   "metadata": {},
   "outputs": [
    {
     "name": "stdout",
     "output_type": "stream",
     "text": [
      "3    13.0\n",
      "4    14.0\n",
      "2    12.0\n",
      "dtype: float64\n"
     ]
    }
   ],
   "source": [
    "print(Seri[[3,4,2]])"
   ]
  },
  {
   "cell_type": "markdown",
   "metadata": {},
   "source": [
    "=================================================================="
   ]
  },
  {
   "cell_type": "code",
   "execution_count": 37,
   "metadata": {},
   "outputs": [
    {
     "name": "stdout",
     "output_type": "stream",
     "text": [
      "a    10.0\n",
      "b    11.0\n",
      "c    12.0\n",
      "d    13.0\n",
      "e    14.0\n",
      "dtype: float64\n"
     ]
    }
   ],
   "source": [
    "Seri_ix=pd.Series([10.,11.,12.,13.,14.],\n",
    "               index=['a','b','c','d','e'])\n",
    "print(Seri_ix)"
   ]
  },
  {
   "cell_type": "code",
   "execution_count": 39,
   "metadata": {},
   "outputs": [
    {
     "name": "stdout",
     "output_type": "stream",
     "text": [
      "c    12.0\n",
      "d    13.0\n",
      "b    11.0\n",
      "dtype: float64\n"
     ]
    }
   ],
   "source": [
    "print(Seri_ix[['c','d','b']])"
   ]
  },
  {
   "cell_type": "code",
   "execution_count": 40,
   "metadata": {},
   "outputs": [
    {
     "name": "stdout",
     "output_type": "stream",
     "text": [
      "c    12.0\n",
      "d    13.0\n",
      "b    11.0\n",
      "dtype: float64\n"
     ]
    }
   ],
   "source": [
    "print(Seri_ix.get(['c','d','b']))"
   ]
  },
  {
   "cell_type": "code",
   "execution_count": 41,
   "metadata": {},
   "outputs": [
    {
     "name": "stdout",
     "output_type": "stream",
     "text": [
      "a     10.0\n",
      "b     11.0\n",
      "c    100.0\n",
      "d     13.0\n",
      "e     14.0\n",
      "dtype: float64\n"
     ]
    }
   ],
   "source": [
    "Seri_ix['c']=100\n",
    "print(Seri_ix)"
   ]
  },
  {
   "cell_type": "code",
   "execution_count": 42,
   "metadata": {},
   "outputs": [
    {
     "name": "stdout",
     "output_type": "stream",
     "text": [
      "False\n"
     ]
    }
   ],
   "source": [
    "print('x' in Seri_ix)"
   ]
  },
  {
   "cell_type": "markdown",
   "metadata": {},
   "source": [
    "=================================================================="
   ]
  },
  {
   "cell_type": "code",
   "execution_count": 43,
   "metadata": {},
   "outputs": [
    {
     "name": "stdout",
     "output_type": "stream",
     "text": [
      "19   NaN\n",
      "18   NaN\n",
      "17   NaN\n",
      "16   NaN\n",
      "15   NaN\n",
      "1    NaN\n",
      "2    NaN\n",
      "3    NaN\n",
      "4    NaN\n",
      "5    NaN\n",
      "dtype: float64\n"
     ]
    }
   ],
   "source": [
    "Seri=pd.Series(np.nan, index=[19,18,17,16,15,1,2,3,4,5])\n",
    "print(Seri)"
   ]
  },
  {
   "cell_type": "code",
   "execution_count": 44,
   "metadata": {},
   "outputs": [
    {
     "name": "stdout",
     "output_type": "stream",
     "text": [
      "19   NaN\n",
      "18   NaN\n",
      "17   NaN\n",
      "dtype: float64\n"
     ]
    }
   ],
   "source": [
    "print(Seri.iloc[:3])"
   ]
  },
  {
   "cell_type": "code",
   "execution_count": 45,
   "metadata": {},
   "outputs": [
    {
     "name": "stdout",
     "output_type": "stream",
     "text": [
      "19   NaN\n",
      "18   NaN\n",
      "17   NaN\n",
      "16   NaN\n",
      "15   NaN\n",
      "1    NaN\n",
      "2    NaN\n",
      "3    NaN\n",
      "dtype: float64\n"
     ]
    }
   ],
   "source": [
    "print(Seri.loc[:3])"
   ]
  },
  {
   "cell_type": "code",
   "execution_count": 46,
   "metadata": {},
   "outputs": [
    {
     "name": "stdout",
     "output_type": "stream",
     "text": [
      "19   NaN\n",
      "18   NaN\n",
      "17   NaN\n",
      "16   NaN\n",
      "15   NaN\n",
      "1    NaN\n",
      "2    NaN\n",
      "3    NaN\n",
      "dtype: float64\n"
     ]
    },
    {
     "name": "stderr",
     "output_type": "stream",
     "text": [
      "C:\\Users\\403-6\\Anaconda3\\lib\\site-packages\\ipykernel_launcher.py:1: DeprecationWarning: \n",
      ".ix is deprecated. Please use\n",
      ".loc for label based indexing or\n",
      ".iloc for positional indexing\n",
      "\n",
      "See the documentation here:\n",
      "http://pandas.pydata.org/pandas-docs/stable/indexing.html#ix-indexer-is-deprecated\n",
      "  \"\"\"Entry point for launching an IPython kernel.\n"
     ]
    }
   ],
   "source": [
    "print(Seri.ix[:3])"
   ]
  },
  {
   "cell_type": "markdown",
   "metadata": {},
   "source": [
    "=================================================================="
   ]
  },
  {
   "cell_type": "code",
   "execution_count": 47,
   "metadata": {},
   "outputs": [
    {
     "name": "stdout",
     "output_type": "stream",
     "text": [
      "    c1  c2    c3\n",
      "r1   0   4   8.0\n",
      "r2   1   5   9.0\n",
      "r3   2   6  10.0\n",
      "r4   3   7   NaN\n",
      "Index(['r1', 'r2', 'r3', 'r4'], dtype='object')\n",
      "Index(['c1', 'c2', 'c3'], dtype='object')\n"
     ]
    }
   ],
   "source": [
    "df=DataFrame({'c1':[0,1,2,3],\n",
    "              'c2':[4,5,6,7],\n",
    "              'c3':[8,9,10,np.nan]},\n",
    "             index=['r1','r2','r3','r4'])\n",
    "print(df)\n",
    "print(df.index)\n",
    "print(df.columns)"
   ]
  },
  {
   "cell_type": "code",
   "execution_count": 48,
   "metadata": {},
   "outputs": [
    {
     "name": "stdout",
     "output_type": "stream",
     "text": [
      "    c1  c2    c3\n",
      "r1   0   4   8.0\n",
      "r3   2   6  10.0\n"
     ]
    }
   ],
   "source": [
    "df_r1=DataFrame(df,index=['r1','r3'])\n",
    "print(df_r1)"
   ]
  },
  {
   "cell_type": "code",
   "execution_count": 49,
   "metadata": {},
   "outputs": [
    {
     "name": "stdout",
     "output_type": "stream",
     "text": [
      "    c1    c3\n",
      "r1   0   8.0\n",
      "r2   1   9.0\n",
      "r3   2  10.0\n",
      "r4   3   NaN\n"
     ]
    }
   ],
   "source": [
    "df_c1=DataFrame(df,columns=['c1','c3'])\n",
    "print(df_c1)"
   ]
  },
  {
   "cell_type": "code",
   "execution_count": 50,
   "metadata": {},
   "outputs": [
    {
     "name": "stdout",
     "output_type": "stream",
     "text": [
      "      c3  c1\n",
      "r3  10.0   2\n",
      "r1   8.0   0\n"
     ]
    }
   ],
   "source": [
    "df_ex=DataFrame(df,index=['r3','r1'],columns=['c3','c1'])\n",
    "print(df_ex)"
   ]
  },
  {
   "cell_type": "code",
   "execution_count": 51,
   "metadata": {},
   "outputs": [
    {
     "name": "stdout",
     "output_type": "stream",
     "text": [
      "    c1    c3\n",
      "r1   0   8.0\n",
      "r2   1   9.0\n",
      "r3   2  10.0\n",
      "r4   3   NaN\n"
     ]
    }
   ],
   "source": [
    "print(df[['c1','c3']])"
   ]
  },
  {
   "cell_type": "code",
   "execution_count": 52,
   "metadata": {},
   "outputs": [
    {
     "name": "stdout",
     "output_type": "stream",
     "text": [
      "    c1  c2    c3  csum\n",
      "r1   0   4   8.0     4\n",
      "r2   1   5   9.0     6\n",
      "r3   2   6  10.0     8\n",
      "r4   3   7   NaN    10\n"
     ]
    }
   ],
   "source": [
    "df['csum']=df['c1']+df['c2']\n",
    "print(df)"
   ]
  },
  {
   "cell_type": "code",
   "execution_count": 53,
   "metadata": {},
   "outputs": [
    {
     "name": "stdout",
     "output_type": "stream",
     "text": [
      "    c1  c2    c3  csum  cmul\n",
      "r1   0   4   8.0     4     0\n",
      "r2   1   5   9.0     6     5\n",
      "r3   2   6  10.0     8    12\n",
      "r4   3   7   NaN    10    21\n"
     ]
    }
   ],
   "source": [
    "df=df.assign(cmul=df['c1']*df['c2'])\n",
    "print(df)"
   ]
  },
  {
   "cell_type": "code",
   "execution_count": 73,
   "metadata": {},
   "outputs": [
    {
     "name": "stdout",
     "output_type": "stream",
     "text": [
      "    c1  c2    c3  cmul  cmul2\n",
      "r1   0   4   8.0     0      0\n",
      "r2   1   5   9.0     5      5\n",
      "r3   2   6  10.0    12     12\n",
      "r4   3   7   NaN    21     21\n"
     ]
    }
   ],
   "source": [
    "df=df.assign(cmul2=lambda x:x.c1*x.c2)\n",
    "print(df)"
   ]
  },
  {
   "cell_type": "code",
   "execution_count": 74,
   "metadata": {},
   "outputs": [
    {
     "name": "stdout",
     "output_type": "stream",
     "text": [
      "    c1  c2    c3\n",
      "r1   0   4   8.0\n",
      "r2   1   5   9.0\n",
      "r3   2   6  10.0\n",
      "r4   3   7   NaN\n"
     ]
    }
   ],
   "source": [
    "print(df.drop(['cmul','cmul2'],1))"
   ]
  },
  {
   "cell_type": "code",
   "execution_count": 75,
   "metadata": {},
   "outputs": [
    {
     "name": "stdout",
     "output_type": "stream",
     "text": [
      "    c1  c2   c3  cmul  cmul2\n",
      "r2   1   5  9.0     5      5\n",
      "r4   3   7  NaN    21     21\n"
     ]
    }
   ],
   "source": [
    "print(df.drop(['r1','r3']))"
   ]
  },
  {
   "cell_type": "code",
   "execution_count": 78,
   "metadata": {},
   "outputs": [
    {
     "name": "stdout",
     "output_type": "stream",
     "text": [
      "r1    0\n",
      "r2    1\n",
      "r3    2\n",
      "r4    3\n",
      "Name: c1, dtype: int64\n"
     ]
    }
   ],
   "source": [
    "print(df['c1'])"
   ]
  },
  {
   "cell_type": "code",
   "execution_count": 79,
   "metadata": {},
   "outputs": [
    {
     "name": "stdout",
     "output_type": "stream",
     "text": [
      "r1    0\n",
      "r2    1\n",
      "r3    2\n",
      "r4    3\n",
      "Name: c1, dtype: int64\n"
     ]
    }
   ],
   "source": [
    "print(df.c1)"
   ]
  },
  {
   "cell_type": "code",
   "execution_count": 80,
   "metadata": {},
   "outputs": [
    {
     "name": "stdout",
     "output_type": "stream",
     "text": [
      "    c1  c2   c3  cmul  cmul2\n",
      "r1   0   4  8.0     0      0\n",
      "r2   1   5  9.0     5      5\n"
     ]
    }
   ],
   "source": [
    "print(df[0:2])"
   ]
  },
  {
   "cell_type": "code",
   "execution_count": 81,
   "metadata": {},
   "outputs": [
    {
     "name": "stdout",
     "output_type": "stream",
     "text": [
      "r1    0\n",
      "r2    1\n",
      "Name: c1, dtype: int64\n"
     ]
    }
   ],
   "source": [
    "print(df['c1'][0:2])"
   ]
  },
  {
   "cell_type": "code",
   "execution_count": 82,
   "metadata": {},
   "outputs": [
    {
     "name": "stdout",
     "output_type": "stream",
     "text": [
      "c1       0.0\n",
      "c2       4.0\n",
      "c3       8.0\n",
      "cmul     0.0\n",
      "cmul2    0.0\n",
      "Name: r1, dtype: float64\n"
     ]
    }
   ],
   "source": [
    "print(df.loc['r1'])"
   ]
  },
  {
   "cell_type": "code",
   "execution_count": 83,
   "metadata": {},
   "outputs": [
    {
     "name": "stdout",
     "output_type": "stream",
     "text": [
      "    c1  c2   c3  cmul  cmul2\n",
      "r1   0   4  8.0     0      0\n",
      "r2   1   5  9.0     5      5\n"
     ]
    }
   ],
   "source": [
    "print(df.loc[['r1','r2']])"
   ]
  },
  {
   "cell_type": "code",
   "execution_count": 84,
   "metadata": {},
   "outputs": [
    {
     "name": "stdout",
     "output_type": "stream",
     "text": [
      "    c1  c2   c3  cmul  cmul2\n",
      "r1   0   4  8.0     0      0\n",
      "r2   1   5  9.0     5      5\n"
     ]
    }
   ],
   "source": [
    "print(df.iloc[0:2])"
   ]
  },
  {
   "cell_type": "code",
   "execution_count": 85,
   "metadata": {},
   "outputs": [
    {
     "name": "stdout",
     "output_type": "stream",
     "text": [
      "    c1  c2   c3  cmul  cmul2\n",
      "r1   0   4  8.0     0      0\n",
      "r2   1   5  9.0     5      5\n"
     ]
    }
   ],
   "source": [
    "print(df[df['c1']<=1])"
   ]
  },
  {
   "cell_type": "code",
   "execution_count": 86,
   "metadata": {},
   "outputs": [
    {
     "name": "stdout",
     "output_type": "stream",
     "text": [
      "    c1  c2\n",
      "r1   0   4\n",
      "r2   1   5\n",
      "r3   2   6\n",
      "r4   3   7\n"
     ]
    }
   ],
   "source": [
    "s=['c1','c2']\n",
    "print(df[s])"
   ]
  }
 ],
 "metadata": {
  "kernelspec": {
   "display_name": "Python 3",
   "language": "python",
   "name": "python3"
  },
  "language_info": {
   "codemirror_mode": {
    "name": "ipython",
    "version": 3
   },
   "file_extension": ".py",
   "mimetype": "text/x-python",
   "name": "python",
   "nbconvert_exporter": "python",
   "pygments_lexer": "ipython3",
   "version": "3.6.5"
  }
 },
 "nbformat": 4,
 "nbformat_minor": 2
}
