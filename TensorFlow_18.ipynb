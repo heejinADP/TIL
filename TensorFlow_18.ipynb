{
 "cells": [
  {
   "cell_type": "markdown",
   "metadata": {},
   "source": [
    "# Recommender System"
   ]
  },
  {
   "cell_type": "markdown",
   "metadata": {},
   "source": [
    "## collaborative filtering"
   ]
  },
  {
   "cell_type": "markdown",
   "metadata": {},
   "source": [
    "* 사용자 기반 필터링\n",
    "\n",
    "* 아이템 기반 필터링    \n",
    " 사용자 수가 적거나 아이템이 적어서 의미있는 데이터를 추출하기 어려운 경우 사용"
   ]
  },
  {
   "cell_type": "code",
   "execution_count": 110,
   "metadata": {},
   "outputs": [],
   "source": [
    "from math import sqrt\n",
    "import matplotlib as mpl\n",
    "mpl.rcParams['axes.unicode_minus'] = False\n",
    "from matplotlib import font_manager, rc\n",
    "import matplotlib.pyplot as plt\n",
    "font_name = font_manager.FontProperties(fname = 'C:/Windows/fonts/malgun.ttf' ).get_name()\n",
    "rc('font',family=font_name)"
   ]
  },
  {
   "cell_type": "code",
   "execution_count": 111,
   "metadata": {},
   "outputs": [
    {
     "name": "stdout",
     "output_type": "stream",
     "text": [
      "4\n"
     ]
    }
   ],
   "source": [
    "critics = {\n",
    "    'BTS' : {'암수살인' : 5, '바울' : 4, '할로윈' : 1.5},\n",
    "    '손흥민' : {'바울' : 5, '할로윈' : 2},\n",
    "    '조용필' : {'암수살인' : 2.5, '바울' : 2, '할로윈' : 1},\n",
    "    '나훈아' : {'암수살인' : 3.5, '바울' : 4, '할로윈' : 5}     \n",
    "}\n",
    "print(critics.get('BTS').get('바울'))"
   ]
  },
  {
   "cell_type": "code",
   "execution_count": 112,
   "metadata": {},
   "outputs": [
    {
     "name": "stdout",
     "output_type": "stream",
     "text": [
      "3.1622776601683795\n"
     ]
    }
   ],
   "source": [
    "def sim(i, j) :#전달된 두 데이터의 유사도를 리턴하는 함수\n",
    "    return sqrt(pow(i,2)+pow(j,2)) #i : x2 - x1, j: y2-y1이 전달됨\n",
    "\n",
    "# 손흥민과 나훈아 사이의 거리를 구하고 싶다\n",
    "# 피타고라스의 정리 -> 거리가 가까울수록 유사도가 높다\n",
    "\n",
    "var1 = critics['손흥민']['바울']-critics['나훈아']['바울']\n",
    "var2 = critics['손흥민']['할로윈']-critics['나훈아']['할로윈']\n",
    "print(sim(var1, var2))"
   ]
  },
  {
   "cell_type": "markdown",
   "metadata": {},
   "source": [
    "**손흥민을 기준으로 다른 사람과의 유사도 측정**"
   ]
  },
  {
   "cell_type": "code",
   "execution_count": 113,
   "metadata": {},
   "outputs": [
    {
     "name": "stdout",
     "output_type": "stream",
     "text": [
      "BTS - 손흥민의 유사도 :  0.4721359549995794\n",
      "조용필 - 손흥민의 유사도 :  0.2402530733520421\n",
      "나훈아 - 손흥민의 유사도 :  0.2402530733520421\n"
     ]
    }
   ],
   "source": [
    "for i in critics:\n",
    "#     print(i)  i는 key\n",
    "   if i !='손흥민':\n",
    "        var1 = critics['손흥민']['바울']-critics[i]['바울']\n",
    "        var2 = critics['손흥민']['할로윈']-critics[i]['할로윈']\n",
    "        print(i, \"- 손흥민의 유사도 : \", 1/(1+sim(var1, var2))) # 거리가 짧을수록 유사도가 높다"
   ]
  },
  {
   "cell_type": "markdown",
   "metadata": {},
   "source": [
    "두 점 사이의 거리    \n",
    "항목(영화) 데이터가 2종류(두 편)인 경우 : 피타고라스 공식    \n",
    "항목(영화) 데이터가 여러종류(여러편)인 경우 : 유클리디안 거리"
   ]
  },
  {
   "cell_type": "markdown",
   "metadata": {},
   "source": [
    "**유클리디안 거리 기반 두 데이터 사이의 거리**"
   ]
  },
  {
   "cell_type": "code",
   "execution_count": 114,
   "metadata": {},
   "outputs": [
    {
     "name": "stdout",
     "output_type": "stream",
     "text": [
      "0.2402530733520421\n"
     ]
    }
   ],
   "source": [
    "def sim_distance(data, name1, name2):\n",
    "    sum = 0\n",
    "    for i in data[name1] : \n",
    "        if i in data[name2]:\n",
    "            sum += pow(data[name1][i]-data[name2][i], 2)\n",
    "    return 1/(1+sqrt(sum))\n",
    "print(sim_distance(critics, '손흥민', '나훈아'))"
   ]
  },
  {
   "cell_type": "markdown",
   "metadata": {},
   "source": [
    "**손흥민과 나머지 전체 관객과의 평점간 거리: 유클리디안**"
   ]
  },
  {
   "cell_type": "code",
   "execution_count": 115,
   "metadata": {},
   "outputs": [
    {
     "name": "stdout",
     "output_type": "stream",
     "text": [
      "역순:  [(0.4721359549995794, 'BTS')]\n",
      "역순:  [(0.2402530733520421, '조용필'), (0.4721359549995794, 'BTS')]\n",
      "역순:  [(0.2402530733520421, '나훈아'), (0.4721359549995794, 'BTS'), (0.2402530733520421, '조용필')]\n",
      "[(0.2402530733520421, '나훈아'), (0.4721359549995794, 'BTS'), (0.2402530733520421, '조용필')]\n"
     ]
    }
   ],
   "source": [
    "def matchf(data, name, idx = 3, sim = sim_distance):\n",
    "    myList = []\n",
    "    for i in data :\n",
    "        if i != name:  #본인이 아닌 경우라면\n",
    "            myList.append((sim(data, name, i),i)) #유사도, 상대방 이름\n",
    "            myList.reverse()\n",
    "            print(\"역순: \", myList)\n",
    "    return myList[:idx]\n",
    "# 내림차순 정렬(가장 먼저 나오는 사람이 손흥민과 가장 유사)\n",
    "li = matchf(critics, '손흥민')\n",
    "print(li)"
   ]
  },
  {
   "cell_type": "code",
   "execution_count": 119,
   "metadata": {},
   "outputs": [
    {
     "data": {
      "image/png": "[encoded data removed]",
      "text/plain": [
       "<Figure size 432x288 with 1 Axes>"
      ]
     },
     "metadata": {
      "needs_background": "light"
     },
     "output_type": "display_data"
    }
   ],
   "source": [
    "def barchart(data, labels): # 손흥민과의 유사도, 손흥민 제외한 이름\n",
    "    position = range(len(data))\n",
    "    plt.barh(position, data, height=0.5, color = 'r') #y축, x축, 막대 높이\n",
    "    plt.yticks(position, labels)\n",
    "    plt.xlabel('simlarity')\n",
    "    plt.ylabel('name')\n",
    "    plt.show()\n",
    "score = []\n",
    "names = []\n",
    "for i in li :\n",
    "    score.append(i[0])\n",
    "    names.append(i[1])\n",
    "barchart(score, names)\n"
   ]
  },
  {
   "cell_type": "code",
   "execution_count": 118,
   "metadata": {},
   "outputs": [
    {
     "data": {
      "image/png": "[encoded data removed]",
      "text/plain": [
       "<Figure size 1008x288 with 1 Axes>"
      ]
     },
     "metadata": {
      "needs_background": "light"
     },
     "output_type": "display_data"
    }
   ],
   "source": [
    "plt.figure(figsize = (14,4))\n",
    "plt.plot([1,2,3], [1,2,3], 'g^')\n",
    "plt.text(1,1,'자동차')\n",
    "plt.text(2,2,'버스')\n",
    "plt.text(3,3,'열차')\n",
    "plt.axis([0,5,0,5]) #x,y 축에 대한 크기 재설정\n",
    "plt.show()"
   ]
  },
  {
   "cell_type": "markdown",
   "metadata": {},
   "source": [
    "* * * "
   ]
  },
  {
   "cell_type": "markdown",
   "metadata": {},
   "source": [
    "**상관분석**"
   ]
  },
  {
   "cell_type": "markdown",
   "metadata": {},
   "source": [
    "상관분석을 이용하여 유클리디안 거리 공식의 한계점 극복 : 특정인의 점수가 극단적으로 높거나 낮다면 제대로된 결과를 도출해내기가 어렵다    \n",
    "두 변수간의 선형적 관계를 분석함"
   ]
  },
  {
   "cell_type": "code",
   "execution_count": 116,
   "metadata": {},
   "outputs": [],
   "source": [
    "critics = {\n",
    "    '조용필': {'택시운전사': 2.5,'겨울왕국': 3.5,'리빙라스베가스': 3.0,'넘버3': 3.5,'사랑과전쟁': 2.5,'세계대전': 3.0},\n",
    "    'BTS': {'택시운전사': 1.0,'겨울왕국': 4.5,'리빙라스베가스': 0.5,'넘버3': 1.5,'사랑과전쟁': 4.5,'세계대전': 5.0},\n",
    "    '강감찬': {'택시운전사': 3.0,'겨울왕국': 3.5,'리빙라스베가스': 1.5,'넘버3': 5.0,'세계대전': 3.0,'사랑과전쟁': 3.5},\n",
    "    '을지문덕': {'택시운전사': 2.5,'겨울왕국': 3.0,'넘버3': 3.5,'세계대전': 4.0},\n",
    "    '김유신': {'겨울왕국': 3.5,'리빙라스베가스': 3.0,'세계대전': 4.5,'넘버3': 4.0,'사랑과전쟁': 2.5},\n",
    "    '유성룡': {'택시운전사': 3.0,'겨울왕국': 4.0,'리빙라스베가스': 2.0,'넘버3': 3.0,'세계대전': 3.5,'사랑과전쟁': 2.0},\n",
    "    '이황': {'택시운전사': 3.0,'겨울왕국': 4.0,'세계대전': 3.0,'넘버3': 5.0,'사랑과전쟁': 3.5},\n",
    "    '이이': {'겨울왕국': 4.5, '사랑과전쟁': 1.0,'넘버3': 4.0}\n",
    "}"
   ]
  },
  {
   "cell_type": "code",
   "execution_count": 117,
   "metadata": {},
   "outputs": [
    {
     "data": {
      "image/png": "[encoded data removed]",
      "text/plain": [
       "<Figure size 720x720 with 1 Axes>"
      ]
     },
     "metadata": {
      "needs_background": "light"
     },
     "output_type": "display_data"
    },
    {
     "data": {
      "image/png": "[encoded data removed]",
      "text/plain": [
       "<Figure size 720x720 with 1 Axes>"
      ]
     },
     "metadata": {
      "needs_background": "light"
     },
     "output_type": "display_data"
    }
   ],
   "source": [
    "def drawGraph(data, name1, name2):\n",
    "    plt.figure(figsize = (10,10))\n",
    "    #plot하기 위한 좌표를 지정하는 list 정의\n",
    "    li = [] #name1의 평점을 저장\n",
    "    li2 = [] #name2의 평점을 저장\n",
    "    for i in critics[name1]:\n",
    "        if i in data[name2]: #같은 영화에 대한 평점이 있다면\n",
    "            li.append(critics[name1][i]) #name1의 i영화에 대한 평점\n",
    "            li2.append(critics[name2][i])\n",
    "            plt.text(critics[name1][i],critics[name2][i], i)\n",
    "    plt.plot(li, li2, 'ro')\n",
    "    plt.axis([0,6,0,6])\n",
    "    plt.xlabel(name1)\n",
    "    plt.ylabel(name2)\n",
    "    plt.show()\n",
    "    \n",
    "drawGraph(critics, 'BTS', '유성룡')\n",
    "drawGraph(critics, '이황', '조용필')"
   ]
  },
  {
   "cell_type": "markdown",
   "metadata": {},
   "source": [
    "* * *"
   ]
  },
  {
   "cell_type": "markdown",
   "metadata": {},
   "source": [
    "**피어슨 상관계수**"
   ]
  },
  {
   "cell_type": "markdown",
   "metadata": {},
   "source": [
    "x와 y가 함께 변하는 정도(공분산) / (x가 변하는정도 * y가 변하는정도)"
   ]
  },
  {
   "cell_type": "code",
   "execution_count": 121,
   "metadata": {},
   "outputs": [
    {
     "name": "stdout",
     "output_type": "stream",
     "text": [
      "BTS와 유성룡의 피어슨 상관계수:  0.16399999999999987\n",
      "이황고 조용필의 피어슨 상관계수 :  0.4464285714285719\n"
     ]
    }
   ],
   "source": [
    "def sim_pearson(data, name1, name2):\n",
    "    sumX = 0     #x의 합\n",
    "    sumY = 0     #y의 합\n",
    "    sumPowX = 0  #x 제곱의 합\n",
    "    sumPowY = 0  #y 제곱의 합\n",
    "    sumXY = 0    #x*y의 합\n",
    "    count = 0    #영화의 개수(n)\n",
    "    \n",
    "    for i in data[name1]:\n",
    "        if i in data[name2]: #BTS와 유성룡이 모두 본 영화\n",
    "            sumX += data[name1][i] #BTS의 i영화에 대한 평점\n",
    "            sumY += data[name2][i] #유성룡의 i영화에 대한 평점\n",
    "            sumPowX += pow(data[name1][i],2)\n",
    "            sumPowY += pow(data[name2][i],2)\n",
    "            sumXY += data[name1][i]*data[name2][i]\n",
    "            count += 1\n",
    "            \n",
    "    return (sumXY-((sumX*sumY)/count)) / sqrt((sumPowX-(pow(sumX,2)/count))*(sumPowX-(pow(sumX,2)/count)))\n",
    "    \n",
    "print(\"BTS와 유성룡의 피어슨 상관계수: \", sim_pearson(critics,'BTS', '유성룡'))\n",
    "print(\"이황고 조용필의 피어슨 상관계수 : \",sim_pearson(critics, '이황', '조용필'))"
   ]
  },
  {
   "cell_type": "markdown",
   "metadata": {},
   "source": [
    "**딕셔너리를 수행하면서 기준(BTS)과 다른 데이터(사람)와의 상관계수 구하기**   \n",
    "(내림차순 정렬)"
   ]
  },
  {
   "cell_type": "code",
   "execution_count": 131,
   "metadata": {},
   "outputs": [
    {
     "data": {
      "text/plain": [
       "[(0.18, '을지문덕'), (0.16399999999999987, '유성룡'), (0.11999999999999998, '강감찬')]"
      ]
     },
     "execution_count": 131,
     "metadata": {},
     "output_type": "execute_result"
    }
   ],
   "source": [
    "def top_match(data, name, index=2, sim_function = sim_pearson): \n",
    "    #(영화평점딕셔너리, 기준이되는 사람의 이름, 피어슨상관계수에서 가장 가까운 몇명을 선택할 것인가, 피어슨 함수 호출 지정)\n",
    "    li = []\n",
    "    for i in data: # 전체 영화를 돌겠다\n",
    "        if name != i: #자신이(BTS) 아니라면\n",
    "            li.append((sim_function(critics, name, i), i))\n",
    "    li.sort()\n",
    "    li.reverse()\n",
    "    return li[:index]\n",
    "    \n",
    "top_match(critics, 'BTS', 3) #BTS와 성향이 가장 비슷한 3명 추출"
   ]
  },
  {
   "cell_type": "markdown",
   "metadata": {},
   "source": [
    "* * *"
   ]
  },
  {
   "cell_type": "markdown",
   "metadata": {},
   "source": [
    "**영화를 추천하는 시스템 구성, 예상되는 평점 출력**"
   ]
  },
  {
   "cell_type": "markdown",
   "metadata": {},
   "source": [
    "### 추천시스템 구성 순서   \n",
    "* 자신을 제외한 나머지 사람들과의 평점에 대한 유사도를 구함   \n",
    "  BTS와 강감찬의 추측되는 평점 = 유사도 * (다른사람의)영화평점   \n",
    "* 추측되는 평점들의 총합을 구함   \n",
    "* 모든 사람들을 근거로 했을때 예상되는 평점 추측   \n",
    "  추측되는 평점들의 총합/유사도의 총합   \n",
    "* 아직 안본 영화를 대상으로 예상되는 평점을 구하여, 예상되는 평점이 가장 높은 영화를 추천"
   ]
  },
  {
   "cell_type": "code",
   "execution_count": 137,
   "metadata": {},
   "outputs": [
    {
     "name": "stdout",
     "output_type": "stream",
     "text": [
      "이이님에게는  세계대전 영화를 가장 추천합니다.\n"
     ]
    }
   ],
   "source": [
    "def getRecommendatation(data, person, sim_function = sim_pearson):\n",
    "    li = [] #최종적으로 결과를 리턴하는 리스트\n",
    "    score = 0\n",
    "    score_dic = {} #유사도의 총합을 저장하기 위한 딕셔너리\n",
    "    sim_dic = {}  #평점의 총합을 저장하기 위한 딕셔너리 \n",
    "    result = top_match(data, person, len(data))\n",
    "#     print(\"중간 : \",result)\n",
    "    for sim, name in result :  #유사도, 이름\n",
    "        if sim < 0 : continue  # 유사도 0보다 작으면 빼자\n",
    "        for movie in data[name]:\n",
    "            if movie not in data[person]: #이이가 안본 영화\n",
    "                score += sim*data[name][movie]  #score변수에 누적 <= 유사도 * 이이가 아닌 다른 사람의 영화평점\n",
    "                score_dic.setdefault(movie, 0)\n",
    "                score_dic[movie] += score # 평점 총합\n",
    "                \n",
    "                sim_dic.setdefault(movie, 0)\n",
    "                sim_dic[movie] += sim  #유사도의 누적합\n",
    "            score = 0\n",
    "#             print(name,\"movie : \", movie)\n",
    "#         print(\"========================\")\n",
    "    for key in score_dic:\n",
    "        score_dic[key]=score_dic[key]/sim_dic[key]\n",
    "        li.append((score_dic[key], key))\n",
    "    li.sort()\n",
    "    li.reverse()\n",
    "        \n",
    "    return li[0][1]\n",
    "    \n",
    "    \n",
    "print(\"이이님에게는 \", getRecommendatation(critics, '이이'), \"영화를 가장 추천합니다.\") "
   ]
  }
 ],
 "metadata": {
  "kernelspec": {
   "display_name": "Python 3",
   "language": "python",
   "name": "python3"
  },
  "language_info": {
   "codemirror_mode": {
    "name": "ipython",
    "version": 3
   },
   "file_extension": ".py",
   "mimetype": "text/x-python",
   "name": "python",
   "nbconvert_exporter": "python",
   "pygments_lexer": "ipython3",
   "version": "3.6.6"
  }
 },
 "nbformat": 4,
 "nbformat_minor": 2
}
