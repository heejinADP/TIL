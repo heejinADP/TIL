{
 "cells": [
  {
   "cell_type": "markdown",
   "metadata": {},
   "source": [
    "# Functions of DataFrame 3"
   ]
  },
  {
   "cell_type": "markdown",
   "metadata": {},
   "source": [
    "**결측치 제거**"
   ]
  },
  {
   "cell_type": "code",
   "execution_count": 1,
   "metadata": {},
   "outputs": [],
   "source": [
    "import pandas as pd\n",
    "import numpy as np\n",
    "from pandas import DataFrame,Series\n",
    "from datetime import datetime"
   ]
  },
  {
   "cell_type": "code",
   "execution_count": 2,
   "metadata": {},
   "outputs": [
    {
     "name": "stdout",
     "output_type": "stream",
     "text": [
      "         c1        c2        c3        c4\n",
      "0 -0.608990 -0.082553  0.088005  0.671103\n",
      "1  1.011288 -0.618925  0.135560  0.824541\n",
      "2 -0.619586 -0.471067  0.171475  1.212771\n",
      "3  0.317302  1.161943  2.380043  0.384641\n",
      "4  0.522556 -1.752334 -0.402123 -2.502114\n"
     ]
    }
   ],
   "source": [
    "df=DataFrame(np.random.randn(5,4), columns=['c1','c2','c3','c4'])\n",
    "print(df)"
   ]
  },
  {
   "cell_type": "code",
   "execution_count": 3,
   "metadata": {},
   "outputs": [
    {
     "name": "stdout",
     "output_type": "stream",
     "text": [
      "         c1        c2        c3        c4\n",
      "0       NaN -0.082553  0.088005  0.671103\n",
      "1       NaN -0.618925  0.135560  0.824541\n",
      "2 -0.619586       NaN  0.171475  1.212771\n",
      "3  0.317302  1.161943  2.380043  0.384641\n",
      "4  0.522556 -1.752334 -0.402123 -2.502114\n"
     ]
    }
   ],
   "source": [
    "df.loc[2,'c2']=np.nan\n",
    "df.loc[[0,1],'c1']=None\n",
    "print(df)"
   ]
  },
  {
   "cell_type": "code",
   "execution_count": 5,
   "metadata": {},
   "outputs": [
    {
     "name": "stdout",
     "output_type": "stream",
     "text": [
      "         c1        c2        c3        c4\n",
      "3  0.317302  1.161943  2.380043  0.384641\n",
      "4  0.522556 -1.752334 -0.402123 -2.502114\n"
     ]
    }
   ],
   "source": [
    "df_drop_row=df.dropna(axis=0)\n",
    "print(df_drop_row)"
   ]
  },
  {
   "cell_type": "code",
   "execution_count": 8,
   "metadata": {},
   "outputs": [
    {
     "name": "stdout",
     "output_type": "stream",
     "text": [
      "         c3        c4\n",
      "0  0.088005  0.671103\n",
      "1  0.135560  0.824541\n",
      "2  0.171475  1.212771\n",
      "3  2.380043  0.384641\n",
      "4 -0.402123 -2.502114\n"
     ]
    }
   ],
   "source": [
    "df_drop_column=df.dropna(axis=1)\n",
    "print(df_drop_column)"
   ]
  },
  {
   "cell_type": "code",
   "execution_count": 9,
   "metadata": {},
   "outputs": [
    {
     "name": "stdout",
     "output_type": "stream",
     "text": [
      "2   -0.619586\n",
      "3    0.317302\n",
      "4    0.522556\n",
      "Name: c1, dtype: float64\n"
     ]
    }
   ],
   "source": [
    "print(df['c1'].dropna())"
   ]
  },
  {
   "cell_type": "code",
   "execution_count": 10,
   "metadata": {},
   "outputs": [
    {
     "name": "stdout",
     "output_type": "stream",
     "text": [
      "         c3\n",
      "0  0.088005\n",
      "1  0.135560\n",
      "2  0.171475\n",
      "3  2.380043\n",
      "4 -0.402123\n"
     ]
    }
   ],
   "source": [
    "print(df[['c1','c2','c3']].dropna(axis=1))"
   ]
  },
  {
   "cell_type": "code",
   "execution_count": 11,
   "metadata": {},
   "outputs": [
    {
     "name": "stdout",
     "output_type": "stream",
     "text": [
      "         c1        c2        c3\n",
      "4  0.522556 -1.752334 -0.402123\n"
     ]
    }
   ],
   "source": [
    "print(df.loc[[2,4],['c1','c2','c3']].dropna(axis=0))"
   ]
  },
  {
   "cell_type": "markdown",
   "metadata": {},
   "source": [
    "============================================================"
   ]
  },
  {
   "cell_type": "code",
   "execution_count": 12,
   "metadata": {},
   "outputs": [
    {
     "name": "stdout",
     "output_type": "stream",
     "text": [
      "DatetimeIndex(['2018-09-11', '2018-09-13', '2018-09-14', '2018-09-20'], dtype='datetime64[ns]', freq=None)\n"
     ]
    }
   ],
   "source": [
    "datestrs=['9/11/2018','9/13/2018','9/14/2018','9/20/2018']\n",
    "dates=pd.to_datetime(datestrs)\n",
    "print(dates)"
   ]
  },
  {
   "cell_type": "code",
   "execution_count": 13,
   "metadata": {},
   "outputs": [
    {
     "name": "stdout",
     "output_type": "stream",
     "text": [
      "2018-09-11     1.0\n",
      "2018-09-13     NaN\n",
      "2018-09-14     NaN\n",
      "2018-09-20    10.0\n",
      "dtype: float64\n"
     ]
    }
   ],
   "source": [
    "ts=Series([1,np.nan,np.nan,10],index=dates)\n",
    "print(ts)"
   ]
  },
  {
   "cell_type": "code",
   "execution_count": 14,
   "metadata": {},
   "outputs": [
    {
     "name": "stdout",
     "output_type": "stream",
     "text": [
      "2018-09-11     1.0\n",
      "2018-09-13     3.0\n",
      "2018-09-14     4.0\n",
      "2018-09-20    10.0\n",
      "dtype: float64\n"
     ]
    }
   ],
   "source": [
    "ts_intp_linear=ts.interpolate(method='time')\n",
    "print(ts_intp_linear)"
   ]
  },
  {
   "cell_type": "code",
   "execution_count": 15,
   "metadata": {},
   "outputs": [
    {
     "name": "stdout",
     "output_type": "stream",
     "text": [
      "     c1    c2\n",
      "0   1.0   1.0\n",
      "1   4.0   3.0\n",
      "2   7.0   6.5\n",
      "3  10.0  10.0\n"
     ]
    }
   ],
   "source": [
    "df=DataFrame({'c1':[1,np.nan,np.nan,10],\n",
    "              'c2':[1,3,np.nan,10]})\n",
    "df_v=df.interpolate(method='values')\n",
    "print(df_v)"
   ]
  },
  {
   "cell_type": "markdown",
   "metadata": {},
   "source": [
    "============================================================"
   ]
  },
  {
   "cell_type": "code",
   "execution_count": 16,
   "metadata": {},
   "outputs": [
    {
     "name": "stdout",
     "output_type": "stream",
     "text": [
      "0    1.0\n",
      "1    2.0\n",
      "2    3.0\n",
      "3    4.0\n",
      "4    NaN\n",
      "dtype: float64\n"
     ]
    }
   ],
   "source": [
    "ser=Series([1,2,3,4,np.nan])\n",
    "print(ser)"
   ]
  },
  {
   "cell_type": "code",
   "execution_count": 17,
   "metadata": {},
   "outputs": [
    {
     "name": "stdout",
     "output_type": "stream",
     "text": [
      "0     1.0\n",
      "1    20.0\n",
      "2     3.0\n",
      "3     4.0\n",
      "4     NaN\n",
      "dtype: float64\n"
     ]
    }
   ],
   "source": [
    "ser=ser.replace(2,20)\n",
    "print(ser)"
   ]
  },
  {
   "cell_type": "code",
   "execution_count": 18,
   "metadata": {},
   "outputs": [
    {
     "name": "stdout",
     "output_type": "stream",
     "text": [
      "0     1.0\n",
      "1    20.0\n",
      "2     3.0\n",
      "3     4.0\n",
      "4     5.0\n",
      "dtype: float64\n"
     ]
    }
   ],
   "source": [
    "ser=ser.replace(np.nan,5)\n",
    "print(ser)"
   ]
  },
  {
   "cell_type": "code",
   "execution_count": 21,
   "metadata": {},
   "outputs": [
    {
     "name": "stdout",
     "output_type": "stream",
     "text": [
      "0     6.0\n",
      "1     7.0\n",
      "2     8.0\n",
      "3     9.0\n",
      "4    10.0\n",
      "dtype: float64\n"
     ]
    }
   ],
   "source": [
    "ser=Series([1,2,3,4,np.nan])\n",
    "print(ser.replace([1,2,3,4,np.nan],[6,7,8,9,10]))"
   ]
  },
  {
   "cell_type": "code",
   "execution_count": 22,
   "metadata": {},
   "outputs": [
    {
     "name": "stdout",
     "output_type": "stream",
     "text": [
      "0     6.0\n",
      "1     8.0\n",
      "2     9.0\n",
      "3     7.0\n",
      "4    10.0\n",
      "dtype: float64\n"
     ]
    }
   ],
   "source": [
    "print(ser.replace({1:6,2:8,3:9,4:7,np.nan:10}))"
   ]
  },
  {
   "cell_type": "markdown",
   "metadata": {},
   "source": [
    "============================================================"
   ]
  },
  {
   "cell_type": "code",
   "execution_count": 23,
   "metadata": {},
   "outputs": [
    {
     "name": "stdout",
     "output_type": "stream",
     "text": [
      "      c1  c2   c3\n",
      "0  a_old   1  6.0\n",
      "1      b   2  7.0\n",
      "2      c   3  8.0\n",
      "3      d   4  9.0\n",
      "4      e   5  NaN\n"
     ]
    }
   ],
   "source": [
    "df=DataFrame({'c1':['a_old','b','c','d','e'],\n",
    "             'c2':[1,2,3,4,5],\n",
    "             'c3':[6,7,8,9,np.nan]})\n",
    "print(df)"
   ]
  },
  {
   "cell_type": "code",
   "execution_count": 24,
   "metadata": {},
   "outputs": [
    {
     "name": "stdout",
     "output_type": "stream",
     "text": [
      "      c1  c2   c3\n",
      "0  a_new   1  6.0\n",
      "1      b   2  7.0\n",
      "2      c   3  8.0\n",
      "3      d   4  9.0\n",
      "4      e   5  NaN\n"
     ]
    }
   ],
   "source": [
    "print(df.replace({'c1':'a_old'},{'c1':'a_new'}))"
   ]
  },
  {
   "cell_type": "code",
   "execution_count": 25,
   "metadata": {},
   "outputs": [
    {
     "name": "stdout",
     "output_type": "stream",
     "text": [
      "      c1  c2    c3\n",
      "0  a_old   1   6.0\n",
      "1      b   2   7.0\n",
      "2      c   3   8.0\n",
      "3      d   4   9.0\n",
      "4      e   5  10.0\n"
     ]
    }
   ],
   "source": [
    "print(df.replace({'c3':np.nan},{'c3':10}))"
   ]
  },
  {
   "cell_type": "markdown",
   "metadata": {},
   "source": [
    "============================================================"
   ]
  },
  {
   "cell_type": "code",
   "execution_count": 26,
   "metadata": {},
   "outputs": [
    {
     "name": "stdout",
     "output_type": "stream",
     "text": [
      "  key1 key2  col\n",
      "0    a    v    1\n",
      "1    b    w    2\n",
      "2    b    w    3\n",
      "3    c    x    4\n",
      "4    c    y    5\n"
     ]
    }
   ],
   "source": [
    "data={'key1':['a','b','b','c','c'],\n",
    "      'key2':['v','w','w','x','y'],\n",
    "      'col':[1,2,3,4,5]}\n",
    "df=pd.DataFrame(data)\n",
    "print(df)"
   ]
  },
  {
   "cell_type": "code",
   "execution_count": 29,
   "metadata": {},
   "outputs": [
    {
     "name": "stdout",
     "output_type": "stream",
     "text": [
      "0    False\n",
      "1    False\n",
      "2     True\n",
      "3    False\n",
      "4    False\n",
      "dtype: bool\n"
     ]
    }
   ],
   "source": [
    "print(df.duplicated(['key1','key2']))"
   ]
  },
  {
   "cell_type": "code",
   "execution_count": 30,
   "metadata": {},
   "outputs": [
    {
     "name": "stdout",
     "output_type": "stream",
     "text": [
      "  key1 key2  col\n",
      "0    a    v    1\n",
      "1    b    w    2\n",
      "3    c    x    4\n"
     ]
    }
   ],
   "source": [
    "print(df.drop_duplicates(['key1'],keep='first'))"
   ]
  },
  {
   "cell_type": "code",
   "execution_count": 31,
   "metadata": {},
   "outputs": [
    {
     "name": "stdout",
     "output_type": "stream",
     "text": [
      "  key1 key2  col\n",
      "0    a    v    1\n",
      "2    b    w    3\n",
      "4    c    y    5\n"
     ]
    }
   ],
   "source": [
    "print(df.drop_duplicates(['key1'],keep='last'))"
   ]
  },
  {
   "cell_type": "code",
   "execution_count": 32,
   "metadata": {},
   "outputs": [
    {
     "name": "stdout",
     "output_type": "stream",
     "text": [
      "  key1 key2  col\n",
      "0    a    v    1\n"
     ]
    }
   ],
   "source": [
    "print(df.drop_duplicates(['key1'],keep=False))"
   ]
  }
 ],
 "metadata": {
  "kernelspec": {
   "display_name": "Python 3",
   "language": "python",
   "name": "python3"
  },
  "language_info": {
   "codemirror_mode": {
    "name": "ipython",
    "version": 3
   },
   "file_extension": ".py",
   "mimetype": "text/x-python",
   "name": "python",
   "nbconvert_exporter": "python",
   "pygments_lexer": "ipython3",
   "version": "3.6.5"
  }
 },
 "nbformat": 4,
 "nbformat_minor": 2
}
