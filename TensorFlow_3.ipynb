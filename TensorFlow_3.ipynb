{
 "cells": [
  {
   "cell_type": "code",
   "execution_count": 14,
   "metadata": {},
   "outputs": [],
   "source": [
    "import numpy as np\n",
    "import tensorflow as tf\n",
    "import pandas as pd\n",
    "tf.set_random_seed(777)"
   ]
  },
  {
   "cell_type": "code",
   "execution_count": 3,
   "metadata": {},
   "outputs": [
    {
     "name": "stdout",
     "output_type": "stream",
     "text": [
      "[[1. 1.]\n",
      " [2. 2.]\n",
      " [3. 3.]\n",
      " [4. 4.]\n",
      " [5. 5.]]\n",
      "(5, 2)\n",
      "<class 'numpy.ndarray'>\n"
     ]
    }
   ],
   "source": [
    "xy = np.loadtxt('DataSet/xy.txt', skiprows = 1)\n",
    "print(xy)\n",
    "print(xy.shape)\n",
    "print(type(xy))"
   ]
  },
  {
   "cell_type": "code",
   "execution_count": 4,
   "metadata": {},
   "outputs": [
    {
     "name": "stdout",
     "output_type": "stream",
     "text": [
      "[[1. 1. 0. 1.]\n",
      " [1. 0. 2. 2.]\n",
      " [1. 3. 0. 3.]\n",
      " [1. 0. 4. 4.]\n",
      " [1. 5. 0. 5.]]\n"
     ]
    }
   ],
   "source": [
    "xxy = np.loadtxt('DataSet/xxy.csv', delimiter = \",\")\n",
    "print(xxy)"
   ]
  },
  {
   "cell_type": "code",
   "execution_count": 5,
   "metadata": {},
   "outputs": [
    {
     "name": "stdout",
     "output_type": "stream",
     "text": [
      "[[1. 1. 1. 1. 1.]\n",
      " [1. 0. 3. 0. 5.]\n",
      " [0. 2. 0. 4. 0.]\n",
      " [1. 2. 3. 4. 5.]]\n"
     ]
    }
   ],
   "source": [
    "xxy2 = np.loadtxt('DataSet/xxy.csv', delimiter = \",\", unpack=True)\n",
    "print(xxy2)"
   ]
  },
  {
   "cell_type": "code",
   "execution_count": 6,
   "metadata": {},
   "outputs": [
    {
     "name": "stdout",
     "output_type": "stream",
     "text": [
      "(50, 2)\n",
      "[ 4. 10.]\n"
     ]
    }
   ],
   "source": [
    "cars = np.loadtxt('DataSet/cars.csv', delimiter = \",\")\n",
    "print(cars.shape)\n",
    "\n",
    "xx, yy = [], []\n",
    "print(cars[1])"
   ]
  },
  {
   "cell_type": "code",
   "execution_count": 7,
   "metadata": {},
   "outputs": [
    {
     "name": "stdout",
     "output_type": "stream",
     "text": [
      "[4.0, 4.0, 7.0, 7.0, 8.0, 9.0, 10.0, 10.0, 10.0, 11.0, 11.0, 12.0, 12.0, 12.0, 12.0, 13.0, 13.0, 13.0, 13.0, 14.0, 14.0, 14.0, 14.0, 15.0, 15.0, 15.0, 16.0, 16.0, 17.0, 17.0, 17.0, 18.0, 18.0, 18.0, 18.0, 19.0, 19.0, 19.0, 20.0, 20.0, 20.0, 20.0, 20.0, 22.0, 23.0, 24.0, 24.0, 24.0, 24.0, 25.0]\n",
      "==================================================\n",
      "[2.0, 10.0, 4.0, 22.0, 16.0, 10.0, 18.0, 26.0, 34.0, 17.0, 28.0, 14.0, 20.0, 24.0, 28.0, 26.0, 34.0, 34.0, 46.0, 26.0, 36.0, 60.0, 80.0, 20.0, 26.0, 54.0, 32.0, 40.0, 32.0, 40.0, 50.0, 42.0, 56.0, 76.0, 84.0, 36.0, 46.0, 68.0, 32.0, 48.0, 52.0, 56.0, 64.0, 66.0, 54.0, 70.0, 92.0, 93.0, 120.0, 85.0]\n"
     ]
    }
   ],
   "source": [
    "for i in range(len(cars)) :\n",
    "    item = cars[i]\n",
    "    xx.append(item[0])\n",
    "    yy.append(item[1])\n",
    "print(xx)\n",
    "print(\"=\"*50)\n",
    "print(yy)\n",
    "\n",
    "\n",
    "# for row in cars :\n",
    "#     xx.append(row[0])\n",
    "#     yy.append(row[1])\n",
    "# print(xx)\n",
    "# print(\"=\"*50)\n",
    "# print(yy)\n",
    "\n",
    "\n",
    "# for speed, distance in cars :\n",
    "#     xx.append(speed)\n",
    "#     yy.append(distance)\n",
    "# print(xx)\n",
    "# print(\"=\"*50)\n",
    "# print(yy)"
   ]
  },
  {
   "cell_type": "code",
   "execution_count": 8,
   "metadata": {},
   "outputs": [
    {
     "name": "stdout",
     "output_type": "stream",
     "text": [
      "(2, 50)\n",
      "(2, 50)\n"
     ]
    }
   ],
   "source": [
    "cars = np.loadtxt('DataSet/cars.csv', delimiter = \",\", unpack=True)\n",
    "print(cars.shape)\n",
    "x=cars[0] # 스피드\n",
    "y=cars[1] # 제동거리\n",
    "\n",
    "cars = np.loadtxt('DataSet/cars.csv', delimiter = \",\")\n",
    "cars = cars.transpose()\n",
    "print(cars.shape)"
   ]
  },
  {
   "cell_type": "markdown",
   "metadata": {},
   "source": [
    "* * *"
   ]
  },
  {
   "cell_type": "markdown",
   "metadata": {},
   "source": [
    "### 연습문제 - 속도가 30일때와 50일때의 제동거리를 예측하세요."
   ]
  },
  {
   "cell_type": "code",
   "execution_count": 28,
   "metadata": {},
   "outputs": [
    {
     "data": {
      "text/plain": [
       "(50, 2)"
      ]
     },
     "execution_count": 28,
     "metadata": {},
     "output_type": "execute_result"
    }
   ],
   "source": [
    "cars = pd.read_csv(\"DataSet/cars.csv\", sep = \",\")\n",
    "cars.shape"
   ]
  },
  {
   "cell_type": "code",
   "execution_count": 29,
   "metadata": {},
   "outputs": [
    {
     "data": {
      "text/html": [
       "<div>\n",
       "<style scoped>\n",
       "    .dataframe tbody tr th:only-of-type {\n",
       "        vertical-align: middle;\n",
       "    }\n",
       "\n",
       "    .dataframe tbody tr th {\n",
       "        vertical-align: top;\n",
       "    }\n",
       "\n",
       "    .dataframe thead th {\n",
       "        text-align: right;\n",
       "    }\n",
       "</style>\n",
       "<table border=\"1\" class=\"dataframe\">\n",
       "  <thead>\n",
       "    <tr style=\"text-align: right;\">\n",
       "      <th></th>\n",
       "      <th># \"speed\"</th>\n",
       "      <th>dist</th>\n",
       "    </tr>\n",
       "  </thead>\n",
       "  <tbody>\n",
       "    <tr>\n",
       "      <th>0</th>\n",
       "      <td>4</td>\n",
       "      <td>2</td>\n",
       "    </tr>\n",
       "    <tr>\n",
       "      <th>1</th>\n",
       "      <td>4</td>\n",
       "      <td>10</td>\n",
       "    </tr>\n",
       "    <tr>\n",
       "      <th>2</th>\n",
       "      <td>7</td>\n",
       "      <td>4</td>\n",
       "    </tr>\n",
       "    <tr>\n",
       "      <th>3</th>\n",
       "      <td>7</td>\n",
       "      <td>22</td>\n",
       "    </tr>\n",
       "    <tr>\n",
       "      <th>4</th>\n",
       "      <td>8</td>\n",
       "      <td>16</td>\n",
       "    </tr>\n",
       "  </tbody>\n",
       "</table>\n",
       "</div>"
      ],
      "text/plain": [
       "   # \"speed\"  dist\n",
       "0          4     2\n",
       "1          4    10\n",
       "2          7     4\n",
       "3          7    22\n",
       "4          8    16"
      ]
     },
     "execution_count": 29,
     "metadata": {},
     "output_type": "execute_result"
    }
   ],
   "source": [
    "cars.head()"
   ]
  },
  {
   "cell_type": "code",
   "execution_count": 30,
   "metadata": {},
   "outputs": [
    {
     "data": {
      "text/html": [
       "<div>\n",
       "<style scoped>\n",
       "    .dataframe tbody tr th:only-of-type {\n",
       "        vertical-align: middle;\n",
       "    }\n",
       "\n",
       "    .dataframe tbody tr th {\n",
       "        vertical-align: top;\n",
       "    }\n",
       "\n",
       "    .dataframe thead th {\n",
       "        text-align: right;\n",
       "    }\n",
       "</style>\n",
       "<table border=\"1\" class=\"dataframe\">\n",
       "  <thead>\n",
       "    <tr style=\"text-align: right;\">\n",
       "      <th></th>\n",
       "      <th>speed</th>\n",
       "      <th>dist</th>\n",
       "    </tr>\n",
       "  </thead>\n",
       "  <tbody>\n",
       "    <tr>\n",
       "      <th>0</th>\n",
       "      <td>4</td>\n",
       "      <td>2</td>\n",
       "    </tr>\n",
       "    <tr>\n",
       "      <th>1</th>\n",
       "      <td>4</td>\n",
       "      <td>10</td>\n",
       "    </tr>\n",
       "    <tr>\n",
       "      <th>2</th>\n",
       "      <td>7</td>\n",
       "      <td>4</td>\n",
       "    </tr>\n",
       "    <tr>\n",
       "      <th>3</th>\n",
       "      <td>7</td>\n",
       "      <td>22</td>\n",
       "    </tr>\n",
       "    <tr>\n",
       "      <th>4</th>\n",
       "      <td>8</td>\n",
       "      <td>16</td>\n",
       "    </tr>\n",
       "  </tbody>\n",
       "</table>\n",
       "</div>"
      ],
      "text/plain": [
       "   speed  dist\n",
       "0      4     2\n",
       "1      4    10\n",
       "2      7     4\n",
       "3      7    22\n",
       "4      8    16"
      ]
     },
     "execution_count": 30,
     "metadata": {},
     "output_type": "execute_result"
    }
   ],
   "source": [
    "cars.columns = [\"speed\", \"dist\"]\n",
    "cars.head()"
   ]
  },
  {
   "cell_type": "code",
   "execution_count": 32,
   "metadata": {},
   "outputs": [
    {
     "name": "stdout",
     "output_type": "stream",
     "text": [
      "0 563.47107\n",
      "500 244.11746\n",
      "1000 236.24535\n",
      "1500 232.0085\n",
      "2000 229.72816\n",
      "2500 228.50084\n",
      "3000 227.84027\n",
      "3500 227.48474\n",
      "4000 227.29344\n",
      "4500 227.19043\n",
      "5000 227.13504\n",
      "===========모델 완성===========\n",
      "Cost :  227.13504 \n",
      "가중치 :  [3.8864188] \n",
      "편향 :  [-16.78933]\n",
      "===========예측==============\n",
      "속도가 30일때 예상되는 제동거리 :  [99.80324]\n",
      "속도가 50일때 예상되는 제동거리 :  [177.53162]\n"
     ]
    }
   ],
   "source": [
    "learningRate = 0.003\n",
    "times = 5001\n",
    "\n",
    "x_data = cars[\"speed\"]\n",
    "y_data = cars[\"dist\"]\n",
    "\n",
    "x = tf.placeholder(dtype = tf.float32, shape = [None])\n",
    "y = tf.placeholder(dtype = tf.float32, shape = [None])\n",
    "w = tf.Variable(tf.random_normal([1]))\n",
    "b = tf.Variable(tf.random_normal([1]))\n",
    "hf = w * x + b\n",
    "cost = tf.reduce_mean(tf.square(hf - y))\n",
    "train = tf.train.GradientDescentOptimizer(learning_rate=learningRate).minimize(cost)\n",
    "\n",
    "with tf.Session() as sess :\n",
    "    sess.run(tf.global_variables_initializer())\n",
    "    for step in range(times) :\n",
    "        sess.run(train, feed_dict={x: x_data, y:y_data})\n",
    "        if step%500 ==0:\n",
    "            print(step, sess.run(cost, feed_dict={x: x_data, y:y_data}))\n",
    "\n",
    "    print(\"===========모델 완성===========\")\n",
    "    cv, wv, bv = sess.run([cost, w, b], feed_dict={x: x_data, y:y_data})\n",
    "    print(\"Cost : \", cv, \"\\n가중치 : \", wv, \"\\n편향 : \", bv)\n",
    "\n",
    "    print(\"===========예측==============\")\n",
    "    print(\"속도가 30일때 예상되는 제동거리 : \", sess.run(hf, feed_dict={x:[30]}))\n",
    "    print(\"속도가 50일때 예상되는 제동거리 : \", sess.run(hf, feed_dict={x:[50]}))"
   ]
  }
 ],
 "metadata": {
  "kernelspec": {
   "display_name": "Python 3",
   "language": "python",
   "name": "python3"
  },
  "language_info": {
   "codemirror_mode": {
    "name": "ipython",
    "version": 3
   },
   "file_extension": ".py",
   "mimetype": "text/x-python",
   "name": "python",
   "nbconvert_exporter": "python",
   "pygments_lexer": "ipython3",
   "version": "3.6.6"
  }
 },
 "nbformat": 4,
 "nbformat_minor": 2
}
