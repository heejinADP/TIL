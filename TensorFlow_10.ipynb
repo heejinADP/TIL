{
 "cells": [
  {
   "cell_type": "markdown",
   "metadata": {},
   "source": [
    "[묹제]\n",
    "x값이 [[1,11,7,9], [1,3,4,3], [1,1,0,1]] 일때, 분류 결과를 출력하시오.\n",
    "\n",
    "x, y = placeholder\n",
    "\n",
    "클래스 개수 = 3\n",
    "\n",
    "w, b = 변수 (랜덤값 초기화)\n",
    "\n",
    "learning_rate = 0.1\n",
    "\n",
    "트레이닝 횟수 = 2001"
   ]
  },
  {
   "cell_type": "code",
   "execution_count": 23,
   "metadata": {},
   "outputs": [],
   "source": [
    "import numpy as np\n",
    "import tensorflow as tf\n",
    "import math"
   ]
  },
  {
   "cell_type": "code",
   "execution_count": 3,
   "metadata": {},
   "outputs": [],
   "source": [
    "x_data = [[1, 2, 1, 1],\n",
    "          [2, 1, 3, 2],\n",
    "          [3, 1, 3, 4],\n",
    "          [4, 1, 5, 5],\n",
    "          [1, 7, 5, 5],\n",
    "          [1, 2, 5, 6],\n",
    "          [1, 6, 6, 6],\n",
    "          [1, 7, 7, 7]]\n",
    "y_data = [[0, 0, 1],#2\n",
    "          [0, 0, 1],#2\n",
    "          [0, 0, 1],#2\n",
    "          [0, 1, 0],#1\n",
    "          [0, 1, 0],#1\n",
    "          [0, 1, 0],#1\n",
    "          [1, 0, 0],#0\n",
    "          [1, 0, 0]]#0"
   ]
  },
  {
   "cell_type": "code",
   "execution_count": 12,
   "metadata": {},
   "outputs": [
    {
     "name": "stdout",
     "output_type": "stream",
     "text": [
      "0 5.660192\n",
      "200 0.649662\n",
      "400 0.56876093\n",
      "600 0.49894243\n",
      "800 0.43122452\n",
      "1000 0.36356777\n",
      "1200 0.3060515\n",
      "1400 0.28526682\n",
      "1600 0.2682089\n",
      "1800 0.2530587\n",
      "2000 0.23949078\n"
     ]
    }
   ],
   "source": [
    "tf.set_random_seed(777)\n",
    "x = tf.placeholder(tf.float32)\n",
    "y = tf.placeholder(tf.float32)\n",
    "w = tf.Variable(tf.random_normal([4,3]))\n",
    "b = tf.Variable(tf.random_normal([1]))\n",
    "z = tf.matmul(x,w)+b\n",
    "hf = tf.nn.softmax(z)\n",
    "cost = tf.reduce_mean(tf.reduce_sum(y*-tf.log(hf), axis = 1 ))\n",
    "\n",
    "optimizer = tf.train.GradientDescentOptimizer(0.1)\n",
    "train = optimizer.minimize(cost)\n",
    "\n",
    "sess = tf.Session()\n",
    "sess.run(tf.global_variables_initializer())\n",
    "\n",
    "for i in range(2001) :\n",
    "    sess.run(train, feed_dict = {x:x_data, y:y_data})\n",
    "    if i % 200 == 0 :\n",
    "        print(i, sess.run(cost, feed_dict = {x:x_data, y:y_data}))"
   ]
  },
  {
   "cell_type": "code",
   "execution_count": 15,
   "metadata": {},
   "outputs": [
    {
     "name": "stdout",
     "output_type": "stream",
     "text": [
      "\n",
      "yhat\n",
      " [[1.6835734e-03 9.9827087e-01 4.5611680e-05]\n",
      " [9.4374204e-01 5.5795759e-02 4.6220343e-04]\n",
      " [8.9847833e-07 5.8458028e-03 9.9415332e-01]]\n"
     ]
    }
   ],
   "source": [
    "yhat = sess.run(hf, feed_dict = {x:[[1,11,7,9], [1,3,4,3], [1,1,0,1]]})\n",
    "print(\"\\nyhat\\n\",yhat)"
   ]
  },
  {
   "cell_type": "code",
   "execution_count": 18,
   "metadata": {},
   "outputs": [
    {
     "name": "stdout",
     "output_type": "stream",
     "text": [
      "예측값 :  [1 0 2]\n",
      "실제값 :  [2 2 2 1 1 1 0 0]\n"
     ]
    }
   ],
   "source": [
    "yhat2 = sess.run(tf.argmax(yhat, axis = 1))\n",
    "print(\"예측값 : \", yhat2)\n",
    "y2 = sess.run(tf.argmax(y_data, axis = 1))\n",
    "print(\"실제값 : \",y2)"
   ]
  },
  {
   "cell_type": "markdown",
   "metadata": {},
   "source": [
    "* * *"
   ]
  },
  {
   "cell_type": "markdown",
   "metadata": {},
   "source": [
    "# 동물 분류"
   ]
  },
  {
   "cell_type": "code",
   "execution_count": 25,
   "metadata": {},
   "outputs": [
    {
     "name": "stdout",
     "output_type": "stream",
     "text": [
      "(101, 16) (101, 1)\n"
     ]
    }
   ],
   "source": [
    "xy = np.loadtxt('DataSet/zoo.csv', delimiter = ',', dtype = np.float32)\n",
    "xdata = xy[:, 0:-1]\n",
    "ydata = xy[:, [-1]]\n",
    "print(xdata.shape, ydata.shape)\n"
   ]
  },
  {
   "cell_type": "code",
   "execution_count": 37,
   "metadata": {},
   "outputs": [
    {
     "name": "stdout",
     "output_type": "stream",
     "text": [
      "one hot 상태 :  Tensor(\"one_hot_5:0\", shape=(?, 1, 7), dtype=float32)\n",
      "reshape 결과 :  Tensor(\"Reshape_2:0\", shape=(?, 7), dtype=float32)\n"
     ]
    }
   ],
   "source": [
    "nb_classes = 7\n",
    "x = tf.placeholder(tf.float32, [None, 16])\n",
    "y = tf.placeholder(tf.int32, [None, 1]) #y에는 0~6 사이의 임의의 수 저장(원 핫 인코딩 필요)\n",
    "\n",
    "y_one_hot = tf.one_hot(y, nb_classes) # 0 -> 100000, 3 -> 0001000\n",
    "print(\"one hot 상태 : \", y_one_hot)\n",
    "\n",
    "'''\n",
    "원 핫 인코딩을 수행하면 차원이 1 증가(y : (None,1) -> (None,1,7))\n",
    "reshape필요 -> (None, 7)\n",
    "'''\n",
    "\n",
    "y_one_hot = tf.reshape(y_one_hot, [-1, nb_classes])\n",
    "print(\"reshape 결과 : \", y_one_hot)"
   ]
  },
  {
   "cell_type": "code",
   "execution_count": 42,
   "metadata": {},
   "outputs": [
    {
     "name": "stdout",
     "output_type": "stream",
     "text": [
      "0 10.077507 0.02970297\n",
      "200 0.5486735 0.8910891\n",
      "400 0.2960701 0.9009901\n",
      "600 0.18900605 0.980198\n",
      "800 0.13623165 0.990099\n",
      "1000 0.106259316 1.0\n",
      "1200 0.08720473 1.0\n",
      "1400 0.07406866 1.0\n",
      "1600 0.06447227 1.0\n",
      "1800 0.05715497 1.0\n",
      "2000 0.051389027 1.0\n",
      "예측 동물 :  [3]\n"
     ]
    }
   ],
   "source": [
    "w = tf.Variable(tf.random_normal([16,nb_classes]))\n",
    "b = tf.Variable(tf.random_normal([nb_classes]))\n",
    "logits = tf.matmul(x,w) + b\n",
    "hf = tf.nn.softmax(logits)\n",
    "cost_i = tf.nn.softmax_cross_entropy_with_logits_v2(logits=logits, labels=y_one_hot)\n",
    "cost = tf.reduce_mean(cost_i)\n",
    "optimizer = tf.train.GradientDescentOptimizer(0.1).minimize(cost)\n",
    "\n",
    "prediction = tf.argmax(hf, 1) # axis = 1\n",
    "correct_prediction = tf.equal(prediction, tf.argmax(y_one_hot,1))\n",
    "accuracy = tf.reduce_mean(tf.cast(correct_prediction, tf.float32))\n",
    "\n",
    "with tf.Session() as sess :\n",
    "    sess.run(tf.global_variables_initializer())\n",
    "    for step in range(2001):\n",
    "        sess.run(optimizer, feed_dict={x:xdata, y:ydata})\n",
    "        if step%200==0:\n",
    "            cv, av = sess.run([cost, accuracy], feed_dict={x:xdata, y:ydata})\n",
    "            print(step, cv, av)\n",
    "    print(\"예측 동물 : \", sess.run(prediction, feed_dict={x:[[0.,0.,1.,0.,0.,\n",
    "                                            1.,1.,1.,1.,0.,\n",
    "                                            0.,1.,0.,1.,0.,0.]]}))"
   ]
  }
 ],
 "metadata": {
  "kernelspec": {
   "display_name": "Python 3",
   "language": "python",
   "name": "python3"
  },
  "language_info": {
   "codemirror_mode": {
    "name": "ipython",
    "version": 3
   },
   "file_extension": ".py",
   "mimetype": "text/x-python",
   "name": "python",
   "nbconvert_exporter": "python",
   "pygments_lexer": "ipython3",
   "version": "3.6.6"
  }
 },
 "nbformat": 4,
 "nbformat_minor": 2
}
