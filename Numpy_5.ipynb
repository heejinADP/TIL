{
 "cells": [
  {
   "cell_type": "markdown",
   "metadata": {},
   "source": [
    "# Functions of Numpy 5"
   ]
  },
  {
   "cell_type": "code",
   "execution_count": 6,
   "metadata": {},
   "outputs": [],
   "source": [
    "import numpy as np\n",
    "import pandas as pd\n",
    "from pandas import DataFrame, Series\n",
    "import matplotlib.pyplot as plt\n",
    "import random"
   ]
  },
  {
   "cell_type": "code",
   "execution_count": 2,
   "metadata": {},
   "outputs": [
    {
     "name": "stdout",
     "output_type": "stream",
     "text": [
      "[ 3 -2 30]\n"
     ]
    }
   ],
   "source": [
    "num=np.array(['3.14','-2.7','30'],dtype=np.string_)\n",
    "num=num.astype(float).astype(int)\n",
    "print(num)"
   ]
  },
  {
   "cell_type": "code",
   "execution_count": 3,
   "metadata": {},
   "outputs": [
    {
     "name": "stdout",
     "output_type": "stream",
     "text": [
      "[[ 0  1  2  3]\n",
      " [ 4  5  6  7]\n",
      " [ 8  9 10 11]\n",
      " [12 13 14 15]\n",
      " [16 17 18 19]\n",
      " [20 21 22 23]\n",
      " [24 25 26 27]\n",
      " [28 29 30 31]]\n"
     ]
    }
   ],
   "source": [
    "arr=np.arange(32).reshape((8,4))\n",
    "print(arr)"
   ]
  },
  {
   "cell_type": "code",
   "execution_count": 4,
   "metadata": {},
   "outputs": [
    {
     "name": "stdout",
     "output_type": "stream",
     "text": [
      "[ 4 23 29 10]\n"
     ]
    }
   ],
   "source": [
    "print(arr[[1,5,7,2],[0,3,1,2]])"
   ]
  },
  {
   "cell_type": "code",
   "execution_count": 5,
   "metadata": {},
   "outputs": [
    {
     "name": "stdout",
     "output_type": "stream",
     "text": [
      "[[ 4  7  5  6]\n",
      " [20 23 21 22]\n",
      " [28 31 29 30]\n",
      " [ 8 11  9 10]]\n"
     ]
    }
   ],
   "source": [
    "print(arr[[1,5,7,2]][:,[0,3,1,2]])"
   ]
  },
  {
   "cell_type": "code",
   "execution_count": 7,
   "metadata": {},
   "outputs": [],
   "source": [
    "position=0\n",
    "walk=[]\n",
    "steps=1000\n",
    "for i in range(steps):\n",
    "    step = 1 if random.randint(0,1) else -1\n",
    "    position+=step\n",
    "    walk.append(position)"
   ]
  },
  {
   "cell_type": "code",
   "execution_count": 8,
   "metadata": {},
   "outputs": [
    {
     "name": "stdout",
     "output_type": "stream",
     "text": [
      "position :  22\n"
     ]
    }
   ],
   "source": [
    "print(\"position : \",position)"
   ]
  },
  {
   "cell_type": "code",
   "execution_count": 12,
   "metadata": {},
   "outputs": [
    {
     "name": "stdout",
     "output_type": "stream",
     "text": [
      "walk :  [1, 2, 1, 0, -1, 0, 1, 2, 1, 2, 3, 2, 3, 2, 3, 2, 3, 4, 5, 4, 3, 4, 5, 6, 5, 6, 7, 6, 5, 6, 7, 8, 7, 8, 7, 6, 7, 6, 7, 8, 7, 8, 7, 8, 7, 6, 5, 6, 7, 6, 5, 4, 3, 2, 3, 4, 3, 4, 5, 4, 5, 6, 5, 6, 5, 6, 7, 8, 7, 6, 5, 6, 7, 8, 7, 8, 9, 8, 9, 8, 9, 10, 9, 10, 9, 8, 9, 10, 9, 10, 11, 10, 11, 10, 9, 10, 11, 10, 11, 12, 13, 12, 13, 12, 11, 12, 11, 10, 9, 10, 11, 12, 13, 14, 15, 16, 15, 14, 13, 14, 15, 16, 17, 16, 15, 16, 17, 16, 15, 16, 15, 16, 15, 16, 17, 16, 17, 18, 17, 18, 17, 16, 17, 18, 19, 18, 19, 18, 19, 20, 21, 20, 19, 18, 19, 20, 19, 18, 17, 18, 17, 16, 17, 16, 15, 16, 17, 18, 19, 18, 19, 20, 19, 18, 17, 16, 17, 18, 19, 18, 17, 18, 19, 18, 17, 18, 17, 16, 15, 14, 15, 16, 17, 18, 17, 16, 15, 16, 17, 16, 17, 18, 19, 20, 19, 20, 21, 22, 21, 22, 23, 22, 21, 22, 23, 24, 23, 22, 23, 22, 23, 24, 25, 24, 25, 26, 25, 26, 25, 24, 25, 24, 25, 24, 23, 24, 25, 26, 25, 24, 23, 22, 23, 24, 25, 26, 25, 24, 23, 24, 25, 26, 25, 24, 23, 24, 23, 22, 23, 24, 25, 24, 25, 26, 25, 24, 23, 22, 21, 20, 21, 20, 19, 20, 19, 20, 19, 18, 17, 16, 15, 14, 15, 14, 15, 16, 17, 16, 15, 16, 17, 18, 19, 18, 17, 16, 15, 16, 17, 18, 17, 16, 15, 14, 13, 14, 13, 12, 11, 10, 11, 10, 9, 8, 7, 6, 5, 6, 7, 8, 7, 8, 7, 8, 9, 10, 11, 12, 13, 12, 13, 12, 11, 12, 11, 12, 11, 10, 11, 12, 11, 10, 11, 12, 11, 12, 11, 12, 13, 12, 13, 14, 15, 14, 13, 12, 13, 14, 13, 14, 13, 12, 13, 14, 15, 14, 13, 14, 15, 14, 13, 14, 15, 16, 15, 14, 13, 12, 13, 12, 11, 12, 13, 12, 13, 12, 11, 10, 11, 10, 9, 10, 11, 10, 11, 12, 13, 14, 13, 12, 13, 12, 13, 12, 13, 12, 11, 12, 11, 12, 13, 14, 15, 16, 17, 16, 15, 14, 13, 12, 13, 14, 15, 14, 15, 14, 13, 12, 11, 12, 11, 10, 9, 8, 9, 10, 11, 10, 11, 12, 11, 10, 11, 10, 11, 10, 9, 10, 11, 10, 11, 10, 11, 12, 13, 12, 11, 12, 13, 12, 13, 12, 11, 10, 9, 8, 7, 6, 7, 6, 5, 4, 5, 4, 5, 4, 5, 6, 7, 8, 9, 10, 9, 10, 9, 10, 11, 12, 13, 12, 11, 10, 9, 8, 9, 10, 11, 12, 11, 12, 11, 12, 11, 12, 11, 10, 11, 12, 13, 12, 13, 14, 15, 14, 13, 12, 13, 12, 13, 14, 15, 16, 15, 14, 15, 16, 17, 18, 19, 18, 17, 18, 17, 16, 15, 16, 17, 18, 19, 20, 21, 20, 21, 20, 19, 20, 19, 18, 19, 18, 17, 18, 19, 20, 19, 18, 17, 18, 17, 16, 17, 16, 17, 16, 17, 18, 17, 16, 17, 16, 17, 16, 15, 14, 13, 12, 13, 12, 11, 12, 13, 12, 13, 12, 13, 14, 15, 16, 15, 16, 15, 14, 15, 16, 15, 16, 15, 16, 17, 18, 19, 18, 19, 20, 21, 22, 21, 20, 21, 22, 23, 22, 23, 24, 25, 26, 25, 26, 27, 28, 29, 30, 31, 30, 29, 30, 29, 28, 27, 28, 29, 28, 29, 30, 31, 32, 31, 30, 31, 30, 31, 32, 31, 30, 31, 30, 29, 30, 31, 32, 33, 34, 35, 34, 33, 34, 35, 34, 35, 34, 33, 32, 33, 34, 35, 36, 35, 34, 35, 34, 33, 34, 33, 32, 31, 32, 33, 34, 35, 36, 35, 34, 35, 34, 33, 32, 33, 32, 31, 32, 31, 30, 29, 30, 31, 30, 31, 32, 31, 32, 31, 30, 29, 30, 31, 30, 29, 28, 29, 30, 29, 28, 29, 30, 31, 30, 29, 28, 29, 28, 29, 28, 29, 28, 29, 28, 29, 30, 29, 28, 29, 28, 29, 28, 27, 28, 29, 28, 27, 26, 25, 26, 25, 24, 25, 24, 23, 24, 23, 24, 25, 26, 27, 26, 25, 26, 25, 24, 23, 24, 25, 24, 23, 22, 21, 20, 21, 22, 23, 24, 25, 24, 23, 24, 23, 24, 23, 22, 23, 22, 21, 22, 23, 22, 23, 24, 23, 24, 25, 26, 25, 26, 27, 28, 27, 28, 29, 30, 31, 30, 31, 30, 29, 28, 27, 28, 27, 28, 29, 28, 27, 28, 27, 28, 29, 30, 29, 30, 31, 32, 31, 30, 29, 28, 27, 26, 27, 26, 25, 26, 27, 26, 25, 26, 25, 24, 25, 24, 23, 22, 21, 20, 19, 20, 21, 22, 23, 22, 21, 20, 21, 22, 23, 22, 21, 20, 21, 22, 21, 22, 21, 20, 21, 20, 19, 20, 21, 22, 23, 22, 21, 20, 19, 20, 21, 20, 21, 22, 23, 22, 23, 24, 23, 24, 25, 26, 27, 28, 27, 28, 27, 26, 25, 24, 25, 26, 27, 28, 27, 26, 27, 28, 27, 28, 29, 28, 27, 28, 29, 30, 29, 30, 31, 30, 29, 30, 29, 28, 27, 28, 29, 30, 29, 28, 29, 28, 29, 28, 27, 28, 29, 30, 31, 30, 31, 30, 31, 32, 31, 30, 31, 32, 33, 34, 35, 36, 35, 36, 35, 34, 33, 34, 33, 32, 33, 32, 33, 32, 31, 32, 33, 34, 33, 32, 31, 30, 31, 30, 31, 32, 31, 30, 29, 28, 27, 26, 25, 26, 25, 26, 25, 26, 25, 26, 25, 24, 25, 24, 23, 22, 21, 20, 19, 20, 21, 20, 21, 20, 21, 22]\n"
     ]
    }
   ],
   "source": [
    "print(\"walk : \",walk)"
   ]
  },
  {
   "cell_type": "code",
   "execution_count": 10,
   "metadata": {},
   "outputs": [
    {
     "name": "stdout",
     "output_type": "stream",
     "text": [
      "-1\n"
     ]
    }
   ],
   "source": [
    "print(min(walk))"
   ]
  },
  {
   "cell_type": "code",
   "execution_count": 13,
   "metadata": {},
   "outputs": [
    {
     "name": "stdout",
     "output_type": "stream",
     "text": [
      "36\n"
     ]
    }
   ],
   "source": [
    "print(max(walk))"
   ]
  },
  {
   "cell_type": "code",
   "execution_count": 14,
   "metadata": {},
   "outputs": [
    {
     "name": "stdout",
     "output_type": "stream",
     "text": [
      "[ 1  2  1  0  1  0  1  2  1  2  3  2  3  2  3  2  3  4  5  4  3  4  5  6\n",
      "  5  6  7  6  5  6  7  8  7  8  7  6  7  6  7  8  7  8  7  8  7  6  5  6\n",
      "  7  6  5  4  3  2  3  4  3  4  5  4  5  6  5  6  5  6  7  8  7  6  5  6\n",
      "  7  8  7  8  9  8  9  8  9 10  9 10  9  8  9 10  9 10 11 10 11 10  9 10\n",
      " 11 10 11 12 13 12 13 12 11 12 11 10  9 10 11 12 13 14 15 16 15 14 13 14\n",
      " 15 16 17 16 15 16 17 16 15 16 15 16 15 16 17 16 17 18 17 18 17 16 17 18\n",
      " 19 18 19 18 19 20 21 20 19 18 19 20 19 18 17 18 17 16 17 16 15 16 17 18\n",
      " 19 18 19 20 19 18 17 16 17 18 19 18 17 18 19 18 17 18 17 16 15 14 15 16\n",
      " 17 18 17 16 15 16 17 16 17 18 19 20 19 20 21 22 21 22 23 22 21 22 23 24\n",
      " 23 22 23 22 23 24 25 24 25 26 25 26 25 24 25 24 25 24 23 24 25 26 25 24\n",
      " 23 22 23 24 25 26 25 24 23 24 25 26 25 24 23 24 23 22 23 24 25 24 25 26\n",
      " 25 24 23 22 21 20 21 20 19 20 19 20 19 18 17 16 15 14 15 14 15 16 17 16\n",
      " 15 16 17 18 19 18 17 16 15 16 17 18 17 16 15 14 13 14 13 12 11 10 11 10\n",
      "  9  8  7  6  5  6  7  8  7  8  7  8  9 10 11 12 13 12 13 12 11 12 11 12\n",
      " 11 10 11 12 11 10 11 12 11 12 11 12 13 12 13 14 15 14 13 12 13 14 13 14\n",
      " 13 12 13 14 15 14 13 14 15 14 13 14 15 16 15 14 13 12 13 12 11 12 13 12\n",
      " 13 12 11 10 11 10  9 10 11 10 11 12 13 14 13 12 13 12 13 12 13 12 11 12\n",
      " 11 12 13 14 15 16 17 16 15 14 13 12 13 14 15 14 15 14 13 12 11 12 11 10\n",
      "  9  8  9 10 11 10 11 12 11 10 11 10 11 10  9 10 11 10 11 10 11 12 13 12\n",
      " 11 12 13 12 13 12 11 10  9  8  7  6  7  6  5  4  5  4  5  4  5  6  7  8\n",
      "  9 10  9 10  9 10 11 12 13 12 11 10  9  8  9 10 11 12 11 12 11 12 11 12\n",
      " 11 10 11 12 13 12 13 14 15 14 13 12 13 12 13 14 15 16 15 14 15 16 17 18\n",
      " 19 18 17 18 17 16 15 16 17 18 19 20 21 20 21 20 19 20 19 18 19 18 17 18\n",
      " 19 20 19 18 17 18 17 16 17 16 17 16 17 18 17 16 17 16 17 16 15 14 13 12\n",
      " 13 12 11 12 13 12 13 12 13 14 15 16 15 16 15 14 15 16 15 16 15 16 17 18\n",
      " 19 18 19 20 21 22 21 20 21 22 23 22 23 24 25 26 25 26 27 28 29 30 31 30\n",
      " 29 30 29 28 27 28 29 28 29 30 31 32 31 30 31 30 31 32 31 30 31 30 29 30\n",
      " 31 32 33 34 35 34 33 34 35 34 35 34 33 32 33 34 35 36 35 34 35 34 33 34\n",
      " 33 32 31 32 33 34 35 36 35 34 35 34 33 32 33 32 31 32 31 30 29 30 31 30\n",
      " 31 32 31 32 31 30 29 30 31 30 29 28 29 30 29 28 29 30 31 30 29 28 29 28\n",
      " 29 28 29 28 29 28 29 30 29 28 29 28 29 28 27 28 29 28 27 26 25 26 25 24\n",
      " 25 24 23 24 23 24 25 26 27 26 25 26 25 24 23 24 25 24 23 22 21 20 21 22\n",
      " 23 24 25 24 23 24 23 24 23 22 23 22 21 22 23 22 23 24 23 24 25 26 25 26\n",
      " 27 28 27 28 29 30 31 30 31 30 29 28 27 28 27 28 29 28 27 28 27 28 29 30\n",
      " 29 30 31 32 31 30 29 28 27 26 27 26 25 26 27 26 25 26 25 24 25 24 23 22\n",
      " 21 20 19 20 21 22 23 22 21 20 21 22 23 22 21 20 21 22 21 22 21 20 21 20\n",
      " 19 20 21 22 23 22 21 20 19 20 21 20 21 22 23 22 23 24 23 24 25 26 27 28\n",
      " 27 28 27 26 25 24 25 26 27 28 27 26 27 28 27 28 29 28 27 28 29 30 29 30\n",
      " 31 30 29 30 29 28 27 28 29 30 29 28 29 28 29 28 27 28 29 30 31 30 31 30\n",
      " 31 32 31 30 31 32 33 34 35 36 35 36 35 34 33 34 33 32 33 32 33 32 31 32\n",
      " 33 34 33 32 31 30 31 30 31 32 31 30 29 28 27 26 25 26 25 26 25 26 25 26\n",
      " 25 24 25 24 23 22 21 20 19 20 21 20 21 20 21 22]\n"
     ]
    }
   ],
   "source": [
    "print(np.abs(walk))"
   ]
  },
  {
   "cell_type": "markdown",
   "metadata": {},
   "source": [
    "====================================================================================="
   ]
  },
  {
   "cell_type": "code",
   "execution_count": 15,
   "metadata": {},
   "outputs": [
    {
     "name": "stdout",
     "output_type": "stream",
     "text": [
      "0    1\n",
      "1    2\n",
      "2   -3\n",
      "3    4\n",
      "dtype: int64\n"
     ]
    }
   ],
   "source": [
    "obj=Series([1,2,-3,4])\n",
    "print(obj)"
   ]
  },
  {
   "cell_type": "code",
   "execution_count": 16,
   "metadata": {},
   "outputs": [
    {
     "name": "stdout",
     "output_type": "stream",
     "text": [
      "[ 1  2 -3  4]\n"
     ]
    }
   ],
   "source": [
    "print(obj.values)"
   ]
  },
  {
   "cell_type": "code",
   "execution_count": 17,
   "metadata": {},
   "outputs": [
    {
     "name": "stdout",
     "output_type": "stream",
     "text": [
      "RangeIndex(start=0, stop=4, step=1)\n"
     ]
    }
   ],
   "source": [
    "print(obj.index)"
   ]
  },
  {
   "cell_type": "code",
   "execution_count": 18,
   "metadata": {},
   "outputs": [
    {
     "name": "stdout",
     "output_type": "stream",
     "text": [
      "x    1\n",
      "y    2\n",
      "z   -3\n",
      "k    4\n",
      "dtype: int64\n"
     ]
    }
   ],
   "source": [
    "obj=Series([1,2,-3,4], index=['x','y','z','k'])\n",
    "print(obj)"
   ]
  },
  {
   "cell_type": "code",
   "execution_count": 19,
   "metadata": {},
   "outputs": [
    {
     "name": "stdout",
     "output_type": "stream",
     "text": [
      "2\n"
     ]
    }
   ],
   "source": [
    "print(obj['y'])"
   ]
  },
  {
   "cell_type": "code",
   "execution_count": 20,
   "metadata": {},
   "outputs": [
    {
     "name": "stdout",
     "output_type": "stream",
     "text": [
      "x    10\n",
      "y     2\n",
      "z    -3\n",
      "k     4\n",
      "dtype: int64\n"
     ]
    }
   ],
   "source": [
    "obj['x']=10\n",
    "print(obj)"
   ]
  },
  {
   "cell_type": "code",
   "execution_count": 21,
   "metadata": {},
   "outputs": [
    {
     "name": "stdout",
     "output_type": "stream",
     "text": [
      "x    10\n",
      "y     2\n",
      "z    -3\n",
      "dtype: int64\n"
     ]
    }
   ],
   "source": [
    "print(obj[['x','y','z']])"
   ]
  },
  {
   "cell_type": "code",
   "execution_count": 22,
   "metadata": {},
   "outputs": [
    {
     "name": "stdout",
     "output_type": "stream",
     "text": [
      "x     True\n",
      "y     True\n",
      "z    False\n",
      "k     True\n",
      "dtype: bool\n"
     ]
    }
   ],
   "source": [
    "print(obj>0)"
   ]
  },
  {
   "cell_type": "code",
   "execution_count": 23,
   "metadata": {},
   "outputs": [
    {
     "name": "stdout",
     "output_type": "stream",
     "text": [
      "x    10\n",
      "y     2\n",
      "k     4\n",
      "dtype: int64\n"
     ]
    }
   ],
   "source": [
    "print(obj[obj>0])"
   ]
  },
  {
   "cell_type": "code",
   "execution_count": 24,
   "metadata": {},
   "outputs": [
    {
     "name": "stdout",
     "output_type": "stream",
     "text": [
      "x    20\n",
      "y     4\n",
      "z    -6\n",
      "k     8\n",
      "dtype: int64\n"
     ]
    }
   ],
   "source": [
    "print(obj*2)"
   ]
  },
  {
   "cell_type": "code",
   "execution_count": 25,
   "metadata": {},
   "outputs": [
    {
     "name": "stdout",
     "output_type": "stream",
     "text": [
      "x    22026.465795\n",
      "y        7.389056\n",
      "z        0.049787\n",
      "k       54.598150\n",
      "dtype: float64\n"
     ]
    }
   ],
   "source": [
    "print(np.exp(obj))"
   ]
  },
  {
   "cell_type": "code",
   "execution_count": 26,
   "metadata": {},
   "outputs": [
    {
     "name": "stdout",
     "output_type": "stream",
     "text": [
      "x    10\n",
      "y     2\n",
      "z    -3\n",
      "k     4\n",
      "dtype: int64\n"
     ]
    }
   ],
   "source": [
    "print(obj)"
   ]
  },
  {
   "cell_type": "code",
   "execution_count": 27,
   "metadata": {},
   "outputs": [
    {
     "name": "stdout",
     "output_type": "stream",
     "text": [
      "False\n"
     ]
    }
   ],
   "source": [
    "print('a' in obj)"
   ]
  },
  {
   "cell_type": "code",
   "execution_count": 28,
   "metadata": {},
   "outputs": [
    {
     "name": "stdout",
     "output_type": "stream",
     "text": [
      "True\n"
     ]
    }
   ],
   "source": [
    "print('x' in obj)"
   ]
  },
  {
   "cell_type": "markdown",
   "metadata": {},
   "source": [
    "=================================================================================="
   ]
  },
  {
   "cell_type": "code",
   "execution_count": 31,
   "metadata": {},
   "outputs": [
    {
     "name": "stdout",
     "output_type": "stream",
     "text": [
      "Ohio      35000\n",
      "Texas     71000\n",
      "Oregon    16000\n",
      "Utah       5000\n",
      "dtype: int64\n"
     ]
    }
   ],
   "source": [
    "sdata={'Ohio': 35000, 'Texas': 71000, 'Oregon': 16000, 'Utah': 5000}\n",
    "obj3=Series(sdata)\n",
    "print(obj3)"
   ]
  },
  {
   "cell_type": "code",
   "execution_count": 32,
   "metadata": {},
   "outputs": [
    {
     "name": "stdout",
     "output_type": "stream",
     "text": [
      "<class 'pandas.core.series.Series'>\n"
     ]
    }
   ],
   "source": [
    "print(type(obj3))"
   ]
  },
  {
   "cell_type": "code",
   "execution_count": 33,
   "metadata": {},
   "outputs": [
    {
     "name": "stdout",
     "output_type": "stream",
     "text": [
      "0    California\n",
      "1          Ohio\n",
      "2        Oregon\n",
      "3         Texas\n",
      "dtype: object\n"
     ]
    }
   ],
   "source": [
    "states = ['California','Ohio','Oregon','Texas']\n",
    "obj99=Series(states)\n",
    "print(obj99)"
   ]
  },
  {
   "cell_type": "code",
   "execution_count": 34,
   "metadata": {},
   "outputs": [
    {
     "name": "stdout",
     "output_type": "stream",
     "text": [
      "California        NaN\n",
      "Ohio          35000.0\n",
      "Oregon        16000.0\n",
      "Texas         71000.0\n",
      "dtype: float64\n"
     ]
    }
   ],
   "source": [
    "obj4=Series(sdata, index=states)\n",
    "print(obj4)"
   ]
  },
  {
   "cell_type": "code",
   "execution_count": 35,
   "metadata": {},
   "outputs": [
    {
     "name": "stdout",
     "output_type": "stream",
     "text": [
      "California     True\n",
      "Ohio          False\n",
      "Oregon        False\n",
      "Texas         False\n",
      "dtype: bool\n"
     ]
    }
   ],
   "source": [
    "print(pd.isnull(obj4))"
   ]
  },
  {
   "cell_type": "code",
   "execution_count": 36,
   "metadata": {},
   "outputs": [
    {
     "name": "stdout",
     "output_type": "stream",
     "text": [
      "California         NaN\n",
      "Ohio           70000.0\n",
      "Oregon         32000.0\n",
      "Texas         142000.0\n",
      "Utah               NaN\n",
      "dtype: float64\n"
     ]
    }
   ],
   "source": [
    "print(obj3+obj4)"
   ]
  },
  {
   "cell_type": "code",
   "execution_count": 37,
   "metadata": {},
   "outputs": [
    {
     "name": "stdout",
     "output_type": "stream",
     "text": [
      "California        NaN\n",
      "Ohio          35000.0\n",
      "Oregon        16000.0\n",
      "Texas         71000.0\n",
      "Name: population, dtype: float64\n"
     ]
    }
   ],
   "source": [
    "obj4.name='population'\n",
    "obj.index.name='stae'\n",
    "print(obj4)"
   ]
  },
  {
   "cell_type": "code",
   "execution_count": 39,
   "metadata": {},
   "outputs": [
    {
     "name": "stdout",
     "output_type": "stream",
     "text": [
      "w        NaN\n",
      "x    35000.0\n",
      "y    16000.0\n",
      "z    71000.0\n",
      "Name: population, dtype: float64\n"
     ]
    }
   ],
   "source": [
    "obj4.index=['w','x','y','z']\n",
    "print(obj4)"
   ]
  },
  {
   "cell_type": "markdown",
   "metadata": {},
   "source": [
    "=================================================================================="
   ]
  },
  {
   "cell_type": "code",
   "execution_count": 40,
   "metadata": {},
   "outputs": [
    {
     "name": "stdout",
     "output_type": "stream",
     "text": [
      "    state  year  pop\n",
      "0    Ohio  2000  1.5\n",
      "1    Ohio  2001  1.7\n",
      "2    Ohio  2002  3.6\n",
      "3    Ohio  2001  2.4\n",
      "4  Nevead  2002  2.9\n"
     ]
    }
   ],
   "source": [
    "data={\n",
    "    'state':['Ohio', 'Ohio', 'Ohio', 'Ohio', 'Nevead'],\n",
    "    'year':[2000, 2001, 2002, 2001, 2002],\n",
    "    'pop':[1.5, 1.7, 3.6, 2.4, 2.9]}\n",
    "frame = DataFrame(data)\n",
    "print(frame)"
   ]
  },
  {
   "cell_type": "code",
   "execution_count": 41,
   "metadata": {},
   "outputs": [
    {
     "name": "stdout",
     "output_type": "stream",
     "text": [
      "   year   state  pop\n",
      "0  2000    Ohio  1.5\n",
      "1  2001    Ohio  1.7\n",
      "2  2002    Ohio  3.6\n",
      "3  2001    Ohio  2.4\n",
      "4  2002  Nevead  2.9\n"
     ]
    }
   ],
   "source": [
    "frame=DataFrame(data, columns=['year', 'state', 'pop'])\n",
    "print(frame)"
   ]
  },
  {
   "cell_type": "code",
   "execution_count": 42,
   "metadata": {},
   "outputs": [
    {
     "name": "stdout",
     "output_type": "stream",
     "text": [
      "       year   state  pop debt\n",
      "one    2000    Ohio  1.5  NaN\n",
      "two    2001    Ohio  1.7  NaN\n",
      "three  2002    Ohio  3.6  NaN\n",
      "four   2001    Ohio  2.4  NaN\n",
      "five   2002  Nevead  2.9  NaN\n"
     ]
    }
   ],
   "source": [
    "frame2=DataFrame(data, \n",
    "    columns=['year', 'state', 'pop', 'debt'], index=['one', 'two', 'three', 'four', 'five'])\n",
    "print(frame2)"
   ]
  },
  {
   "cell_type": "code",
   "execution_count": 43,
   "metadata": {},
   "outputs": [
    {
     "name": "stdout",
     "output_type": "stream",
     "text": [
      "one        Ohio\n",
      "two        Ohio\n",
      "three      Ohio\n",
      "four       Ohio\n",
      "five     Nevead\n",
      "Name: state, dtype: object\n"
     ]
    }
   ],
   "source": [
    "print(frame2['state'])"
   ]
  },
  {
   "cell_type": "code",
   "execution_count": 44,
   "metadata": {},
   "outputs": [
    {
     "name": "stdout",
     "output_type": "stream",
     "text": [
      "one      2000\n",
      "two      2001\n",
      "three    2002\n",
      "four     2001\n",
      "five     2002\n",
      "Name: year, dtype: int64\n"
     ]
    }
   ],
   "source": [
    "print(frame2['year'])"
   ]
  },
  {
   "cell_type": "code",
   "execution_count": 49,
   "metadata": {},
   "outputs": [
    {
     "name": "stdout",
     "output_type": "stream",
     "text": [
      "year     2002\n",
      "state    Ohio\n",
      "pop       3.6\n",
      "debt      NaN\n",
      "Name: three, dtype: object\n"
     ]
    }
   ],
   "source": [
    "print(frame2.loc['three'])"
   ]
  },
  {
   "cell_type": "code",
   "execution_count": 51,
   "metadata": {},
   "outputs": [
    {
     "name": "stdout",
     "output_type": "stream",
     "text": [
      "       year   state  pop debt\n",
      "three  2002    Ohio  3.6  NaN\n",
      "five   2002  Nevead  2.9  NaN\n"
     ]
    }
   ],
   "source": [
    "print(frame2.loc[['three', 'five']])"
   ]
  },
  {
   "cell_type": "code",
   "execution_count": 52,
   "metadata": {},
   "outputs": [
    {
     "name": "stdout",
     "output_type": "stream",
     "text": [
      "       year   state  pop  debt\n",
      "one    2000    Ohio  1.5  16.5\n",
      "two    2001    Ohio  1.7  16.5\n",
      "three  2002    Ohio  3.6  16.5\n",
      "four   2001    Ohio  2.4  16.5\n",
      "five   2002  Nevead  2.9  16.5\n"
     ]
    }
   ],
   "source": [
    "frame2['debt']=16.5\n",
    "print(frame2)"
   ]
  },
  {
   "cell_type": "code",
   "execution_count": 53,
   "metadata": {},
   "outputs": [
    {
     "name": "stdout",
     "output_type": "stream",
     "text": [
      "       year   state  pop  debt\n",
      "one    2000    Ohio  1.5     0\n",
      "two    2001    Ohio  1.7     1\n",
      "three  2002    Ohio  3.6     2\n",
      "four   2001    Ohio  2.4     3\n",
      "five   2002  Nevead  2.9     4\n"
     ]
    }
   ],
   "source": [
    "frame2['debt']=np.arange(5)\n",
    "print(frame2)"
   ]
  },
  {
   "cell_type": "code",
   "execution_count": 54,
   "metadata": {},
   "outputs": [
    {
     "name": "stdout",
     "output_type": "stream",
     "text": [
      "       year   state  pop  debt\n",
      "one    2000    Ohio  1.5   NaN\n",
      "two    2001    Ohio  1.7  -1.2\n",
      "three  2002    Ohio  3.6   NaN\n",
      "four   2001    Ohio  2.4  -1.5\n",
      "five   2002  Nevead  2.9  -1.7\n"
     ]
    }
   ],
   "source": [
    "val=Series([-1.2, -1.5, -1.7],\n",
    "           index=['two', 'four', 'five'])\n",
    "frame2['debt']=val\n",
    "print(frame2)"
   ]
  },
  {
   "cell_type": "code",
   "execution_count": 55,
   "metadata": {},
   "outputs": [
    {
     "name": "stdout",
     "output_type": "stream",
     "text": [
      "       year   state  pop  debt  eastern\n",
      "one    2000    Ohio  1.5   NaN     True\n",
      "two    2001    Ohio  1.7  -1.2     True\n",
      "three  2002    Ohio  3.6   NaN     True\n",
      "four   2001    Ohio  2.4  -1.5     True\n",
      "five   2002  Nevead  2.9  -1.7    False\n"
     ]
    }
   ],
   "source": [
    "frame2['eastern']=frame2.state=='Ohio'\n",
    "print(frame2)"
   ]
  },
  {
   "cell_type": "code",
   "execution_count": 56,
   "metadata": {},
   "outputs": [
    {
     "name": "stdout",
     "output_type": "stream",
     "text": [
      "       year   state  pop  debt\n",
      "one    2000    Ohio  1.5   NaN\n",
      "two    2001    Ohio  1.7  -1.2\n",
      "three  2002    Ohio  3.6   NaN\n",
      "four   2001    Ohio  2.4  -1.5\n",
      "five   2002  Nevead  2.9  -1.7\n"
     ]
    }
   ],
   "source": [
    "del frame2['eastern']\n",
    "print(frame2)"
   ]
  },
  {
   "cell_type": "code",
   "execution_count": 57,
   "metadata": {},
   "outputs": [
    {
     "name": "stdout",
     "output_type": "stream",
     "text": [
      "Index(['year', 'state', 'pop', 'debt'], dtype='object')\n"
     ]
    }
   ],
   "source": [
    "print(frame2.columns)"
   ]
  },
  {
   "cell_type": "code",
   "execution_count": 58,
   "metadata": {},
   "outputs": [
    {
     "name": "stdout",
     "output_type": "stream",
     "text": [
      "Index(['one', 'two', 'three', 'four', 'five'], dtype='object')\n"
     ]
    }
   ],
   "source": [
    "print(frame2.index)"
   ]
  },
  {
   "cell_type": "code",
   "execution_count": 59,
   "metadata": {},
   "outputs": [
    {
     "name": "stdout",
     "output_type": "stream",
     "text": [
      "      Nevada  Ohio\n",
      "2000     NaN   1.5\n",
      "2001     2.4   2.7\n",
      "2002     2.9   3.6\n"
     ]
    }
   ],
   "source": [
    "pop={'Nevada':{2001:2.4, 2002:2.9},\n",
    "     'Ohio': {2000:1.5, 2001:2.7, 2002: 3.6}}\n",
    "frame3=DataFrame(pop)\n",
    "print(frame3)"
   ]
  },
  {
   "cell_type": "code",
   "execution_count": 60,
   "metadata": {},
   "outputs": [
    {
     "name": "stdout",
     "output_type": "stream",
     "text": [
      "        2000  2001  2002\n",
      "Nevada   NaN   2.4   2.9\n",
      "Ohio     1.5   2.7   3.6\n"
     ]
    }
   ],
   "source": [
    "print(frame3.T)"
   ]
  },
  {
   "cell_type": "code",
   "execution_count": 61,
   "metadata": {},
   "outputs": [
    {
     "name": "stdout",
     "output_type": "stream",
     "text": [
      "      Nevada  Ohio\n",
      "2001     NaN   NaN\n",
      "2002     NaN   NaN\n",
      "2003     NaN   NaN\n"
     ]
    }
   ],
   "source": [
    "frame4=DataFrame(frame3, index=['2001', '2002', '2003'])\n",
    "print(frame4)"
   ]
  },
  {
   "cell_type": "code",
   "execution_count": 62,
   "metadata": {},
   "outputs": [
    {
     "name": "stdout",
     "output_type": "stream",
     "text": [
      "      Ohio  Nevada\n",
      "2000   1.5     NaN\n",
      "2001   2.7     2.4\n"
     ]
    }
   ],
   "source": [
    "pdata={'Ohio':frame3['Ohio'][:-1],\n",
    "       'Nevada': frame3['Nevada'][:2]}\n",
    "frame5=DataFrame(pdata)\n",
    "print(frame5)"
   ]
  }
 ],
 "metadata": {
  "kernelspec": {
   "display_name": "Python 3",
   "language": "python",
   "name": "python3"
  },
  "language_info": {
   "codemirror_mode": {
    "name": "ipython",
    "version": 3
   },
   "file_extension": ".py",
   "mimetype": "text/x-python",
   "name": "python",
   "nbconvert_exporter": "python",
   "pygments_lexer": "ipython3",
   "version": "3.6.5"
  }
 },
 "nbformat": 4,
 "nbformat_minor": 2
}
