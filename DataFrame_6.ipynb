{
 "cells": [
  {
   "cell_type": "code",
   "execution_count": 1,
   "metadata": {},
   "outputs": [],
   "source": [
    "import pandas as pd\n",
    "from pandas import DataFrame, Series\n",
    "import numpy as np\n",
    "import json"
   ]
  },
  {
   "cell_type": "code",
   "execution_count": 2,
   "metadata": {},
   "outputs": [],
   "source": [
    "abalone=pd.read_csv(\"abalone.txt\", sep=\",\", names=['Sex','Length','Diam','Height',\n",
    "                    'Whole_Weight','Shucked_Weight','Viscera_Weight','Shell_Weight','Rings'],\n",
    "                   header=None)"
   ]
  },
  {
   "cell_type": "code",
   "execution_count": 4,
   "metadata": {},
   "outputs": [
    {
     "name": "stdout",
     "output_type": "stream",
     "text": [
      "  Sex  Length   Diam  Height  Whole_Weight  Shucked_Weight  Viscera_Weight  \\\n",
      "0   M   0.455  0.365   0.095        0.5140          0.2245          0.1010   \n",
      "1   M   0.350  0.265   0.090        0.2255          0.0995          0.0485   \n",
      "2   F   0.530  0.420   0.135        0.6770          0.2565          0.1415   \n",
      "3   M   0.440  0.365   0.125        0.5160          0.2155          0.1140   \n",
      "4   I   0.330  0.255   0.080        0.2050          0.0895          0.0395   \n",
      "\n",
      "   Shell_Weight  Rings  \n",
      "0         0.150     15  \n",
      "1         0.070      7  \n",
      "2         0.210      9  \n",
      "3         0.155     10  \n",
      "4         0.055      7  \n"
     ]
    }
   ],
   "source": [
    "print(abalone[:5])"
   ]
  },
  {
   "cell_type": "code",
   "execution_count": 5,
   "metadata": {},
   "outputs": [
    {
     "name": "stdout",
     "output_type": "stream",
     "text": [
      "Sex               0\n",
      "Length            0\n",
      "Diam              0\n",
      "Height            0\n",
      "Whole_Weight      0\n",
      "Shucked_Weight    0\n",
      "Viscera_Weight    0\n",
      "Shell_Weight      0\n",
      "Rings             0\n",
      "dtype: int64\n"
     ]
    }
   ],
   "source": [
    "print(np.sum(pd.isnull(abalone)))"
   ]
  },
  {
   "cell_type": "code",
   "execution_count": 6,
   "metadata": {},
   "outputs": [
    {
     "name": "stdout",
     "output_type": "stream",
     "text": [
      "            Length         Diam       Height  Whole_Weight  Shucked_Weight  \\\n",
      "count  4177.000000  4177.000000  4177.000000   4177.000000     4177.000000   \n",
      "mean      0.523992     0.407881     0.139516      0.828742        0.359367   \n",
      "std       0.120093     0.099240     0.041827      0.490389        0.221963   \n",
      "min       0.075000     0.055000     0.000000      0.002000        0.001000   \n",
      "25%       0.450000     0.350000     0.115000      0.441500        0.186000   \n",
      "50%       0.545000     0.425000     0.140000      0.799500        0.336000   \n",
      "75%       0.615000     0.480000     0.165000      1.153000        0.502000   \n",
      "max       0.815000     0.650000     1.130000      2.825500        1.488000   \n",
      "\n",
      "       Viscera_Weight  Shell_Weight        Rings  \n",
      "count     4177.000000   4177.000000  4177.000000  \n",
      "mean         0.180594      0.238831     9.933684  \n",
      "std          0.109614      0.139203     3.224169  \n",
      "min          0.000500      0.001500     1.000000  \n",
      "25%          0.093500      0.130000     8.000000  \n",
      "50%          0.171000      0.234000     9.000000  \n",
      "75%          0.253000      0.329000    11.000000  \n",
      "max          0.760000      1.005000    29.000000  \n"
     ]
    }
   ],
   "source": [
    "print(abalone.describe())"
   ]
  },
  {
   "cell_type": "code",
   "execution_count": 8,
   "metadata": {},
   "outputs": [
    {
     "name": "stdout",
     "output_type": "stream",
     "text": [
      "Sex\n",
      "F    1307\n",
      "I    1342\n",
      "M    1528\n",
      "Name: Whole_Weight, dtype: int64\n"
     ]
    }
   ],
   "source": [
    "grouped=abalone['Whole_Weight'].groupby(abalone['Sex'])\n",
    "print(grouped.size())"
   ]
  },
  {
   "cell_type": "code",
   "execution_count": 9,
   "metadata": {},
   "outputs": [
    {
     "name": "stdout",
     "output_type": "stream",
     "text": [
      "Sex\n",
      "F    1367.8175\n",
      "I     578.8885\n",
      "M    1514.9500\n",
      "Name: Whole_Weight, dtype: float64\n"
     ]
    }
   ],
   "source": [
    "print(grouped.sum())"
   ]
  },
  {
   "cell_type": "code",
   "execution_count": 10,
   "metadata": {},
   "outputs": [
    {
     "name": "stdout",
     "output_type": "stream",
     "text": [
      "Sex\n",
      "F    1.046532\n",
      "I    0.431363\n",
      "M    0.991459\n",
      "Name: Whole_Weight, dtype: float64\n"
     ]
    }
   ],
   "source": [
    "print(grouped.mean())"
   ]
  },
  {
   "cell_type": "code",
   "execution_count": 11,
   "metadata": {},
   "outputs": [
    {
     "name": "stdout",
     "output_type": "stream",
     "text": [
      "       Length      Diam    Height  Whole_Weight  Shucked_Weight  \\\n",
      "Sex                                                               \n",
      "F    0.579093  0.454732  0.158011      1.046532        0.446188   \n",
      "I    0.427746  0.326494  0.107996      0.431363        0.191035   \n",
      "M    0.561391  0.439287  0.151381      0.991459        0.432946   \n",
      "\n",
      "     Viscera_Weight  Shell_Weight      Rings  \n",
      "Sex                                           \n",
      "F          0.230689      0.302010  11.129304  \n",
      "I          0.092010      0.128182   7.890462  \n",
      "M          0.215545      0.281969  10.705497  \n"
     ]
    }
   ],
   "source": [
    "print(abalone.groupby(abalone['Sex']).mean())"
   ]
  },
  {
   "cell_type": "code",
   "execution_count": 13,
   "metadata": {},
   "outputs": [
    {
     "name": "stdout",
     "output_type": "stream",
     "text": [
      "  Sex  Length   Diam  Height  Whole_Weight  Shucked_Weight  Viscera_Weight  \\\n",
      "0   M   0.455  0.365   0.095        0.5140          0.2245          0.1010   \n",
      "1   M   0.350  0.265   0.090        0.2255          0.0995          0.0485   \n",
      "2   F   0.530  0.420   0.135        0.6770          0.2565          0.1415   \n",
      "3   M   0.440  0.365   0.125        0.5160          0.2155          0.1140   \n",
      "4   I   0.330  0.255   0.080        0.2050          0.0895          0.0395   \n",
      "5   I   0.425  0.300   0.095        0.3515          0.1410          0.0775   \n",
      "6   F   0.530  0.415   0.150        0.7775          0.2370          0.1415   \n",
      "7   F   0.545  0.425   0.125        0.7680          0.2940          0.1495   \n",
      "8   M   0.475  0.370   0.125        0.5095          0.2165          0.1125   \n",
      "9   F   0.550  0.440   0.150        0.8945          0.3145          0.1510   \n",
      "\n",
      "   Shell_Weight  Rings    Length_Cat  \n",
      "0         0.150     15  Length_Short  \n",
      "1         0.070      7  Length_Short  \n",
      "2         0.210      9  Length_Short  \n",
      "3         0.155     10  Length_Short  \n",
      "4         0.055      7  Length_Short  \n",
      "5         0.120      8  Length_Short  \n",
      "6         0.330     20  Length_Short  \n",
      "7         0.260     16  Length_Short  \n",
      "8         0.165      9  Length_Short  \n",
      "9         0.320     19   Length_Long  \n"
     ]
    }
   ],
   "source": [
    "abalone['Length_Cat']=np.where(abalone.Length>np.median(abalone.Length),\n",
    "                               'Length_Long','Length_Short')\n",
    "print(abalone[:10])"
   ]
  },
  {
   "cell_type": "code",
   "execution_count": 14,
   "metadata": {},
   "outputs": [
    {
     "name": "stdout",
     "output_type": "stream",
     "text": [
      "Sex  Length_Cat  \n",
      "F    Length_Long     1.261330\n",
      "     Length_Short    0.589702\n",
      "I    Length_Long     0.923215\n",
      "     Length_Short    0.351234\n",
      "M    Length_Long     1.255182\n",
      "     Length_Short    0.538157\n",
      "Name: Whole_Weight, dtype: float64\n"
     ]
    }
   ],
   "source": [
    "print(abalone['Whole_Weight'].groupby([abalone['Sex'],abalone['Length_Cat']]).mean())"
   ]
  },
  {
   "cell_type": "code",
   "execution_count": 16,
   "metadata": {},
   "outputs": [
    {
     "name": "stdout",
     "output_type": "stream",
     "text": [
      "Sex  Length_Cat  \n",
      "F    Length_Long     1.261330\n",
      "     Length_Short    0.589702\n",
      "I    Length_Long     0.923215\n",
      "     Length_Short    0.351234\n",
      "M    Length_Long     1.255182\n",
      "     Length_Short    0.538157\n",
      "Name: Whole_Weight, dtype: float64\n"
     ]
    }
   ],
   "source": [
    "print(abalone.groupby(['Sex','Length_Cat'])['Whole_Weight'].mean())"
   ]
  },
  {
   "cell_type": "code",
   "execution_count": 17,
   "metadata": {},
   "outputs": [
    {
     "name": "stdout",
     "output_type": "stream",
     "text": [
      "F\n",
      "   Sex    Length_Cat  Whole_Weight  Rings\n",
      "2    F  Length_Short        0.6770      9\n",
      "6    F  Length_Short        0.7775     20\n",
      "7    F  Length_Short        0.7680     16\n",
      "9    F   Length_Long        0.8945     19\n",
      "10   F  Length_Short        0.6065     14\n",
      "I\n",
      "   Sex    Length_Cat  Whole_Weight  Rings\n",
      "4    I  Length_Short        0.2050      7\n",
      "5    I  Length_Short        0.3515      8\n",
      "16   I  Length_Short        0.2905      7\n",
      "21   I  Length_Short        0.2255     10\n",
      "42   I  Length_Short        0.0700      5\n",
      "M\n",
      "   Sex    Length_Cat  Whole_Weight  Rings\n",
      "0    M  Length_Short        0.5140     15\n",
      "1    M  Length_Short        0.2255      7\n",
      "3    M  Length_Short        0.5160     10\n",
      "8    M  Length_Short        0.5095      9\n",
      "11   M  Length_Short        0.4060     10\n"
     ]
    }
   ],
   "source": [
    "for sex, group_data in abalone[['Sex','Length_Cat','Whole_Weight','Rings']].groupby('Sex'):\n",
    "    print(sex)\n",
    "    print(group_data[:5])"
   ]
  },
  {
   "cell_type": "code",
   "execution_count": 24,
   "metadata": {},
   "outputs": [
    {
     "name": "stdout",
     "output_type": "stream",
     "text": [
      "F\n",
      "   Sex   Length_Cat  Whole_Weight  Rings\n",
      "9    F  Length_Long        0.8945     19\n",
      "22   F  Length_Long        0.9395     12\n",
      "23   F  Length_Long        0.7635      9\n",
      "24   F  Length_Long        1.1615     10\n",
      "25   F  Length_Long        0.9285     11\n",
      "F\n",
      "   Sex    Length_Cat  Whole_Weight  Rings\n",
      "2    F  Length_Short        0.6770      9\n",
      "6    F  Length_Short        0.7775     20\n",
      "7    F  Length_Short        0.7680     16\n",
      "10   F  Length_Short        0.6065     14\n",
      "13   F  Length_Short        0.6845     10\n",
      "I\n",
      "    Sex   Length_Cat  Whole_Weight  Rings\n",
      "509   I  Length_Long        0.8735     16\n",
      "510   I  Length_Long        1.1095     10\n",
      "549   I  Length_Long        0.8750     11\n",
      "550   I  Length_Long        1.1625     17\n",
      "551   I  Length_Long        0.9885     13\n",
      "I\n",
      "   Sex    Length_Cat  Whole_Weight  Rings\n",
      "4    I  Length_Short        0.2050      7\n",
      "5    I  Length_Short        0.3515      8\n",
      "16   I  Length_Short        0.2905      7\n",
      "21   I  Length_Short        0.2255     10\n",
      "42   I  Length_Short        0.0700      5\n",
      "M\n",
      "   Sex   Length_Cat  Whole_Weight  Rings\n",
      "27   M  Length_Long        0.9310     12\n",
      "28   M  Length_Long        0.9365     15\n",
      "29   M  Length_Long        0.8635     11\n",
      "30   M  Length_Long        0.9975     10\n",
      "32   M  Length_Long        1.3380     18\n",
      "M\n",
      "   Sex    Length_Cat  Whole_Weight  Rings\n",
      "0    M  Length_Short        0.5140     15\n",
      "1    M  Length_Short        0.2255      7\n",
      "3    M  Length_Short        0.5160     10\n",
      "8    M  Length_Short        0.5095      9\n",
      "11   M  Length_Short        0.4060     10\n"
     ]
    }
   ],
   "source": [
    "for (sex,Length_Cat), group_data in abalone[['Sex','Length_Cat','Whole_Weight','Rings']].groupby(['Sex','Length_Cat']):\n",
    "        print(sex)\n",
    "        print(group_data[:5])"
   ]
  },
  {
   "cell_type": "markdown",
   "metadata": {},
   "source": [
    "============================================================="
   ]
  },
  {
   "cell_type": "code",
   "execution_count": 25,
   "metadata": {},
   "outputs": [],
   "source": [
    "df=DataFrame([[1.4, np.nan],\n",
    "               [7.1, -4.5],\n",
    "               [np.nan, np.nan],\n",
    "               [0.75, -1.3]],\n",
    "              index=['a','b','c','d'],\n",
    "              columns=['one','two'])"
   ]
  },
  {
   "cell_type": "code",
   "execution_count": 26,
   "metadata": {},
   "outputs": [
    {
     "name": "stdout",
     "output_type": "stream",
     "text": [
      "    one  two\n",
      "a  1.40  NaN\n",
      "b  7.10 -4.5\n",
      "c   NaN  NaN\n",
      "d  0.75 -1.3\n"
     ]
    }
   ],
   "source": [
    "print(df)"
   ]
  },
  {
   "cell_type": "code",
   "execution_count": 27,
   "metadata": {},
   "outputs": [
    {
     "name": "stdout",
     "output_type": "stream",
     "text": [
      "one    9.25\n",
      "two   -5.80\n",
      "dtype: float64\n"
     ]
    }
   ],
   "source": [
    "print(df.sum(axis=0))"
   ]
  },
  {
   "cell_type": "code",
   "execution_count": 28,
   "metadata": {},
   "outputs": [
    {
     "name": "stdout",
     "output_type": "stream",
     "text": [
      "a      NaN\n",
      "b    1.300\n",
      "c      NaN\n",
      "d   -0.275\n",
      "dtype: float64\n"
     ]
    }
   ],
   "source": [
    "print(df.mean(axis=1,skipna=False))"
   ]
  },
  {
   "cell_type": "code",
   "execution_count": 29,
   "metadata": {},
   "outputs": [
    {
     "name": "stdout",
     "output_type": "stream",
     "text": [
      "one    b\n",
      "two    d\n",
      "dtype: object\n"
     ]
    }
   ],
   "source": [
    "print(df.idxmax())"
   ]
  },
  {
   "cell_type": "markdown",
   "metadata": {},
   "source": [
    "============================================================="
   ]
  },
  {
   "cell_type": "code",
   "execution_count": 30,
   "metadata": {},
   "outputs": [
    {
     "name": "stdout",
     "output_type": "stream",
     "text": [
      "6636\n"
     ]
    }
   ],
   "source": [
    "db=json.load(open('database.json'))\n",
    "print(len(db))"
   ]
  },
  {
   "cell_type": "code",
   "execution_count": 31,
   "metadata": {},
   "outputs": [
    {
     "name": "stdout",
     "output_type": "stream",
     "text": [
      "dict_keys(['id', 'description', 'tags', 'manufacturer', 'group', 'portions', 'nutrients'])\n"
     ]
    }
   ],
   "source": [
    "print(db[0].keys())"
   ]
  },
  {
   "cell_type": "code",
   "execution_count": 33,
   "metadata": {},
   "outputs": [
    {
     "name": "stdout",
     "output_type": "stream",
     "text": [
      "25.18\n"
     ]
    }
   ],
   "source": [
    "print(db[0]['nutrients'][0]['value'])"
   ]
  },
  {
   "cell_type": "code",
   "execution_count": 34,
   "metadata": {},
   "outputs": [
    {
     "name": "stdout",
     "output_type": "stream",
     "text": [
      "                   description        group units    value\n",
      "0                      Protein  Composition     g    25.18\n",
      "1            Total lipid (fat)  Composition     g    29.20\n",
      "2  Carbohydrate, by difference  Composition     g     3.06\n",
      "3                          Ash        Other     g     3.28\n",
      "4                       Energy       Energy  kcal   376.00\n",
      "5                        Water  Composition     g    39.28\n",
      "6                       Energy       Energy    kJ  1573.00\n"
     ]
    }
   ],
   "source": [
    "nutrients=DataFrame(db[0]['nutrients'])\n",
    "print(nutrients[:7])"
   ]
  },
  {
   "cell_type": "code",
   "execution_count": 36,
   "metadata": {},
   "outputs": [
    {
     "name": "stdout",
     "output_type": "stream",
     "text": [
      "                          description                   group    id  \\\n",
      "0                     Cheese, caraway  Dairy and Egg Products  1008   \n",
      "1                     Cheese, cheddar  Dairy and Egg Products  1009   \n",
      "2                        Cheese, edam  Dairy and Egg Products  1018   \n",
      "3                        Cheese, feta  Dairy and Egg Products  1019   \n",
      "4  Cheese, mozzarella, part skim milk  Dairy and Egg Products  1028   \n",
      "\n",
      "  manufacturer  \n",
      "0               \n",
      "1               \n",
      "2               \n",
      "3               \n",
      "4               \n"
     ]
    }
   ],
   "source": [
    "info_keys=['description','group','id','manufacturer']\n",
    "info=DataFrame(db,columns=info_keys)\n",
    "print(info[:5])"
   ]
  },
  {
   "cell_type": "code",
   "execution_count": 39,
   "metadata": {},
   "outputs": [
    {
     "name": "stdout",
     "output_type": "stream",
     "text": [
      "0                                      Cheese, caraway\n",
      "1                                      Cheese, cheddar\n",
      "2                                         Cheese, edam\n",
      "3                                         Cheese, feta\n",
      "4                   Cheese, mozzarella, part skim milk\n",
      "5     Cheese, mozzarella, part skim milk, low moisture\n",
      "6                                       Cheese, romano\n",
      "7                                    Cheese, roquefort\n",
      "8    Cheese spread, pasteurized process, american, ...\n",
      "9                          Cream, fluid, half and half\n",
      "Name: description, dtype: object\n"
     ]
    }
   ],
   "source": [
    "print(info['description'][:10])"
   ]
  },
  {
   "cell_type": "code",
   "execution_count": 40,
   "metadata": {},
   "outputs": [
    {
     "name": "stdout",
     "output_type": "stream",
     "text": [
      "<class 'pandas.core.frame.DataFrame'>\n",
      "RangeIndex: 6636 entries, 0 to 6635\n",
      "Data columns (total 4 columns):\n",
      "description     6636 non-null object\n",
      "group           6636 non-null object\n",
      "id              6636 non-null int64\n",
      "manufacturer    5195 non-null object\n",
      "dtypes: int64(1), object(3)\n",
      "memory usage: 207.5+ KB\n",
      "None\n"
     ]
    }
   ],
   "source": [
    "print(info.info())"
   ]
  },
  {
   "cell_type": "code",
   "execution_count": 41,
   "metadata": {},
   "outputs": [
    {
     "name": "stdout",
     "output_type": "stream",
     "text": [
      "Vegetables and Vegetable Products    812\n",
      "Beef Products                        618\n",
      "Baked Products                       496\n",
      "Breakfast Cereals                    403\n",
      "Fast Foods                           365\n",
      "Legumes and Legume Products          365\n",
      "Lamb, Veal, and Game Products        345\n",
      "Sweets                               341\n",
      "Pork Products                        328\n",
      "Fruits and Fruit Juices              328\n",
      "Beverages                            278\n",
      "Soups, Sauces, and Gravies           275\n",
      "Finfish and Shellfish Products       255\n",
      "Baby Foods                           209\n",
      "Cereal Grains and Pasta              183\n",
      "Ethnic Foods                         165\n",
      "Snacks                               162\n",
      "Nut and Seed Products                128\n",
      "Poultry Products                     116\n",
      "Sausages and Luncheon Meats          111\n",
      "Dairy and Egg Products               107\n",
      "Fats and Oils                         97\n",
      "Meals, Entrees, and Sidedishes        57\n",
      "Restaurant Foods                      51\n",
      "Spices and Herbs                      41\n",
      "Name: group, dtype: int64\n"
     ]
    }
   ],
   "source": [
    "print(pd.value_counts(info.group))"
   ]
  }
 ],
 "metadata": {
  "kernelspec": {
   "display_name": "Python 3",
   "language": "python",
   "name": "python3"
  },
  "language_info": {
   "codemirror_mode": {
    "name": "ipython",
    "version": 3
   },
   "file_extension": ".py",
   "mimetype": "text/x-python",
   "name": "python",
   "nbconvert_exporter": "python",
   "pygments_lexer": "ipython3",
   "version": "3.6.5"
  }
 },
 "nbformat": 4,
 "nbformat_minor": 2
}

