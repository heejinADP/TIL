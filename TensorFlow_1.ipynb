{
 "cells": [
  {
   "cell_type": "code",
   "execution_count": 68,
   "metadata": {},
   "outputs": [],
   "source": [
    "import tensorflow as tf"
   ]
  },
  {
   "cell_type": "code",
   "execution_count": 69,
   "metadata": {},
   "outputs": [
    {
     "name": "stdout",
     "output_type": "stream",
     "text": [
      "Tensor(\"Const_65:0\", shape=(), dtype=string)\n"
     ]
    }
   ],
   "source": [
    "hello = tf.constant('hello')\n",
    "print(hello)  #tensor에 대한 정보 출력"
   ]
  },
  {
   "cell_type": "code",
   "execution_count": 70,
   "metadata": {},
   "outputs": [
    {
     "name": "stdout",
     "output_type": "stream",
     "text": [
      "<tensorflow.python.client.session.Session object at 0x000001A16DA4AA20>\n"
     ]
    }
   ],
   "source": [
    "sess = tf.Session()\n",
    "print(sess)"
   ]
  },
  {
   "cell_type": "code",
   "execution_count": 71,
   "metadata": {},
   "outputs": [
    {
     "data": {
      "text/plain": [
       "b'hello'"
      ]
     },
     "execution_count": 71,
     "metadata": {},
     "output_type": "execute_result"
    }
   ],
   "source": [
    "sess.run(hello)  # 그래프 실행"
   ]
  },
  {
   "cell_type": "code",
   "execution_count": 72,
   "metadata": {},
   "outputs": [
    {
     "data": {
      "text/plain": [
       "'hello'"
      ]
     },
     "execution_count": 72,
     "metadata": {},
     "output_type": "execute_result"
    }
   ],
   "source": [
    "str(sess.run(hello), encoding = 'utf-8')"
   ]
  },
  {
   "cell_type": "code",
   "execution_count": 73,
   "metadata": {},
   "outputs": [],
   "source": [
    "a = tf.constant(5, dtype = tf.float32)\n",
    "b = tf.constant(10, dtype = tf.float32)\n",
    "c = tf.constant(2, dtype = tf.float32)\n",
    "d = a*b+c"
   ]
  },
  {
   "cell_type": "code",
   "execution_count": 77,
   "metadata": {},
   "outputs": [
    {
     "name": "stdout",
     "output_type": "stream",
     "text": [
      "8\n"
     ]
    }
   ],
   "source": [
    "sess = tf.Session()\n",
    "res = sess.run(d)\n",
    "print(res)"
   ]
  },
  {
   "cell_type": "code",
   "execution_count": 76,
   "metadata": {},
   "outputs": [
    {
     "name": "stdout",
     "output_type": "stream",
     "text": [
      "Tensor(\"Const_71:0\", shape=(), dtype=int32)\n",
      "3\n",
      "3\n"
     ]
    }
   ],
   "source": [
    "a = tf.constant(3)\n",
    "print(a)\n",
    "\n",
    "# sess=tf.Session()\n",
    "# print(sess.run(a))\n",
    "# sess.close() 세션종료->메모리 자원 반환\n",
    "\n",
    "with tf.Session() as sess:  #sess라는 이름으로 세션 객체를 만들어라\n",
    "    print(sess.run(a))\n",
    "    print(a.eval())"
   ]
  },
  {
   "cell_type": "code",
   "execution_count": 74,
   "metadata": {},
   "outputs": [
    {
     "name": "stdout",
     "output_type": "stream",
     "text": [
      "5\n",
      "3\n",
      "15\n",
      "8\n",
      "23\n"
     ]
    }
   ],
   "source": [
    "a = tf.constant(5)\n",
    "b = tf.constant(3)\n",
    "c = tf.multiply(a,b)   # c = a*b\n",
    "d = tf.add(a,b)        # d = a+b\n",
    "e = tf.add(c,d)        # e = c+d\n",
    "sess = tf.Session()\n",
    "print(sess.run(a))\n",
    "print(sess.run(b))\n",
    "print(sess.run(c))\n",
    "print(sess.run(d))\n",
    "print(sess.run(e))"
   ]
  },
  {
   "cell_type": "code",
   "execution_count": 75,
   "metadata": {},
   "outputs": [
    {
     "name": "stdout",
     "output_type": "stream",
     "text": [
      "[2 4 6]\n"
     ]
    }
   ],
   "source": [
    "inputdata = [1,2,3]\n",
    "x = tf.placeholder(dtype = tf.int32) # 실행시점에 데이터가 전달\n",
    "y = x*2\n",
    "sess = tf.Session()\n",
    "res = sess.run(y,feed_dict={x:inputdata})\n",
    "print(res)"
   ]
  },
  {
   "cell_type": "code",
   "execution_count": 78,
   "metadata": {},
   "outputs": [
    {
     "name": "stdout",
     "output_type": "stream",
     "text": [
      "6.0\n",
      "12.0\n"
     ]
    }
   ],
   "source": [
    "a = tf.placeholder(dtype = tf.float32)\n",
    "b = tf.placeholder(\"float\")\n",
    "y = tf.multiply(a,b)\n",
    "z = tf.add(y,y)\n",
    "\n",
    "sess = tf.Session()\n",
    "print(sess.run(y, feed_dict={a:3, b:2}))\n",
    "print(sess.run(z, feed_dict={a:3, b:2}))"
   ]
  },
  {
   "cell_type": "code",
   "execution_count": 79,
   "metadata": {},
   "outputs": [
    {
     "name": "stdout",
     "output_type": "stream",
     "text": [
      "20\n"
     ]
    }
   ],
   "source": [
    "x = tf.constant(15)\n",
    "y = tf.Variable(x+5)\n",
    "sess = tf.Session()\n",
    "init=tf.global_variables_initializer() \n",
    "sess.run(init)  # 변수 초기화(!)\n",
    "print(sess.run(y))"
   ]
  },
  {
   "cell_type": "code",
   "execution_count": 80,
   "metadata": {},
   "outputs": [
    {
     "name": "stdout",
     "output_type": "stream",
     "text": [
      "[ 2.  4.  6.  8. 10.]\n"
     ]
    }
   ],
   "source": [
    "inputdata = [1,2,3,4,5]\n",
    "x = tf.placeholder(dtype = tf.float32)\n",
    "w = tf.Variable(2, dtype = tf.float32)\n",
    "y = tf.multiply(w,x) # y = w*x\n",
    "sess = tf.Session()\n",
    "init = tf.global_variables_initializer()\n",
    "sess.run(init)\n",
    "print(sess.run(y, feed_dict={x:inputdata}))"
   ]
  },
  {
   "cell_type": "code",
   "execution_count": 81,
   "metadata": {},
   "outputs": [
    {
     "name": "stdout",
     "output_type": "stream",
     "text": [
      "[-1.         -0.7777778  -0.5555556  -0.3333333  -0.1111111   0.11111116\n",
      "  0.33333337  0.5555556   0.7777778   1.        ]\n"
     ]
    }
   ],
   "source": [
    "x = tf.linspace(-1.0, 1.0, 10)  # 구간 나누기 함수\n",
    "sess = tf.Session()\n",
    "print(sess.run(x))\n",
    "sess.close()"
   ]
  },
  {
   "cell_type": "code",
   "execution_count": 86,
   "metadata": {},
   "outputs": [
    {
     "name": "stdout",
     "output_type": "stream",
     "text": [
      "32.0\n"
     ]
    }
   ],
   "source": [
    "a = tf.placeholder(\"float\")\n",
    "b = tf.placeholder(\"float\")\n",
    "y = tf.multiply(a,b)\n",
    "z = tf.add(y,y)\n",
    "with tf.Session() as sess :\n",
    "    print(sess.run(z, feed_dict={a:4, b:4})) "
   ]
  },
  {
   "cell_type": "code",
   "execution_count": 85,
   "metadata": {},
   "outputs": [
    {
     "name": "stdout",
     "output_type": "stream",
     "text": [
      "10.0\n"
     ]
    }
   ],
   "source": [
    "a = tf.placeholder(\"float\")\n",
    "b = tf.placeholder(\"float\")\n",
    "y = tf.multiply(a,b)\n",
    "z = tf.add(y,y)\n",
    "with tf.Session() as sess :\n",
    "    print(sess.run(z, feed_dict={a:4, b:4, y:5})) #y값 우선"
   ]
  },
  {
   "cell_type": "code",
   "execution_count": 83,
   "metadata": {},
   "outputs": [
    {
     "name": "stdout",
     "output_type": "stream",
     "text": [
      "[[2. 4. 6.]\n",
      " [2. 4. 6.]\n",
      " [2. 4. 6.]]\n"
     ]
    }
   ],
   "source": [
    "x = tf.constant([[1.0, 2.0, 3.0]])  #1행 3열\n",
    "w = tf.constant([[2.0], [2.0], [2.0]]) #3행 1열\n",
    "y = tf.matmul(w,x)\n",
    "sess = tf.Session()\n",
    "res = sess.run(y)\n",
    "print(res)"
   ]
  },
  {
   "cell_type": "code",
   "execution_count": 82,
   "metadata": {},
   "outputs": [
    {
     "name": "stdout",
     "output_type": "stream",
     "text": [
      "[[12.]]\n"
     ]
    }
   ],
   "source": [
    "x = tf.constant([[1.0, 2.0, 3.0]])  #1행 3열\n",
    "w = tf.constant([[2.0], [2.0], [2.0]]) #3행 1열\n",
    "y = tf.matmul(x,w)\n",
    "sess = tf.Session()\n",
    "res = sess.run(y)\n",
    "print(res)"
   ]
  },
  {
   "cell_type": "code",
   "execution_count": 84,
   "metadata": {},
   "outputs": [
    {
     "name": "stdout",
     "output_type": "stream",
     "text": [
      "[[12.]]\n"
     ]
    }
   ],
   "source": [
    "x = tf.Variable([[1.0, 2.0, 3.0]])  #1행 3열\n",
    "w = tf.constant([[2.0], [2.0], [2.0]]) #3행 1열\n",
    "y = tf.matmul(x,w)\n",
    "sess = tf.Session()\n",
    "init = tf.global_variables_initializer()\n",
    "sess.run(init)\n",
    "res = sess.run(y)\n",
    "print(res)"
   ]
  },
  {
   "cell_type": "code",
   "execution_count": 88,
   "metadata": {},
   "outputs": [
    {
     "name": "stdout",
     "output_type": "stream",
     "text": [
      "[[12.]\n",
      " [12.]\n",
      " [18.]]\n"
     ]
    }
   ],
   "source": [
    "input_data = [[1.0, 2.0, 3.0],[1.0, 2.0, 3.0],[2.0, 3.0, 4.0]] # 3행 3열\n",
    "x = tf.placeholder(dtype = tf.float32, shape = [None,3])  # 행:?, 열:3 training data가 늘어날 수 있어서 행값에 None\n",
    "w = tf.Variable([[2.0], [2.0], [2.0]]) # w의 초기값 : 2, 데이터타입 : float\n",
    "y = tf.matmul(x,w)\n",
    "sess = tf.Session()\n",
    "init = tf.global_variables_initializer()\n",
    "sess.run(init)\n",
    "res = sess.run(y, feed_dict={x:input_data})\n",
    "print(res)"
   ]
  },
  {
   "cell_type": "code",
   "execution_count": 87,
   "metadata": {},
   "outputs": [
    {
     "name": "stdout",
     "output_type": "stream",
     "text": [
      "[array([21.], dtype=float32), array([7.], dtype=float32)]\n",
      "[21.]\n",
      "[7.]\n"
     ]
    }
   ],
   "source": [
    "input1 = tf.constant([3.0])\n",
    "input2 = tf.constant([2.0])\n",
    "input3 = tf.constant([5.0])\n",
    "inter = tf.add(input2, input3)\n",
    "mul = tf.multiply(input1, inter)\n",
    "with tf.Session() as sess :\n",
    "    res= sess.run([mul, inter]) #리스트로 반환(인덱스 선택 가능)\n",
    "    mulres = sess.run(mul)\n",
    "    mulinter = sess.run(inter)\n",
    "print(res)\n",
    "print(mulres)\n",
    "print(mulinter)"
   ]
  }
 ],
 "metadata": {
  "kernelspec": {
   "display_name": "Python 3",
   "language": "python",
   "name": "python3"
  },
  "language_info": {
   "codemirror_mode": {
    "name": "ipython",
    "version": 3
   },
   "file_extension": ".py",
   "mimetype": "text/x-python",
   "name": "python",
   "nbconvert_exporter": "python",
   "pygments_lexer": "ipython3",
   "version": "3.6.6"
  }
 },
 "nbformat": 4,
 "nbformat_minor": 2
}
