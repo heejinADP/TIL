{
 "cells": [
  {
   "cell_type": "markdown",
   "metadata": {},
   "source": [
    "# Functions of Numpy 7"
   ]
  },
  {
   "cell_type": "code",
   "execution_count": 1,
   "metadata": {},
   "outputs": [],
   "source": [
    "import pandas as pd\n",
    "from pandas import DataFrame as df"
   ]
  },
  {
   "cell_type": "code",
   "execution_count": 2,
   "metadata": {},
   "outputs": [
    {
     "name": "stdout",
     "output_type": "stream",
     "text": [
      "    a   b   c   d\n",
      "0  a0  b0  c0  d0\n",
      "1  a1  b1  c1  d1\n",
      "2  a2  b2  c2  d2\n"
     ]
    }
   ],
   "source": [
    "df_1=df({\n",
    "    'a':['a0','a1','a2'],\n",
    "    'b':['b0','b1','b2'],\n",
    "    'c':['c0','c1','c2'],\n",
    "    'd':['d0','d1','d2']},\n",
    "    index=[0,1,2])\n",
    "print(df_1)"
   ]
  },
  {
   "cell_type": "code",
   "execution_count": 3,
   "metadata": {},
   "outputs": [
    {
     "name": "stdout",
     "output_type": "stream",
     "text": [
      "    a   b   c   d\n",
      "3  a3  b3  c3  d3\n",
      "4  a4  b4  c4  d4\n",
      "5  a5  b5  c5  d5\n"
     ]
    }
   ],
   "source": [
    "df_2=df({\n",
    "    'a': ['a3', 'a4', 'a5'],\n",
    "    'b': ['b3', 'b4', 'b5'],\n",
    "    'c': ['c3', 'c4', 'c5'],\n",
    "    'd': ['d3', 'd4', 'd5']},\n",
    "    index=[3,4,5])\n",
    "print(df_2)"
   ]
  },
  {
   "cell_type": "code",
   "execution_count": 4,
   "metadata": {},
   "outputs": [
    {
     "name": "stdout",
     "output_type": "stream",
     "text": [
      "    e   f   g   h\n",
      "0  e3  f3  g3  h3\n",
      "1  e4  f4  g4  h4\n",
      "2  e5  f5  g5  h5\n"
     ]
    }
   ],
   "source": [
    "df_3=df({\n",
    "    'e': ['e3', 'e4', 'e5'],\n",
    "    'f': ['f3', 'f4', 'f5'],\n",
    "    'g': ['g3', 'g4', 'g5'],\n",
    "    'h': ['h3', 'h4', 'h5']},\n",
    "    index=[0,1,2])\n",
    "print(df_3)"
   ]
  },
  {
   "cell_type": "code",
   "execution_count": 5,
   "metadata": {},
   "outputs": [
    {
     "name": "stdout",
     "output_type": "stream",
     "text": [
      "    a   b   c   e\n",
      "0  a0  b0  c0  e3\n",
      "1  a1  b1  c1  e4\n",
      "3  a2  b2  c2  e5\n"
     ]
    }
   ],
   "source": [
    "df_4=df({\n",
    "    'a':['a0','a1','a2'],\n",
    "    'b':['b0','b1','b2'],\n",
    "    'c':['c0','c1','c2'],\n",
    "    'e':['e3','e4','e5']},\n",
    "    index=[0,1,3])\n",
    "print(df_4)"
   ]
  },
  {
   "cell_type": "code",
   "execution_count": 6,
   "metadata": {},
   "outputs": [
    {
     "name": "stdout",
     "output_type": "stream",
     "text": [
      "    a   b   c   d\n",
      "0  a0  b0  c0  d0\n",
      "1  a1  b1  c1  d1\n",
      "2  a2  b2  c2  d2\n",
      "3  a3  b3  c3  d3\n",
      "4  a4  b4  c4  d4\n",
      "5  a5  b5  c5  d5\n"
     ]
    }
   ],
   "source": [
    "#axis=0 : 디폴트, 상하 합치기\n",
    "df_12_axis0=pd.concat([df_1, df_2])\n",
    "print(df_12_axis0)"
   ]
  },
  {
   "cell_type": "code",
   "execution_count": 7,
   "metadata": {},
   "outputs": [
    {
     "name": "stdout",
     "output_type": "stream",
     "text": [
      "    a   b   c   d   e   f   g   h\n",
      "0  a0  b0  c0  d0  e3  f3  g3  h3\n",
      "1  a1  b1  c1  d1  e4  f4  g4  h4\n",
      "2  a2  b2  c2  d2  e5  f5  g5  h5\n"
     ]
    }
   ],
   "source": [
    "#axis=1 : 좌우 합치기\n",
    "df_13_axis1=pd.concat([df_1, df_3], axis=1)\n",
    "print(df_13_axis1)"
   ]
  },
  {
   "cell_type": "code",
   "execution_count": 8,
   "metadata": {},
   "outputs": [
    {
     "name": "stdout",
     "output_type": "stream",
     "text": [
      "    a   b   c    d    e\n",
      "0  a0  b0  c0   d0  NaN\n",
      "1  a1  b1  c1   d1  NaN\n",
      "2  a2  b2  c2   d2  NaN\n",
      "0  a0  b0  c0  NaN   e3\n",
      "1  a1  b1  c1  NaN   e4\n",
      "3  a2  b2  c2  NaN   e5\n"
     ]
    },
    {
     "name": "stderr",
     "output_type": "stream",
     "text": [
      "C:\\Users\\403-6\\Anaconda3\\lib\\site-packages\\ipykernel_launcher.py:2: FutureWarning: Sorting because non-concatenation axis is not aligned. A future version\n",
      "of pandas will change to not sort by default.\n",
      "\n",
      "To accept the future behavior, pass 'sort=True'.\n",
      "\n",
      "To retain the current behavior and silence the warning, pass sort=False\n",
      "\n",
      "  \n"
     ]
    }
   ],
   "source": [
    "# df1과 df4를 outer_join 수행 : 두 데이터 프레임의 합집합\n",
    "df_14_outer=pd.concat([df_1,df_4], join='outer')\n",
    "print(df_14_outer)"
   ]
  },
  {
   "cell_type": "code",
   "execution_count": 9,
   "metadata": {},
   "outputs": [
    {
     "name": "stdout",
     "output_type": "stream",
     "text": [
      "    a   b   c\n",
      "0  a0  b0  c0\n",
      "1  a1  b1  c1\n",
      "2  a2  b2  c2\n",
      "0  a0  b0  c0\n",
      "1  a1  b1  c1\n",
      "3  a2  b2  c2\n"
     ]
    }
   ],
   "source": [
    "# df1과 df4를 inner_join 수행 :두 데이터 프레임의 교집합\n",
    "df_14_inner=pd.concat([df_1,df_4], join='inner')\n",
    "print(df_14_inner)"
   ]
  },
  {
   "cell_type": "code",
   "execution_count": 10,
   "metadata": {},
   "outputs": [
    {
     "name": "stdout",
     "output_type": "stream",
     "text": [
      "     a    b    c    d    a    b    c    e\n",
      "0   a0   b0   c0   d0   a0   b0   c0   e3\n",
      "1   a1   b1   c1   d1   a1   b1   c1   e4\n",
      "2   a2   b2   c2   d2  NaN  NaN  NaN  NaN\n",
      "3  NaN  NaN  NaN  NaN   a2   b2   c2   e5\n"
     ]
    }
   ],
   "source": [
    "df_14_outer_axis1=pd.concat([df_1, df_4],join='outer',axis=1)\n",
    "print(df_14_outer_axis1)"
   ]
  },
  {
   "cell_type": "code",
   "execution_count": 11,
   "metadata": {},
   "outputs": [
    {
     "name": "stdout",
     "output_type": "stream",
     "text": [
      "    a   b   c   d   a   b   c   e\n",
      "0  a0  b0  c0  d0  a0  b0  c0  e3\n",
      "1  a1  b1  c1  d1  a1  b1  c1  e4\n"
     ]
    }
   ],
   "source": [
    "df_14_inner_axis1=pd.concat([df_1, df_4],join='inner',axis=1)\n",
    "print(df_14_inner_axis1)"
   ]
  },
  {
   "cell_type": "code",
   "execution_count": 12,
   "metadata": {},
   "outputs": [
    {
     "name": "stdout",
     "output_type": "stream",
     "text": [
      "    a   b   c   d    a    b    c    e\n",
      "0  a0  b0  c0  d0   a0   b0   c0   e3\n",
      "1  a1  b1  c1  d1   a1   b1   c1   e4\n",
      "2  a2  b2  c2  d2  NaN  NaN  NaN  NaN\n"
     ]
    }
   ],
   "source": [
    "df_14_join_axes_axis1=pd.concat([df_1, df_4],join_axes=[df_1.index],axis=1)\n",
    "print(df_14_join_axes_axis1)"
   ]
  }
 ],
 "metadata": {
  "kernelspec": {
   "display_name": "Python 3",
   "language": "python",
   "name": "python3"
  },
  "language_info": {
   "codemirror_mode": {
    "name": "ipython",
    "version": 3
   },
   "file_extension": ".py",
   "mimetype": "text/x-python",
   "name": "python",
   "nbconvert_exporter": "python",
   "pygments_lexer": "ipython3",
   "version": "3.6.5"
  }
 },
 "nbformat": 4,
 "nbformat_minor": 2
}

