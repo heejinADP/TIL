{
 "cells": [
  {
   "cell_type": "code",
   "execution_count": 7,
   "metadata": {},
   "outputs": [],
   "source": [
    "import tensorflow as tf\n",
    "import random\n",
    "import matplotlib.pyplot as plt\n",
    "tf.set_random_seed(777)\n",
    "import warnings\n",
    "warnings.filterwarnings('ignore')"
   ]
  },
  {
   "cell_type": "code",
   "execution_count": 8,
   "metadata": {},
   "outputs": [
    {
     "name": "stdout",
     "output_type": "stream",
     "text": [
      "Extracting ./MNIST_DATA\\train-images-idx3-ubyte.gz\n",
      "Extracting ./MNIST_DATA\\train-labels-idx1-ubyte.gz\n",
      "Extracting ./MNIST_DATA\\t10k-images-idx3-ubyte.gz\n",
      "Extracting ./MNIST_DATA\\t10k-labels-idx1-ubyte.gz\n"
     ]
    }
   ],
   "source": [
    "'''\n",
    "6만개 = 트레이닝 데이터셋\n",
    "1만개 = 테스트 데이터셋 다운로드\n",
    "'''\n",
    "\n",
    "from tensorflow.examples.tutorials.mnist import input_data\n",
    "mnist = input_data.read_data_sets(\"./MNIST_DATA\", one_hot = True)"
   ]
  },
  {
   "cell_type": "code",
   "execution_count": 24,
   "metadata": {},
   "outputs": [
    {
     "name": "stdout",
     "output_type": "stream",
     "text": [
      "에폭 :     1 \tcost :  2.822586681\n",
      "에폭 :     2 \tcost :  1.078450308\n",
      "에폭 :     3 \tcost :  0.867911742\n",
      "에폭 :     4 \tcost :  0.764602814\n",
      "에폭 :     5 \tcost :  0.698292835\n",
      "에폭 :     6 \tcost :  0.651058986\n",
      "에폭 :     7 \tcost :  0.614030538\n",
      "에폭 :     8 \tcost :  0.585306535\n",
      "에폭 :     9 \tcost :  0.562023124\n",
      "에폭 :    10 \tcost :  0.540933899\n",
      "에폭 :    11 \tcost :  0.523964002\n",
      "에폭 :    12 \tcost :  0.507869062\n",
      "에폭 :    13 \tcost :  0.495070499\n",
      "에폭 :    14 \tcost :  0.481970690\n",
      "에폭 :    15 \tcost :  0.471029825\n",
      "학습이 완료되었습니다\n",
      "모델 정확도 :  [0.89]\n",
      "Label :  [3]\n",
      "prediction :  [3]\n"
     ]
    }
   ],
   "source": [
    "nb_classes = 10  #0~9\n",
    "x = tf.placeholder(tf.float32, [None, 28*28])\n",
    "y = tf.placeholder(tf.float32, [None, nb_classes])\n",
    "w = tf.Variable(tf.random_normal([28*28, nb_classes]))\n",
    "b = tf.Variable(tf.random_normal([nb_classes]))\n",
    "\n",
    "hf = tf.nn.softmax(tf.matmul(x,w) + b)\n",
    "cost = tf.reduce_mean(tf.reduce_sum(y*-tf.log(hf), axis = 1))\n",
    "optimizer = tf.train.GradientDescentOptimizer(0.1).minimize(cost)\n",
    "is_correct = tf.equal(tf.argmax(hf,1), tf.argmax(y,1))\n",
    "accuracy = tf.reduce_mean(tf.cast(is_correct, tf.float32))\n",
    "\n",
    "training_epochs = 15\n",
    "batch_size = 100\n",
    "\n",
    "with tf.Session() as sess :\n",
    "    sess.run(tf.global_variables_initializer())\n",
    "    for epoch in range(training_epochs):\n",
    "        avg_cost = 0\n",
    "        total_batch = int(mnist.train.num_examples/batch_size) # 600=6만/100번\n",
    "        for i in range(total_batch): #600번\n",
    "            batch_xs, batch_ys = mnist.train.next_batch(batch_size) # 100개씩 데이터 읽어옴\n",
    "            c, _ = sess.run([cost, optimizer], feed_dict = {x:batch_xs, y:batch_ys})\n",
    "            avg_cost += c/total_batch\n",
    "        print('에폭 : ', '%4d' % (epoch+1), '\\tcost : ', '{:.9f}'.format(avg_cost))\n",
    "    print(\"학습이 완료되었습니다\")\n",
    "    print(\"모델 정확도 : \", sess.run([accuracy], feed_dict = {x:mnist.test.images, y:mnist.test.labels}))\n",
    "    r = random.randint(0, mnist.test.num_examples-1)\n",
    "    print(\"Label : \", sess.run(tf.argmax(mnist.test.labels[r:r+1],1)))\n",
    "    print(\"prediction : \", sess.run(tf.argmax(hf,1), feed_dict = {x:mnist.test.images[r:r+1]}))"
   ]
  },
  {
   "cell_type": "code",
   "execution_count": 25,
   "metadata": {},
   "outputs": [
    {
     "data": {
      "image/png": "[encoded data removed]",
      "text/plain": [
       "<Figure size 432x288 with 1 Axes>"
      ]
     },
     "metadata": {
      "needs_background": "light"
     },
     "output_type": "display_data"
    }
   ],
   "source": [
    "plt.imshow(mnist.test.images[r:r+1].reshape(28,28))\n",
    "plt.show()"
   ]
  }
 ],
 "metadata": {
  "kernelspec": {
   "display_name": "Python 3",
   "language": "python",
   "name": "python3"
  },
  "language_info": {
   "codemirror_mode": {
    "name": "ipython",
    "version": 3
   },
   "file_extension": ".py",
   "mimetype": "text/x-python",
   "name": "python",
   "nbconvert_exporter": "python",
   "pygments_lexer": "ipython3",
   "version": "3.6.6"
  }
 },
 "nbformat": 4,
 "nbformat_minor": 2
}
